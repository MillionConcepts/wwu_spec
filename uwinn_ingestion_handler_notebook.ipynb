{
 "cells": [
  {
   "cell_type": "code",
   "execution_count": 7,
   "id": "b9ec1a57",
   "metadata": {},
   "outputs": [],
   "source": [
    "from itertools import chain\n",
    "import os\n",
    "from pathlib import Path\n",
    "from random import choice\n",
    "\n",
    "import numpy as np\n",
    "import pandas as pd\n",
    "from rich import print as rprint\n",
    "\n",
    "from django.conf import settings\n",
    "from visor.dj_utils import modeldict\n",
    "from uwinn_ingest.ingest_uwinn import (\n",
    "    read_uwinn_split,\n",
    "    logger,\n",
    "    format_headers,\n",
    "    translate_headers,\n",
    "    check_split_goodness\n",
    ")\n",
    "from uwinn_ingest.cases import KNOWN_BAD_SPLITS\n",
    "from visor.models import Database, Sample\n",
    "\n",
    "split_path = Path(\"uwinn_ingest/All_UWinn_splits_070621\")\n",
    "splits = list(split_path.iterdir())\n",
    "\n",
    "os.environ[\"DJANGO_ALLOW_ASYNC_UNSAFE\"] = \"true\""
   ]
  },
  {
   "cell_type": "code",
   "execution_count": null,
   "id": "5856edc3",
   "metadata": {},
   "outputs": [],
   "source": [
    "uwinn = Database()\n",
    "uwinn.name = \"University of Winnipeg\"\n",
    "uwinn.short_name = \"UWinn\"\n",
    "uwinn.clean()\n",
    "uwinn.save()"
   ]
  },
  {
   "cell_type": "code",
   "execution_count": null,
   "id": "7430be7d",
   "metadata": {},
   "outputs": [],
   "source": []
  },
  {
   "cell_type": "code",
   "execution_count": null,
   "id": "24f6b3a0",
   "metadata": {},
   "outputs": [],
   "source": [
    "modeldict(a[0])"
   ]
  },
  {
   "cell_type": "code",
   "execution_count": null,
   "id": "28183e0c",
   "metadata": {},
   "outputs": [],
   "source": [
    "a = Sample.objects.all()\n",
    "len(a)"
   ]
  },
  {
   "cell_type": "code",
   "execution_count": null,
   "id": "1a313955",
   "metadata": {},
   "outputs": [],
   "source": [
    "a = Sample.objects.values_list('filename')\n",
    "len(set(a))"
   ]
  },
  {
   "cell_type": "code",
   "execution_count": null,
   "id": "0b8a9e3f",
   "metadata": {},
   "outputs": [],
   "source": []
  },
  {
   "cell_type": "code",
   "execution_count": 2,
   "id": "80ce2b3c",
   "metadata": {},
   "outputs": [],
   "source": [
    "all_sids = pd.Series(\n",
    "    list(chain.from_iterable(Sample.objects.values_list('sample_id')))\n",
    ")"
   ]
  },
  {
   "cell_type": "code",
   "execution_count": 3,
   "id": "e5a3b2ff",
   "metadata": {},
   "outputs": [
    {
     "data": {
      "text/plain": [
       "Nan             134\n",
       "Spectralon       26\n",
       "Spectralon_1     16\n",
       "Spectralon_0     16\n",
       "LCA101           15\n",
       "               ... \n",
       "ILL105_5          1\n",
       "ILL105_4          1\n",
       "ILL105_3          1\n",
       "ILL105_2          1\n",
       "Zeo201_1          1\n",
       "Length: 8569, dtype: int64"
      ]
     },
     "execution_count": 3,
     "metadata": {},
     "output_type": "execute_result"
    }
   ],
   "source": [
    "all_sids.value_counts()"
   ]
  },
  {
   "cell_type": "code",
   "execution_count": 13,
   "id": "1728789b",
   "metadata": {},
   "outputs": [],
   "source": [
    "nans = list(Sample.objects.filter(sample_id__iexact=\"nan\"))\n",
    "pd.Series(pd.Series([n.filename for n in nans]).unique()).to_csv('some_ids_missing.csv')"
   ]
  },
  {
   "cell_type": "code",
   "execution_count": 10,
   "id": "4fc157e7",
   "metadata": {},
   "outputs": [
    {
     "ename": "AttributeError",
     "evalue": "'numpy.ndarray' object has no attribute 'to_csv'",
     "output_type": "error",
     "traceback": [
      "\u001b[0;31m---------------------------------------------------------------------------\u001b[0m",
      "\u001b[0;31mAttributeError\u001b[0m                            Traceback (most recent call last)",
      "\u001b[0;32m/tmp/ipykernel_63803/2852344068.py\u001b[0m in \u001b[0;36m<module>\u001b[0;34m\u001b[0m\n\u001b[0;32m----> 1\u001b[0;31m \u001b[0mpd\u001b[0m\u001b[0;34m.\u001b[0m\u001b[0mSeries\u001b[0m\u001b[0;34m(\u001b[0m\u001b[0;34m[\u001b[0m\u001b[0mn\u001b[0m\u001b[0;34m.\u001b[0m\u001b[0mfilename\u001b[0m \u001b[0;32mfor\u001b[0m \u001b[0mn\u001b[0m \u001b[0;32min\u001b[0m \u001b[0mnans\u001b[0m\u001b[0;34m]\u001b[0m\u001b[0;34m)\u001b[0m\u001b[0;34m.\u001b[0m\u001b[0munique\u001b[0m\u001b[0;34m(\u001b[0m\u001b[0;34m)\u001b[0m\u001b[0;34m.\u001b[0m\u001b[0mto_csv\u001b[0m\u001b[0;34m(\u001b[0m\u001b[0;34m'some_ids_missing.csv'\u001b[0m\u001b[0;34m)\u001b[0m\u001b[0;34m\u001b[0m\u001b[0;34m\u001b[0m\u001b[0m\n\u001b[0m",
      "\u001b[0;31mAttributeError\u001b[0m: 'numpy.ndarray' object has no attribute 'to_csv'"
     ]
    }
   ],
   "source": []
  },
  {
   "cell_type": "code",
   "execution_count": 6,
   "id": "9b3eaa27",
   "metadata": {},
   "outputs": [],
   "source": [
    "s = Sample.objects.filter(filename__iexact='22_4_MASTER_NOMAD_runs_2_NOMAD_Run_2_Tray_2_DandP_03.csv')"
   ]
  },
  {
   "cell_type": "code",
   "execution_count": 7,
   "id": "b3a8d384",
   "metadata": {},
   "outputs": [
    {
     "data": {
      "text/plain": [
       "<QuerySet [<Sample: ART002_ART002_0_University>, <Sample: ART002_ART002_1_University>, <Sample: ART002_ART002_10_University>, <Sample: ART002_ART002_2_University>, <Sample: ART002_ART002_3_University>, <Sample: ART002_ART002_4_University>, <Sample: ART002_ART002_5_University>, <Sample: ART002_ART002_6_University>, <Sample: ART002_ART002_7_University>, <Sample: ART002_ART002_8_University>, <Sample: ART002_ART002_9_University>]>"
      ]
     },
     "execution_count": 7,
     "metadata": {},
     "output_type": "execute_result"
    }
   ],
   "source": [
    "s"
   ]
  },
  {
   "cell_type": "code",
   "execution_count": null,
   "id": "a9889343",
   "metadata": {},
   "outputs": [],
   "source": [
    "sn = s.filter(sample_id__iexact='nan')"
   ]
  },
  {
   "cell_type": "code",
   "execution_count": null,
   "id": "c78b26c4",
   "metadata": {},
   "outputs": [],
   "source": [
    "[s0.reflectance[:30] for s0 in s]"
   ]
  },
  {
   "cell_type": "code",
   "execution_count": null,
   "id": "9959f723",
   "metadata": {},
   "outputs": [],
   "source": []
  },
  {
   "cell_type": "code",
   "execution_count": null,
   "id": "16687e8d",
   "metadata": {},
   "outputs": [],
   "source": []
  },
  {
   "cell_type": "code",
   "execution_count": null,
   "id": "9ab231ca",
   "metadata": {
    "scrolled": true
   },
   "outputs": [],
   "source": [
    "set(a)"
   ]
  },
  {
   "cell_type": "code",
   "execution_count": null,
   "id": "84dff2c5",
   "metadata": {},
   "outputs": [],
   "source": [
    "\n",
    "samps = list(a.filter(sample_id__icontains=\"030\"))"
   ]
  },
  {
   "cell_type": "code",
   "execution_count": null,
   "id": "40c3af51",
   "metadata": {},
   "outputs": [],
   "source": []
  },
  {
   "cell_type": "code",
   "execution_count": null,
   "id": "893f9277",
   "metadata": {},
   "outputs": [],
   "source": [
    "ing = pd.read_csv('uwinn_split_ingest.csv', header=None)\n",
    "ing = ing.drop(columns=1)\n",
    "ing.columns = ['time', 'level', 'file', 'msg_type', 'field_1', 'field_2']\n",
    "errs = ing.loc[ing['level'] == 'ERROR']\n"
   ]
  },
  {
   "cell_type": "code",
   "execution_count": null,
   "id": "33e0af5f",
   "metadata": {},
   "outputs": [],
   "source": [
    "len(errs)"
   ]
  },
  {
   "cell_type": "code",
   "execution_count": null,
   "id": "c58ba570",
   "metadata": {},
   "outputs": [],
   "source": [
    "sorted([f for f in errs.loc[errs['field_1'].str.contains('x and y')]['file']])"
   ]
  },
  {
   "cell_type": "code",
   "execution_count": null,
   "id": "67b0e5c3",
   "metadata": {},
   "outputs": [],
   "source": [
    "errs = errs.dropna(subset=['field_1'], axis=0)\n",
    "errs = errs.drop(columns='field_2')"
   ]
  },
  {
   "cell_type": "code",
   "execution_count": null,
   "id": "dc9831d3",
   "metadata": {},
   "outputs": [],
   "source": [
    "errs[['file', 'field_1']].to_csv('current_ingest_errors.csv', index=None)"
   ]
  },
  {
   "cell_type": "code",
   "execution_count": null,
   "id": "a19cf2b8",
   "metadata": {},
   "outputs": [],
   "source": []
  },
  {
   "cell_type": "code",
   "execution_count": null,
   "id": "bd85eefa",
   "metadata": {},
   "outputs": [],
   "source": [
    "modeldict(a[0])['sample_desc']"
   ]
  },
  {
   "cell_type": "code",
   "execution_count": null,
   "id": "2eaa932b",
   "metadata": {},
   "outputs": [],
   "source": []
  },
  {
   "cell_type": "code",
   "execution_count": null,
   "id": "e757b91f",
   "metadata": {},
   "outputs": [],
   "source": []
  },
  {
   "cell_type": "code",
   "execution_count": null,
   "id": "45e30965",
   "metadata": {},
   "outputs": [],
   "source": []
  },
  {
   "cell_type": "code",
   "execution_count": null,
   "id": "cf1b7c9f",
   "metadata": {},
   "outputs": [],
   "source": []
  },
  {
   "cell_type": "code",
   "execution_count": null,
   "id": "d70162d5",
   "metadata": {},
   "outputs": [],
   "source": [
    "uwinn = Database.objects.get(name__icontains=\"winnipeg\")\n",
    "split_path = Path(\"uwinn_ingest/All_UWinn_splits_070621\")\n",
    "splits = list(split_path.iterdir())"
   ]
  },
  {
   "cell_type": "code",
   "execution_count": null,
   "id": "ed3ab6a4",
   "metadata": {},
   "outputs": [],
   "source": []
  },
  {
   "cell_type": "code",
   "execution_count": null,
   "id": "6332f04e",
   "metadata": {},
   "outputs": [],
   "source": [
    "for split in splits:\n",
    "    if check_split_goodness(split) is False:\n",
    "        continue\n",
    "    try:\n",
    "        rprint(f\"[black]{split.name}\")\n",
    "        (\n",
    "            fields,\n",
    "            metadata,\n",
    "            wavelengths,\n",
    "            reflectance,\n",
    "            split_warnings,\n",
    "        ) = read_uwinn_split(split)\n",
    "        for warning in split_warnings:\n",
    "            rprint(f\"[red]{warning}\")\n",
    "            logger.warning(f\"{split.name},{warning}\")\n",
    "        headers = format_headers(metadata, fields)\n",
    "        headers = translate_headers(headers, wavelengths, split.name)\n",
    "        reflectance_block = reflectance.dropna(axis=1).values.T\n",
    "        wavelengths = wavelengths.dropna().values\n",
    "        if len(headers) > reflectance_block.shape[0]:\n",
    "            headers = headers.iloc[:reflectance_block.shape[0]]\n",
    "            logger.info(f\"{split.name},trailing columns truncated\")\n",
    "        assert reflectance_block.shape == (\n",
    "            len(headers),\n",
    "            len(wavelengths),\n",
    "        ), f\"{reflectance_block.shape} != {len(wavelengths)} {len(headers)}\"\n",
    "        if (reflectance_block.max() > 5) and (\"%\" in str(metadata)):\n",
    "            reflectance_block /= 100\n",
    "            logger.info(f\"{split.name},unit change,percent reflectance\")\n",
    "        for row_ix in range(len(headers)):\n",
    "            data = {\"reflectance\": np.vstack([wavelengths, reflectance_block[row_ix]]).T}\n",
    "            metadata = headers.iloc[0].to_dict() | {\"origin\": uwinn}\n",
    "            sample = Sample(**(data | metadata))\n",
    "            sample.clean()\n",
    "            sample.save()\n",
    "        rprint(\"[green bold]successful\")\n",
    "    except KeyboardInterrupt:\n",
    "        raise\n",
    "    except Exception as ex:\n",
    "        logger.error(f\"{split.name},{type(ex)},{ex}\")\n",
    "        rprint(f\"[red]{type(ex)},{ex}\")\n"
   ]
  },
  {
   "cell_type": "code",
   "execution_count": 11,
   "id": "9146f181",
   "metadata": {},
   "outputs": [],
   "source": [
    "a = np.array([1,2,3,4])"
   ]
  },
  {
   "cell_type": "code",
   "execution_count": 12,
   "id": "39a272ca",
   "metadata": {},
   "outputs": [],
   "source": [
    "b = np.array([0.1, 0.2, 0.3, 0.4])"
   ]
  },
  {
   "cell_type": "code",
   "execution_count": 14,
   "id": "b4400aba",
   "metadata": {},
   "outputs": [
    {
     "data": {
      "text/plain": [
       "array([[1. , 0.1],\n",
       "       [2. , 0.2],\n",
       "       [3. , 0.3],\n",
       "       [4. , 0.4]])"
      ]
     },
     "execution_count": 14,
     "metadata": {},
     "output_type": "execute_result"
    }
   ],
   "source": [
    "np.vstack([a, b]).T"
   ]
  },
  {
   "cell_type": "code",
   "execution_count": null,
   "id": "a168e5c4",
   "metadata": {},
   "outputs": [],
   "source": [
    "len(Sample.objects.all())"
   ]
  },
  {
   "cell_type": "code",
   "execution_count": null,
   "id": "eb5e1c03",
   "metadata": {},
   "outputs": [],
   "source": [
    "for sample in Sample.objects.all():\n",
    "    sample.delete()\n"
   ]
  }
 ],
 "metadata": {
  "kernelspec": {
   "display_name": "Django Shell-Plus",
   "language": "python",
   "name": "django_extensions"
  },
  "language_info": {
   "codemirror_mode": {
    "name": "ipython",
    "version": 3
   },
   "file_extension": ".py",
   "mimetype": "text/x-python",
   "name": "python",
   "nbconvert_exporter": "python",
   "pygments_lexer": "ipython3",
   "version": "3.9.6"
  }
 },
 "nbformat": 4,
 "nbformat_minor": 5
}
