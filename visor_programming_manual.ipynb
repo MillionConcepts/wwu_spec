{
 "cells": [
  {
   "cell_type": "markdown",
   "metadata": {},
   "source": [
    "# VISOR admin programming manual and recipes\n",
    "----\n",
    "###  michael st. clair \n",
    "### v0.3a -- 2025-02-21\n",
    "\n",
    "This Jupyter Notebook discusses the structure of the VISOR backend and methods for modifying its contents using Python scripts. The code cells in this notebook\n",
    "are intended both as illustrative examples and as useful 'recipes' that\n",
    "can be minimally modified and incorporated into other notebooks or scripts to perform\n",
    "administrative tasks.\n",
    "\n",
    "*This is a preliminary version of this document intended for internal\n",
    "operations. Please do not publicly distribute.*\n",
    "\n",
    "### usage notes\n",
    "----\n",
    "* This notebook should always be launched using ```python manage.py shell_plus --notebook```. Otherwise, django won't get to run its setup scripts and you will get errors when you try to import models or alter the database. \n",
    "* many of these cells create huge amounts of output. to shrink this if you're tired of looking at it, double-click on the gutter to the left of the cell. to totally erase it, go up to the 'cell' menu and choose 'current outputs -> clear', or 'all outputs' -> clear to get rid of output for every cell.\n",
    "* this notebook assumes that it's being run in the root directory of the application. If you move it somewhere else or use the code snippets in files located in other places, you may have to adjust paths."
   ]
  },
  {
   "cell_type": "markdown",
   "metadata": {},
   "source": [
    "### imports\n",
    "----\n",
    "Run this next cell if you want the code to function."
   ]
  },
  {
   "cell_type": "code",
   "execution_count": 8,
   "metadata": {},
   "outputs": [
    {
     "name": "stdout",
     "output_type": "stream",
     "text": [
      "Success\n"
     ]
    }
   ],
   "source": [
    "from ast import literal_eval\n",
    "from functools import partial, reduce\n",
    "import json\n",
    "from operator import or_\n",
    "import os\n",
    "import random\n",
    "import re\n",
    "import math\n",
    "\n",
    "import django\n",
    "from django.conf import settings\n",
    "from django import forms\n",
    "import numpy as np\n",
    "import pandas as pd\n",
    "\n",
    "django.setup()\n",
    "\n",
    "from recipes import samples\n",
    "from visor.dj_utils import are_in, djget, eta, fields\n",
    "from visor.io.handlers import ingest_sample_csv\n",
    "from visor.models import Database, Library, Sample, SampleType\n",
    "from visor.spectral import make_filterset\n",
    "\n",
    "print(\"Success\")\n",
    "\n",
    "# the examples in this notebook don't do risky async stuff to the database.\n",
    "# they all work the exact same way on the backend as the admin console. however, \n",
    "# ipython/jupyter wraps itself in an event loop that looks scary to django. this \n",
    "# environment variable tells django to calm down about it.\n",
    "os.environ[\"DJANGO_ALLOW_ASYNC_UNSAFE\"] = \"true\""
   ]
  },
  {
   "cell_type": "markdown",
   "metadata": {},
   "source": [
    "# I: database structure\n",
    "----\n",
    "\n",
    "## I.1: basics and location\n",
    "\n",
    "VISOR is backed by a SQLite database. This database is entirely contained\n",
    "in one file: db.sqlite3. **Keep several backups of this file outside of the\n",
    "working tree of the application.** This lets you freely experiment with the\n",
    "database. If you do anything horrible to it, you can immediately repair it by\n",
    "overwriting the file in the application directory with one of these backups. The only entry-specific items that are not stored in this database are image files (links to the images are stored, but not files themselves, because filesystems are better than databases at storing files).\n",
    "\n",
    "### II.1.a: working live or offline\n",
    "\n",
    "Because it's easy to copy the database file, you can also work in a separate development directory, or on a totally different machine with a version of the software running locally. On the other hand, because it's easy to fix mistakes, it's also pretty safe to work on the live version. You can even swap the database file out while the application is running. Users will only notice if they make queries while the file is in the middle of being overwritten. \n",
    "\n",
    "## I.2: django and models\n",
    "\n",
    "VISOR primarily uses the Python framework Django to interact with the\n",
    "database. Django calls SQL tables -- which are essentially big spreadsheets\n",
    "stored inside the database -- \"models\".\n",
    "There are five important models / tables / spreadsheets in the VISOR proper:\n",
    "\n",
    "* ```Sample``` (individual samples)\n",
    "* ```Database``` (origin databases, like ASTER/ECOSTRESS)\n",
    "* ```FilterSet``` (definitions for sets of filters, like Mastcam-Z's, used\n",
    "    for generating simulated reflectance curves)\n",
    "* ```Library``` (application- or team-specific groups of samples, and maybe\n",
    "    other things later -- this is fully functional, but not currently populated)\n",
    "* ```SampleType``` (top-level physical categories of sample, like minerals or\n",
    "    coatings -- this is again fully functional, but only skeletally populated)\n",
    "\n",
    "*Note: while you probably don't want to interact with them from the Python\n",
    "shell, admin tables, including users and their access information, are also\n",
    "stored in the database. So, for instance, if you roll back to an earlier\n",
    "version of the database after changing a user's password but before making a\n",
    "new database backup, that password will be reset to the earlier version.*"
   ]
  },
  {
   "cell_type": "markdown",
   "metadata": {},
   "source": [
    "# II. searching the database\n",
    "----\n",
    "\n",
    "## II.1: searching the database\n",
    "\n",
    "VISOR includes some helper functions that make Django easier to use. By default, Django uses \"querysets\" to interact with tables. Querysets are powerful, but use a custom syntax that combines SQL queries and Python. This syntax is sometimes awkward and rarely looks like idiomatic Python. This section shows how to define search functions that are quicker to learn and use.\n",
    "\n",
    "### II.1.a: custom search functions\n",
    "\n",
    "The next cell defines a simple search function ```samples``` that looks for\n",
    "samples that contain a particular value anywhere in a particular field, case-insensitive.\n",
    " \n",
    "*Note: ```samples``` is also included in the recipes.py module, but\n",
    "manipulating the code in the cell below will allow you to define different versions of\n",
    "it.*\n",
    "\n",
    "The syntax is simply: ```samples(value, field)```; it returns a ```QuerySet```\n",
    "(which can mostly be treated as a Python list) of all samples containing that value in that field.\n",
    "\n",
    "Other useful values for ```querytype``` in cousins of ```samples``` include\n",
    "'lt' or 'gt' (less/greater than) or 'iexact' (exact match). dropping the\n",
    "leading 'i' makes the search case-sensitive.\n",
    "\n",
    "The names VISOR prints for samples in Python shell / notebook are formatted like this:\n",
    "\n",
    "```sample name + _ + sample id (in database of origin) + _ + database-of-origin short name```"
   ]
  },
  {
   "cell_type": "code",
   "execution_count": null,
   "metadata": {
    "pycharm": {
     "name": "#%%\n"
    }
   },
   "outputs": [],
   "source": [
    "# define partially-evaluated convenience function\n",
    "get_contains = partial(\n",
    "    djget, \n",
    "    model=Sample, \n",
    "    value = \"\",\n",
    "    # the field value is model-specific! you can omit it if you don't want to\n",
    "    # use the shortened call types discussed in II.1.c\n",
    "    field = \"sample_name\", \n",
    "    querytype='icontains'\n",
    ")\n",
    "# reorder arguments to prevent collisions\n",
    "samples = eta(get_contains, \"value\", \"field\")"
   ]
  },
  {
   "cell_type": "markdown",
   "metadata": {},
   "source": [
    "### II.1.b: fetch all hematites in the database and look at 5 of them"
   ]
  },
  {
   "cell_type": "code",
   "execution_count": null,
   "metadata": {},
   "outputs": [],
   "source": [
    "# note: the vanilla django equivalent to the next line is: \n",
    "# hematites = Sample.objects.filter(sample_name__icontains='hematite')\n",
    "hematites = samples('hematite', 'sample_name')\n",
    "random.choices(hematites, k=5)"
   ]
  },
  {
   "cell_type": "markdown",
   "metadata": {},
   "source": [
    "### II.1.c: check total number of samples, or of a subset "
   ]
  },
  {
   "cell_type": "code",
   "execution_count": null,
   "metadata": {
    "pycharm": {
     "name": "#%%\n"
    }
   },
   "outputs": [],
   "source": [
    "# samples() looks in the sample_name field by default.\n",
    "# called with no arguments, it returns all values in the model.\n",
    "# note: the vanilla django way to do that is to call Sample.objects.all().\n",
    "\n",
    "len(samples(\"smectite\")), len(samples()), len(Sample.objects.all())"
   ]
  },
  {
   "cell_type": "markdown",
   "metadata": {},
   "source": [
    "## II.2: fields and values of models\n",
    "\n",
    "There are lots of ways to get fields and field values from the database. See the next few cells for some examples."
   ]
  },
  {
   "cell_type": "markdown",
   "metadata": {},
   "source": [
    "### II.2.a: get every field of a model"
   ]
  },
  {
   "cell_type": "code",
   "execution_count": null,
   "metadata": {
    "pycharm": {
     "name": "#%%\n"
    }
   },
   "outputs": [],
   "source": [
    "fields(Sample), fields(Database)"
   ]
  },
  {
   "cell_type": "markdown",
   "metadata": {},
   "source": [
    "### II.2.b: get values of a particular field from instances of a model"
   ]
  },
  {
   "cell_type": "code",
   "execution_count": null,
   "metadata": {
    "pycharm": {
     "name": "#%%\n"
    }
   },
   "outputs": [],
   "source": [
    "random_sample = random.choice(samples())\n",
    "print(random_sample.sample_name)\n",
    "smectites = samples(\"smectite\")\n",
    "print([\n",
    "    sample.id for sample in smectites\n",
    "])"
   ]
  },
  {
   "cell_type": "markdown",
   "metadata": {},
   "source": [
    "### II.2.c: get unique values of a field, ordered alphabetically"
   ]
  },
  {
   "cell_type": "code",
   "execution_count": null,
   "metadata": {
    "pycharm": {
     "name": "#%%\n"
    }
   },
   "outputs": [],
   "source": [
    "names = [\n",
    "    name_list[0] for name_list in\n",
    "    set(samples().values_list('grain_size'))\n",
    "]\n",
    "names.sort()\n",
    "names"
   ]
  },
  {
   "cell_type": "markdown",
   "metadata": {
    "heading_collapsed": true
   },
   "source": [
    "## II.3 related model fields\n",
    "\n",
    "Accessing fields from a different model is done by, depending on context:\n",
    "* using chained dots (like: ```model.other_model.field```)\n",
    "* separating the related field name and the field you want from the\n",
    "    other model by a double underscore (like: ```sc(value, \"other_model__field\")```)\n",
    "\n",
    "### II.3.a: learn about a sample's database of origin"
   ]
  },
  {
   "cell_type": "code",
   "execution_count": null,
   "metadata": {
    "hidden": true,
    "pycharm": {
     "name": "#%%\n"
    }
   },
   "outputs": [],
   "source": [
    "random_sample = random.choice(samples())\n",
    "print(random_sample.origin.name) # full name of that sample's database of origin\n",
    "print(random_sample.origin.url) # url for that sample's database of origin\n",
    "# is that sample in the group of all samples whose databases of origin have that \n",
    "# full name? (hopefully yes, or something is very wrong) \n",
    "print(random_sample in samples(random_sample.origin.name, \"origin__name\"))"
   ]
  },
  {
   "cell_type": "markdown",
   "metadata": {},
   "source": [
    "## II.4 interpreting Sample model fields\n",
    "\n",
    "There are a *lot* of fields on the ```Sample``` model, and most of them are \n",
    "empty for most samples. This is because the table is intended to support\n",
    "content ingested from a bunch of different databases,  each of which has its\n",
    "own metadata standard. So, for instance, while we'd like to retain information\n",
    "about resolution if it's available in an input database, most of our input\n",
    "databases don't provide\n",
    "resolution values in their metadata. The fields you can expect to be on every\n",
    "or almost every sample are:\n",
    "* sample_name (Name of the sample from the original database, like \"Talc\")\n",
    "* sample_id (ID of the sample from the original database, retained for\n",
    "traceability)\n",
    "* id (unique ID number in VISOR, also known as a database primary key or PK)\n",
    "    * bear in mind that because a primary key is how a database distinguishes\n",
    "    objects, changing a sample's id field makes it a whole new entry\n",
    "* date_added (last modification date of the sample)\n",
    "* min_reflectance (minimum wavelength in the reflectance array)\n",
    "* max_reflectance (maximum wavelength in the reflectance array)\n",
    "* origin (database of origin -- this is an instance of the ```Database```\n",
    "    model)\n",
    "* released (has the sample been released to the public?)\n",
    "* reflectance (reflectance array flattened into a simple string) \n",
    "* simulated_spectra (dictionary of ```pandas DataFrames``` giving simulated\n",
    "    reflectance arrays flattened into a json string)\n",
    "\n",
    "### II.4.a: get a random sample and look at all its fields\n",
    "\n",
    "You can use the ```as_dict()``` method of a ```Sample``` object to get most\n",
    "things about it in a ```dict``` -- note that the flattened reflectance and\n",
    "simulated_spectra fields aren't very readable! See the next few cells for\n",
    " ways to interpret them as ```numpy``` arrays and ```pandas``` dataframes."
   ]
  },
  {
   "cell_type": "code",
   "execution_count": null,
   "metadata": {
    "pycharm": {
     "name": "#%%\n"
    }
   },
   "outputs": [],
   "source": [
    "random_sample = random.choice(samples())\n",
    "random_sample.as_dict()"
   ]
  },
  {
   "cell_type": "markdown",
   "metadata": {},
   "source": [
    "### II.4.b: look at properties of that sample's reflectance data"
   ]
  },
  {
   "cell_type": "code",
   "execution_count": null,
   "metadata": {
    "pycharm": {
     "name": "#%%\n"
    }
   },
   "outputs": [],
   "source": [
    "reflectance = np.array(literal_eval(random_sample.reflectance))\n",
    "print(reflectance[0:10, 0]) # first 10 wavelength values of spectrum\n",
    "print(np.median(reflectance,0))  # median wavelength and reflectance of spectrum \n",
    "print(reflectance[:,1].mean()) # mean reflectance of spectrum"
   ]
  },
  {
   "cell_type": "markdown",
   "metadata": {},
   "source": [
    "### II.4.c: look at a simulated spectrum for that sample"
   ]
  },
  {
   "cell_type": "code",
   "execution_count": null,
   "metadata": {
    "pycharm": {
     "name": "#%%\n"
    }
   },
   "outputs": [],
   "source": [
    "sim_zcam = pd.DataFrame(\n",
    "    json.loads(literal_eval(random_sample.simulated_spectra)['Mastcam-Z'])\n",
    ")\n",
    "sim_zcam # dataframe containing simulated values for Mastcam-Z"
   ]
  },
  {
   "cell_type": "markdown",
   "metadata": {},
   "source": [
    "# III: manipulating database entries\n",
    "----\n",
    "## III.1: field assignment and model entry updates\n",
    "\n",
    "Similar methods can be used to modify entries in the database. The easiest way\n",
    "is to assign values directly to fields of a model instance (like an individual sample). This is useful if\n",
    "you want to quickly modify items without using the admin console. The single exception to this in \n",
    "**Important:** updating the fields of a model instance in memory **does not**\n",
    "automatically change it in the database. After\n",
    "modifying a model instance, calling its ```clean()``` and ```save()``` methods\n",
    "will validate its changed data and record the updated version in the database.\n",
    "Some other stuff only happens after you call ```save()```, generally things that require comparisons with other values in the database. For instance,\n",
    "simulated spectra are generated at that point for samples, and if a model\n",
    "instance doesn't have an id / primary key, it gets assigned one.\n",
    "\n",
    "### III.1.a: change an in-memory sample without saving it"
   ]
  },
  {
   "cell_type": "code",
   "execution_count": null,
   "metadata": {
    "pycharm": {
     "name": "#%%\n"
    }
   },
   "outputs": [],
   "source": [
    "sample = samples()[0]\n",
    "sample.sample_name = sample.sample_name + \"_TEST\"\n",
    "print(sample.sample_name) # great! working great, right? the sample is updated!\n",
    "sample = samples()[0]\n",
    "print(sample.sample_name) # aww...no, the sample wasn't updated."
   ]
  },
  {
   "cell_type": "markdown",
   "metadata": {},
   "source": [
    "### III.1.b: make a test version of a sample and save it in the database"
   ]
  },
  {
   "cell_type": "code",
   "execution_count": null,
   "metadata": {
    "pycharm": {
     "name": "#%%\n"
    }
   },
   "outputs": [],
   "source": [
    "sample = samples()[0]\n",
    "# remember that changing id / primary key makes something a \"new\" object from the \n",
    "# database's perspective; delete id so we don't overwrite the real sample\n",
    "sample.id = None\n",
    "# change its sample_name and sample_id fields to distinguish it\n",
    "sample.sample_name = sample.sample_name + \"_TEST\"\n",
    "sample.sample_id = sample.sample_id + \"_TEST\" \n",
    "sample.released = False # don't show visitors our silly test sample\n",
    "sample.clean() # validate sample fields\n",
    "sample.save() # save it in the database\n",
    "# is it there, and different from the original? hopefully.\n",
    "samples()[0], samples(sample.id, \"id\")[0] "
   ]
  },
  {
   "cell_type": "markdown",
   "metadata": {},
   "source": [
    "### III.2.c: modify and save the test sample"
   ]
  },
  {
   "cell_type": "code",
   "execution_count": null,
   "metadata": {
    "pycharm": {
     "name": "#%%\n"
    }
   },
   "outputs": [],
   "source": [
    "# saving a model instance _without_ changing its id modifies the existing entry\n",
    "# rather than creating a new one.\n",
    "test_sample = samples(sample.id, \"id\")[0]\n",
    "print(test_sample.sample_name)\n",
    "test_sample.sample_name = \"Terrible Rock\"\n",
    "test_sample.clean()\n",
    "test_sample.save()\n",
    "print(test_sample.sample_name)"
   ]
  },
  {
   "cell_type": "markdown",
   "metadata": {},
   "source": [
    "## III.2: deleting model instances\n",
    "\n",
    "You can delete a database entry simply by calling its ```delete()``` method.\n",
    "Note that if other entries link to it -- for instance, a database of origin that is listed in many samples -- you won't be able to delete it while those other entries\n",
    "still exist in the database.\n",
    "\n",
    "### III.2.a: delete test sample"
   ]
  },
  {
   "cell_type": "code",
   "execution_count": null,
   "metadata": {
    "pycharm": {
     "name": "#%%\n"
    }
   },
   "outputs": [],
   "source": [
    "# Demo:\n",
    "# it's probably better if we don't keep this Terrible Rock in the database \n",
    "# (see preceding section if you didn't make a Terrible Rock.)\n",
    "\n",
    "terrible_rock = samples(\"Terrible Rock\", \"sample_name\")[0]\n",
    "terrible_rock.delete()\n",
    "samples(\"Terrible Rock\", \"sample_name\")"
   ]
  },
  {
   "cell_type": "code",
   "execution_count": 11,
   "metadata": {},
   "outputs": [
    {
     "data": {
      "text/plain": [
       "<QuerySet []>"
      ]
     },
     "execution_count": 11,
     "metadata": {},
     "output_type": "execute_result"
    }
   ],
   "source": [
    "# Delete individual file from Spectrum ID\n",
    "bad_file = samples(\"Pct_1970_3_whitem_gar\", \"sample_id\")[0]\n",
    "bad_file.delete()\n",
    "samples(\"Pct_1970_3_whitem_gar\", \"sample_id\")"
   ]
  },
  {
   "cell_type": "markdown",
   "metadata": {},
   "source": [
    "## III.3: bulk modification\n",
    "\n",
    "These techniques can be combined with standard Python control structures to\n",
    "change many items at once. Most of these examples are 'disarmed', with their\n",
    "```save``` or ```delete``` calls commented out. **Make sure you back the\n",
    "database up first if you arm and run them!** Running these without\n",
    "saving samples but leaving ```print()``` statements in acts as a 'dry run', and is\n",
    "very useful to verify that your changes are good before you commit them.\n"
   ]
  },
  {
   "cell_type": "markdown",
   "metadata": {},
   "source": [
    "### III.3.a: reprocess every sample in the database\n",
    "\n",
    "You might want to do this if you need to recalculate simulated spectra values\n",
    "because you've added new filtersets, or if you suspect that some malformed\n",
    "entries snuck in to the database and you'd like to reprocess entries one-by-one\n",
    "to find them.\n",
    "\n",
    "*Note: At current database size, assuming everything processes cleanly, this\n",
    "will probably take between half an hour and an hour and a half depending on\n",
    "operating environment (primarily single-core speed and secondarily\n",
    "disk throughput). You might want to add a progress timer or something.\n",
    "Also, this one is mostly harmless -- if everything\n",
    "is ok with a sample, it will just save it back to the database unchanged.*"
   ]
  },
  {
   "cell_type": "code",
   "execution_count": null,
   "metadata": {},
   "outputs": [],
   "source": [
    "for ix, sample in enumerate(samples):\n",
    "    # good to know in case it hits something bad and crashes -- \n",
    "    # you have the name, id, and index (list position) of the sample to investigate\n",
    "    print(ix, sample.sample_name, sample.id) \n",
    "    sample.clean()\n",
    "    sample.save()"
   ]
  },
  {
   "cell_type": "markdown",
   "metadata": {},
   "source": [
    "### III.3.b: find all samples without a sample name and assign placeholders\n",
    "\n",
    "Let's say some samples don't have a sample name, either because of an accidental omission in the source database or an unusual metadata convention that wasn't caught when scraping / importing from that database. Let's look at all those samples and assign sample names from their composition values. Also, let's check what databases they're from so that we can diagnose that problem.\n",
    "\n",
    "Using the `bulk_update` function makes this much much faster -- but note that when you do that, it only modifies\n",
    "metadata, so if something else about the sample is mangled, it's better to call `save`."
   ]
  },
  {
   "cell_type": "code",
   "execution_count": null,
   "metadata": {},
   "outputs": [],
   "source": [
    "unnamed = []\n",
    "for sample in samples(\"\", querytype=\"iexact\"):\n",
    "    if sample.composition:\n",
    "        sample.sample_name = sample.composition\n",
    "        print(sample.sample_name + \" from \" + sample.origin.name)\n",
    "        unnamed.append(sample)\n",
    "Sample.objects.bulk_update(unnamed, ['sample_name'])"
   ]
  },
  {
   "cell_type": "markdown",
   "metadata": {},
   "source": [
    "### III.3.c: standardize unit names across the database\n",
    "\n",
    "The are some samples in the database that give grain size in micrometers as 'um' and some that give it as 'microns'. Also, some samples have spaces between SI unit abbreviations and numerals, and some don't. Let's say you'd like to regularize this to always use 'um' for micrometers and also not have spaces between numerals and abbreviations. This replacement may be too crude, so we include print statements to see if it's good or not."
   ]
  },
  {
   "cell_type": "code",
   "execution_count": null,
   "metadata": {},
   "outputs": [],
   "source": [
    "has_si_units = are_in([\"cm\", \"mm\", \"nm\", \"um\"], or_)\n",
    "standardized = []\n",
    "for sample in samples():\n",
    "    if not sample.grain_size:\n",
    "        continue # don't bother doing anything if there's no grain size metadata\n",
    "    \n",
    "    replaced = sample.grain_size.replace(\"microns\", \"um\")\n",
    "    # we don't want to remove spaces in phrases that don't contain si units\n",
    "    if has_si_units(sample.grain_size):\n",
    "        replaced = replaced.strip().replace(\" \", \"\")\n",
    "    # nothing happened, move on\n",
    "    if sample.grain_size == replaced:\n",
    "        continue\n",
    "    print(f\"original: {sample.grain_size}; reformatted: {replaced}\")\n",
    "    sample.grain_size = replaced\n",
    "    standardized.append(replaced)\n",
    "# if you're happy with everything:\n",
    "# Sample.objects.bulk_update(standardized, ['grain_size'])"
   ]
  },
  {
   "cell_type": "markdown",
   "metadata": {},
   "source": [
    "### III.3.d: mark every sample from a particular origin as released\n",
    "\n",
    "By default, VISOR treats new samples as private -- specifically, their \"released\" field is set to ```False```, and only users logged in as admins can view them. You might use a command like the following when you're done QAing all the samples from a new source and you'd like to release them all to the public -- or if you've reingested all the samples for some reason and immediately want to mark them as released."
   ]
  },
  {
   "cell_type": "code",
   "execution_count": 7,
   "metadata": {},
   "outputs": [
    {
     "data": {
      "text/plain": [
       "32881"
      ]
     },
     "execution_count": 7,
     "metadata": {},
     "output_type": "execute_result"
    }
   ],
   "source": [
    "release_samples = samples(\"RELAB\", \"origin__name\")\n",
    "unreleased = []\n",
    "for sample in release_samples:\n",
    "    sample.released = True\n",
    "    unreleased.append(sample)\n",
    "Sample.objects.bulk_update(unreleased, ['released'])"
   ]
  },
  {
   "cell_type": "markdown",
   "metadata": {},
   "source": [
    "### III.3.e: assign all samples listed in an external file to a custom library \n",
    "You've received suggestions, given as sample IDs, to add to a custom library, and you've compiled all of those suggestions into a text file with one sample on each line. This assigns every sample in that file to a custom library. The Library model is different from other models because it has a \"many-to-many\" relationship with samples. The method for associating a sample and a library is therefore a little different."
   ]
  },
  {
   "cell_type": "code",
   "execution_count": null,
   "metadata": {},
   "outputs": [],
   "source": [
    "# generate the new library\n",
    "test_library = Library(name='test library')\n",
    "test_library.clean()\n",
    "test_library.save()\n",
    "\n",
    "# read file in and split it line-by-line into a list\n",
    "with open(\"tests/custom_ids.txt\") as library_entry_file:\n",
    "    library_ids = library_entry_file.read().splitlines()\n",
    "# get all the samples matching these ids and squeeze them into a single queryset \n",
    "library_samples = reduce(or_, [\n",
    "    samples(library_id, 'sample_id') for library_id in library_ids\n",
    "])\n",
    "\n",
    "# because a single sample can belong to many libraries, you can't add a sample\n",
    "# to a library through direct assignment. instead use the add method of sample.libraries:\n",
    "for sample in library_samples:\n",
    "    sample.libraries.add(test_library)\n",
    "\n",
    "# you can check samples in a library using the Library.sample_set.all method:\n",
    "\n",
    "print(test_library.sample_set.all())\n",
    "\n",
    "# clean up\n",
    "for sample in library_samples:\n",
    "    sample.libraries.remove(test_library)\n",
    "    sample.clean()\n",
    "    sample.save(convolve=False)\n",
    "\n",
    "test_library.delete()"
   ]
  },
  {
   "cell_type": "markdown",
   "metadata": {},
   "source": [
    "### III.3.f: add an image to a sample\n",
    "\n",
    "You can assign either a path to a JPEG file or in-memory image data (as a PIL.Image) object to a sample's 'image' field. When you save it, it gets moved to the VISOR image directory, thumbnailed, and linked to the database entry."
   ]
  },
  {
   "cell_type": "code",
   "execution_count": null,
   "metadata": {},
   "outputs": [],
   "source": [
    "# make a test version of a sample\n",
    "sample = samples()[0]\n",
    "sample.id = 100000000000\n",
    "sample.sample_id = \"TEST\"\n",
    "sample.image = 'tests/test_rock.jpg'\n",
    "sample.clean()\n",
    "sample.save()\n",
    "print(sample.image)\n",
    "sample.get_image() # displays image in jupyter. clunky but fine. "
   ]
  },
  {
   "cell_type": "code",
   "execution_count": null,
   "metadata": {},
   "outputs": [],
   "source": [
    "# clean this test sample up \n",
    "# Note / TODO: we don't currently delete images along with samples. this is a \n",
    "# way to do so, but I'm probably going to add some sort of automatic cleanup after \n",
    "# we're more certain about how we're going to use images in the application. --michael\n",
    "\n",
    "# delete image\n",
    "os.remove(settings.SAMPLE_IMAGE_PATH + \"/\" + sample.image)\n",
    "# delete sample database entry\n",
    "sample.delete()"
   ]
  },
  {
   "cell_type": "markdown",
   "metadata": {},
   "source": [
    "### III.3.g: update field\n",
    "\n",
    "Currently set to update all objects from RELAB && Unknown grain size\n",
    "Updates grain size to \"Whole Object\" if the words chip, slab, or rock are present in the sample name"
   ]
  },
  {
   "cell_type": "code",
   "execution_count": 2,
   "metadata": {},
   "outputs": [],
   "source": [
    "print(\"Start\")\n",
    "\n",
    "samples = Sample.objects.filter(origin__name=\"RELAB\").iterator()\n",
    "\n",
    "updated_count = 0\n",
    "\n",
    "for sample in samples:\n",
    "    updated = False\n",
    "    for field in Sample._meta.get_fields():\n",
    "        if hasattr(sample, field.name) and not field.many_to_many and not field.one_to_many:\n",
    "            value = getattr(sample, field.name)\n",
    "            if value is None:\n",
    "                continue\n",
    "            if isinstance(value, str) and value.lower() == \"nan\":\n",
    "                setattr(sample, field.name, \"\")\n",
    "                updated = True\n",
    "            elif isinstance(value, float) and math.isnan(value):\n",
    "                setattr(sample, field.name, \"\")\n",
    "                updated = True\n",
    "    if updated:\n",
    "        sample.save()\n",
    "        updated_count += 1\n",
    "        if updated_count % 100 == 0:\n",
    "            print(f\"Updated {updated_count} samples\")\n",
    "\n",
    "print(f\"Total updated: {updated_count}\")\n",
    "print(\"Complete\")\n"
   ]
  },
  {
   "cell_type": "code",
   "execution_count": 4,
   "metadata": {
    "scrolled": false
   },
   "outputs": [
    {
     "name": "stdout",
     "output_type": "stream",
     "text": [
      "Start\n",
      "Updated 2154 samples.\n",
      "Complete\n"
     ]
    }
   ],
   "source": [
    "print(\"Start\")\n",
    "\n",
    "# List of keywords to check for in name field (case insensitive)\n",
    "keywords = [\"chip\", \"slab\", \"rock\"]\n",
    "\n",
    "# Fetch all samples where grain_size is unknown\n",
    "samples = Sample.objects.filter(origin__name=\"RELAB\", grain_size=\"Unknown\")\n",
    "\n",
    "updated_count = 0\n",
    "\n",
    "for sample in samples:\n",
    "    name_lower = sample.sample_name.lower()\n",
    "    \n",
    "    if any(keyword in name_lower for keyword in keywords):\n",
    "        sample.grain_size = \"Whole Object\"\n",
    "        sample.save()\n",
    "        updated_count += 1\n",
    "\n",
    "print(f\"Updated {updated_count} samples.\")\n",
    "print(\"Complete\")\n"
   ]
  },
  {
   "cell_type": "code",
   "execution_count": 3,
   "metadata": {},
   "outputs": [
    {
     "name": "stdout",
     "output_type": "stream",
     "text": [
      "Start\n",
      "Updated 32881 samples.\n",
      "Complete\n"
     ]
    }
   ],
   "source": [
    "print(\"Start\")\n",
    "\n",
    "# Fetch all samples from RELAB, clean up values that have grain size of 0\n",
    "samples = Sample.objects.filter(origin__name=\"RELAB\")\n",
    "\n",
    "updated_count = 0\n",
    "\n",
    "for sample in samples:\n",
    "    if not sample.grain_size or sample.grain_size.strip() == \"\":\n",
    "        sample.grain_size = \"unknown\"\n",
    "    else:\n",
    "        cleaned = sample.grain_size.strip(\"()\")\n",
    "        parts = cleaned.split(\"_ \")\n",
    "        try:\n",
    "            if len(parts) == 2:\n",
    "                min_size, max_size = map(float, parts)\n",
    "                if min_size == 0.0 and max_size == 0.0:\n",
    "                    sample.grain_size = \"unknown\"\n",
    "                else:\n",
    "                    sample.grain_size = f\"({min_size}_ {max_size})\"\n",
    "            elif len(parts) == 1:\n",
    "                # Single value — just leave it as-is\n",
    "                value = float(parts[0])\n",
    "                if value == 0.0:\n",
    "                    sample.grain_size = \"unknown\"\n",
    "                else:\n",
    "                    sample.grain_size = str(value)\n",
    "            else:\n",
    "                sample.grain_size = \"unknown\"   \n",
    "            \n",
    "        except ValueError:\n",
    "            sample.grain_size = \"unknown\"\n",
    "        \n",
    "    sample.clean()\n",
    "    sample.save()\n",
    "    updated_count += 1\n",
    "\n",
    "print(f\"Updated {updated_count} samples.\")\n",
    "print(\"Complete\")\n"
   ]
  },
  {
   "cell_type": "markdown",
   "metadata": {},
   "source": [
    "# IV: adding new data\n",
    "----\n",
    "## IV.1: importing sample files\n",
    "Sample data can be imported using the upload interface in the application, or pasted in / modified using the admin console. However, the same underlying functions can also be called from admin console or notebook. Also, there are some functions that can *only* be accessed from admin console / shell / notebook. In particular, there are 'safety' features in the upload interface that won't allow you to re-upload samples with identical sample_id, which means that you can't *update* a sample using the upload interface. (You can always activate these protections by passing ```uploaded=True``` to ```Sample.save()```.) \n",
    "\n",
    "### IV.1.a: import a single sample file\n",
    "```ingest_sample_csv``` is the primary function used to import files into the database. Passing it the name of a file in the Western Mars Lab spectrum CSV format will return a ```dict``` containing a Sample instance that can then be saved in the database, the filename of the ingested file, and warnings and errors if applicable. Also remember that, by default, every sample is imported 'unreleased', only visible to users with admin permissions. Set a sample's 'released' field to ```True``` to make it immediately visible.\n",
    "\n",
    "'warnings' mostly includes things the ingestion function did that changed some \n",
    "values in the imported sample.\n",
    "\n",
    "If there's anything in 'errors', the input file isn't valid and needs to be altered\n",
    "in order to go in the database. Lots of special cases are covered in the ingestion code and it should give useful error messages for many different sorts of problems. \n",
    "\n",
    "*Note: Please let me know if there's another case you need verbose feedback about. --michael*\n",
    "\n",
    "*Note / TODO: we don't have an updated version of the format standard description yet, but the format remains similar, so many examples are available*\n"
   ]
  },
  {
   "cell_type": "code",
   "execution_count": null,
   "metadata": {},
   "outputs": [],
   "source": [
    "# this is a good sample file\n",
    "\n",
    "ingest_dict = ingest_sample_csv(\n",
    "    'tests/single_column_test.csv'\n",
    ")\n",
    "# 'filename' and 'warning' are also placed in the sample.filename and \n",
    "# sample.import_notes fields respectively. they are used internally,\n",
    "# but are available in the return because it can be useful to \n",
    "# print or manipulate them separately, mostly for error-checking purposes. \n",
    "print(ingest_dict)\n",
    "sample = ingest_dict['sample']\n",
    "sample.clean()\n",
    "sample.save()\n",
    "# test re-save with upload / anti-dupe protections\n",
    "try:\n",
    "    sample.save(uploaded=True)\n",
    "except ValueError as dupe_error:\n",
    "    print(dupe_error)\n",
    "print(samples(\"TEST\", \"sample_name\"))\n",
    "# delete this test sample\n",
    "# sample.delete()"
   ]
  },
  {
   "cell_type": "code",
   "execution_count": null,
   "metadata": {},
   "outputs": [],
   "source": [
    "# these are bad sample files\n",
    "bad_ingest_dict_1 = ingest_sample_csv(\n",
    "    'tests/single_column_test_error_1.csv'\n",
    ")\n",
    "bad_ingest_dict_2 = ingest_sample_csv(\n",
    "    'tests/single_column_test_error_2.csv'\n",
    ")\n",
    "bad_ingest_dict_1['errors'], bad_ingest_dict_2['errors']"
   ]
  },
  {
   "cell_type": "markdown",
   "metadata": {},
   "source": [
    "### IV.1.b import a \"multisample\" file\n",
    "```ingest_sample_csv``` can also ingest files containing multiple wavelength / reflectance columns. It splits these into a list of Sample objects and increments their Sample IDs to distinguish the columns from one another.\n",
    "\n",
    "*Note / TODO: I don't know much about how the Western Mars Lab uses this format internally, so I don't know how to contextualize it.*"
   ]
  },
  {
   "cell_type": "code",
   "execution_count": 6,
   "metadata": {},
   "outputs": [
    {
     "name": "stdout",
     "output_type": "stream",
     "text": [
      "[]\n",
      "{'sample': None, 'filename': '../TANAGER-Ingest/inputs/2024_04_09_Brad_Dunites1.csv', 'warnings': [], 'errors': [\"This doesn't appear to be a .csv file: Error tokenizing data. C error: Expected 2 fields in line 2, saw 2981\\n\"]}\n"
     ]
    },
    {
     "ename": "TypeError",
     "evalue": "'NoneType' object is not iterable",
     "output_type": "error",
     "traceback": [
      "\u001b[1;31m---------------------------------------------------------------------------\u001b[0m",
      "\u001b[1;31mTypeError\u001b[0m                                 Traceback (most recent call last)",
      "Cell \u001b[1;32mIn[6], line 4\u001b[0m\n\u001b[0;32m      2\u001b[0m \u001b[38;5;28mprint\u001b[39m(multisample[\u001b[38;5;124m'\u001b[39m\u001b[38;5;124mwarnings\u001b[39m\u001b[38;5;124m'\u001b[39m])\n\u001b[0;32m      3\u001b[0m \u001b[38;5;28mprint\u001b[39m(multisample)\n\u001b[1;32m----> 4\u001b[0m \u001b[38;5;28;01mfor\u001b[39;00m sample \u001b[38;5;129;01min\u001b[39;00m multisample[\u001b[38;5;124m'\u001b[39m\u001b[38;5;124msample\u001b[39m\u001b[38;5;124m'\u001b[39m]:\n\u001b[0;32m      5\u001b[0m     \u001b[38;5;28mprint\u001b[39m(sample\u001b[38;5;241m.\u001b[39msample_id)\n\u001b[0;32m      6\u001b[0m     sample\u001b[38;5;241m.\u001b[39mclean()\n",
      "\u001b[1;31mTypeError\u001b[0m: 'NoneType' object is not iterable"
     ]
    }
   ],
   "source": [
    "multisample = ingest_sample_csv('../TANAGER-Ingest/inputs/2024_04_09_Brad_Dunites1.csv')\n",
    "print(multisample['warnings'])\n",
    "print(multisample)\n",
    "for sample in multisample['sample']:\n",
    "    print(sample.sample_id)\n",
    "    sample.clean()\n",
    "    sample.save()\n",
    "    sample.sample_type.add(\"Rock\") # Just for this example"
   ]
  },
  {
   "cell_type": "markdown",
   "metadata": {},
   "source": [
    "### IV.1.c: import all CSV files in a directory\n",
    "```ingest_sample_csv``` is happy to be used inside Python control structures. This can be used as an alternate way to ingest samples in bulk. *Note that this following cell doesn't handle multisamples, but can easily be extended to do so.*"
   ]
  },
  {
   "cell_type": "code",
   "execution_count": 9,
   "metadata": {},
   "outputs": [
    {
     "name": "stdout",
     "output_type": "stream",
     "text": [
      "Starting\n",
      "{'sample': <Sample: Twin Sisters Dunite_ts-20-02-1_TANAGER>, 'filename': '../TANAGER-Ingest/output/2021_04_21_probe_dunite_Sabrina/ts-20-02-1_9.csv', 'warnings': ['TANAGER lab was not previously listed among our affiliate databases and has been added as a database of origin. '], 'errors': None}\n",
      "{'sample': <Sample: Twin Sisters Dunite_ts-20-05-a_TANAGER>, 'filename': '../TANAGER-Ingest/output/2021_04_21_probe_dunite_Sabrina/ts-20-05-a_3.csv', 'warnings': [], 'errors': None}\n",
      "{'sample': <Sample: Twin Sisters Dunite_ts-20-05-b_TANAGER>, 'filename': '../TANAGER-Ingest/output/2021_04_21_probe_dunite_Sabrina/ts-20-05-b_6.csv', 'warnings': [], 'errors': None}\n",
      "{'sample': <Sample: Twin Sisters Dunite_ts-20-07-3-a_TANAGER>, 'filename': '../TANAGER-Ingest/output/2021_04_21_probe_dunite_Sabrina/ts-20-07-3-a_15.csv', 'warnings': [], 'errors': None}\n",
      "{'sample': <Sample: Twin Sisters Dunite_ts-20-07-3-b_TANAGER>, 'filename': '../TANAGER-Ingest/output/2021_04_21_probe_dunite_Sabrina/ts-20-07-3-b_18.csv', 'warnings': [], 'errors': None}\n",
      "{'sample': <Sample: Twin Sisters Dunite_ts-20-19_TANAGER>, 'filename': '../TANAGER-Ingest/output/2021_04_21_probe_dunite_Sabrina/ts-20-19_12.csv', 'warnings': [], 'errors': None}\n",
      "{'sample': <Sample: Twin Sisters Dunite_ts-20-01-5-a_std_TANAGER>, 'filename': '../TANAGER-Ingest/output/2021_06_25_Sabrina_Dunites_Initial9Geoms_CorrectGeoms/ts-20-01-5-a_48.csv', 'warnings': [], 'errors': None}\n",
      "{'sample': <Sample: Twin Sisters Dunite_ts-20-01-5-b_std_TANAGER>, 'filename': '../TANAGER-Ingest/output/2021_06_25_Sabrina_Dunites_Initial9Geoms_CorrectGeoms/ts-20-01-5-b_94.csv', 'warnings': [], 'errors': None}\n",
      "{'sample': <Sample: Twin Sisters Dunite_ts-20-02-5_std_TANAGER>, 'filename': '../TANAGER-Ingest/output/2021_06_25_Sabrina_Dunites_Initial9Geoms_CorrectGeoms/ts-20-02-5_50.csv', 'warnings': [], 'errors': None}\n",
      "{'sample': <Sample: Twin Sisters Dunite_ts-20-04-5_std_TANAGER>, 'filename': '../TANAGER-Ingest/output/2021_06_25_Sabrina_Dunites_Initial9Geoms_CorrectGeoms/ts-20-04-5_5.csv', 'warnings': [], 'errors': None}\n",
      "{'sample': <Sample: Twin Sisters Dunite_ts-20-08-3_std_TANAGER>, 'filename': '../TANAGER-Ingest/output/2021_06_25_Sabrina_Dunites_Initial9Geoms_CorrectGeoms/ts-20-08-3_49.csv', 'warnings': [], 'errors': None}\n",
      "{'sample': <Sample: Twin Sisters Dunite_ts-20-09-5_std_TANAGER>, 'filename': '../TANAGER-Ingest/output/2021_06_25_Sabrina_Dunites_Initial9Geoms_CorrectGeoms/ts-20-09-5_4.csv', 'warnings': [], 'errors': None}\n",
      "{'sample': <Sample: Twin Sisters Dunite_ts-20-13-1-a_std_TANAGER>, 'filename': '../TANAGER-Ingest/output/2021_06_25_Sabrina_Dunites_Initial9Geoms_CorrectGeoms/ts-20-13-1-a_2.csv', 'warnings': [], 'errors': None}\n",
      "{'sample': <Sample: Twin Sisters Dunite_ts-20-13-1-b_std_TANAGER>, 'filename': '../TANAGER-Ingest/output/2021_06_25_Sabrina_Dunites_Initial9Geoms_CorrectGeoms/ts-20-13-1-b_47.csv', 'warnings': [], 'errors': None}\n",
      "{'sample': <Sample: Twin Sisters Dunite_ts-20-13-1-c_std_TANAGER>, 'filename': '../TANAGER-Ingest/output/2021_06_25_Sabrina_Dunites_Initial9Geoms_CorrectGeoms/ts-20-13-1-c_92.csv', 'warnings': [], 'errors': None}\n",
      "{'sample': <Sample: Twin Sisters Dunite_ts-20-13-3_std_TANAGER>, 'filename': '../TANAGER-Ingest/output/2021_06_25_Sabrina_Dunites_Initial9Geoms_CorrectGeoms/ts-20-13-3_128.csv', 'warnings': [], 'errors': None}\n",
      "{'sample': <Sample: Twin Sisters Dunite_ts-20-22_std_TANAGER>, 'filename': '../TANAGER-Ingest/output/2021_06_25_Sabrina_Dunites_Initial9Geoms_CorrectGeoms/ts-20-22_93.csv', 'warnings': [], 'errors': None}\n",
      "{'sample': <Sample: Twin Sisters Dunite_ts-20_21_std_TANAGER>, 'filename': '../TANAGER-Ingest/output/2021_06_25_Sabrina_Dunites_Initial9Geoms_CorrectGeoms/ts-20_21_3.csv', 'warnings': [], 'errors': None}\n",
      "{'sample': <Sample: Twin Sisters Dunite_ts-20-03_spec_TANAGER>, 'filename': '../TANAGER-Ingest/output/2021_09_20_SabrinaThesisDunites_Run1_try2_1of2/ts-20-03_465.csv', 'warnings': [], 'errors': None}\n",
      "{'sample': <Sample: Twin Sisters Dunite_ts-20-03_std_TANAGER>, 'filename': '../TANAGER-Ingest/output/2021_09_20_SabrinaThesisDunites_Run1_try2_1of2/ts-20-03_483.csv', 'warnings': [], 'errors': None}\n",
      "{'sample': <Sample: Twin Sisters Dunite_ts-20-19-a_spec_TANAGER>, 'filename': '../TANAGER-Ingest/output/2021_09_20_SabrinaThesisDunites_Run1_try2_1of2/ts-20-19-a_466.csv', 'warnings': [], 'errors': None}\n",
      "{'sample': <Sample: Twin Sisters Dunite_ts-20-19-a_std_TANAGER>, 'filename': '../TANAGER-Ingest/output/2021_09_20_SabrinaThesisDunites_Run1_try2_1of2/ts-20-19-a_484.csv', 'warnings': [], 'errors': None}\n",
      "{'sample': <Sample: Twin Sisters Dunite_ts-20-19-b_spec_TANAGER>, 'filename': '../TANAGER-Ingest/output/2021_09_20_SabrinaThesisDunites_Run1_try2_1of2/ts-20-19-b_467.csv', 'warnings': [], 'errors': None}\n",
      "{'sample': <Sample: Twin Sisters Dunite_ts-20-19-b_std_TANAGER>, 'filename': '../TANAGER-Ingest/output/2021_09_20_SabrinaThesisDunites_Run1_try2_1of2/ts-20-19-b_485.csv', 'warnings': [], 'errors': None}\n",
      "{'sample': <Sample: Twin Sisters Dunite_ts-20-26_spec_TANAGER>, 'filename': '../TANAGER-Ingest/output/2021_09_20_SabrinaThesisDunites_Run1_try2_1of2/ts-20-26_464.csv', 'warnings': [], 'errors': None}\n",
      "{'sample': <Sample: Twin Sisters Dunite_ts-20-26_std_TANAGER>, 'filename': '../TANAGER-Ingest/output/2021_09_20_SabrinaThesisDunites_Run1_try2_1of2/ts-20-26_482.csv', 'warnings': [], 'errors': None}\n",
      "{'sample': <Sample: Twin Sisters Dunite_ts-20-28_spec_TANAGER>, 'filename': '../TANAGER-Ingest/output/2021_09_20_SabrinaThesisDunites_Run1_try2_1of2/ts-20-28_468.csv', 'warnings': [], 'errors': None}\n",
      "{'sample': <Sample: Twin Sisters Dunite_ts-20-28_std_TANAGER>, 'filename': '../TANAGER-Ingest/output/2021_09_20_SabrinaThesisDunites_Run1_try2_1of2/ts-20-28_486.csv', 'warnings': [], 'errors': None}\n",
      "{'sample': <Sample: _906165_flush_si510_TANAGER>, 'filename': '../TANAGER-Ingest/output/2021_10_13_Louise_ClayMounts/906165_flush_si510_3.csv', 'warnings': [], 'errors': None}\n",
      "Error: validation error\n",
      "{'sample': <Sample: _906167_0.2mm_indent_si510_TANAGER>, 'filename': '../TANAGER-Ingest/output/2021_10_13_Louise_ClayMounts/906167_0.2mm_indent_si510_6.csv', 'warnings': [], 'errors': None}\n",
      "Error: validation error\n",
      "{'sample': <Sample: _906165_flush_si510_TANAGER>, 'filename': '../TANAGER-Ingest/output/2021_10_13_Louise_ClayMounts_Gon/906165_flush_si510_8.csv', 'warnings': [], 'errors': None}\n",
      "{'sample': <Sample: _906167_0.2mm_indent_si510_TANAGER>, 'filename': '../TANAGER-Ingest/output/2021_10_13_Louise_ClayMounts_Gon/906167_0.2mm_indent_si510_9.csv', 'warnings': [], 'errors': None}\n",
      "{'sample': <Sample: _ta-20-28_spec_TANAGER>, 'filename': '../TANAGER-Ingest/output/2022_01_26_Sabrina_Dunites_LPSC_FullRun/ta-20-28_762.csv', 'warnings': [], 'errors': None}\n",
      "{'sample': <Sample: _ta-20-28_std_TANAGER>, 'filename': '../TANAGER-Ingest/output/2022_01_26_Sabrina_Dunites_LPSC_FullRun/ta-20-28_870.csv', 'warnings': [], 'errors': None}\n",
      "{'sample': <Sample: Twin Sisters Dunite_ts-20-01-5-a_spec_TANAGER>, 'filename': '../TANAGER-Ingest/output/2022_01_26_Sabrina_Dunites_LPSC_FullRun/ts-20-01-5-a_760.csv', 'warnings': [], 'errors': None}\n",
      "{'sample': <Sample: Twin Sisters Dunite_ts-20-01-5-a_std_TANAGER>, 'filename': '../TANAGER-Ingest/output/2022_01_26_Sabrina_Dunites_LPSC_FullRun/ts-20-01-5-a_868.csv', 'warnings': [], 'errors': None}\n",
      "{'sample': <Sample: Twin Sisters Dunite_ts-20-02-3_spec_TANAGER>, 'filename': '../TANAGER-Ingest/output/2022_01_26_Sabrina_Dunites_LPSC_FullRun/ts-20-02-3_758.csv', 'warnings': [], 'errors': None}\n",
      "{'sample': <Sample: Twin Sisters Dunite_ts-20-02-3_std_TANAGER>, 'filename': '../TANAGER-Ingest/output/2022_01_26_Sabrina_Dunites_LPSC_FullRun/ts-20-02-3_866.csv', 'warnings': [], 'errors': None}\n",
      "{'sample': <Sample: Twin Sisters Dunite_ts-20-05_spec_TANAGER>, 'filename': '../TANAGER-Ingest/output/2022_01_26_Sabrina_Dunites_LPSC_FullRun/ts-20-05_759.csv', 'warnings': [], 'errors': None}\n",
      "{'sample': <Sample: Twin Sisters Dunite_ts-20-05_std_TANAGER>, 'filename': '../TANAGER-Ingest/output/2022_01_26_Sabrina_Dunites_LPSC_FullRun/ts-20-05_867.csv', 'warnings': [], 'errors': None}\n"
     ]
    },
    {
     "name": "stdout",
     "output_type": "stream",
     "text": [
      "{'sample': <Sample: Twin Sisters Dunite_ts-20-13-3_spec_TANAGER>, 'filename': '../TANAGER-Ingest/output/2022_01_26_Sabrina_Dunites_LPSC_FullRun/ts-20-13-3_761.csv', 'warnings': [], 'errors': None}\n",
      "{'sample': <Sample: Twin Sisters Dunite_ts-20-13-3_std_TANAGER>, 'filename': '../TANAGER-Ingest/output/2022_01_26_Sabrina_Dunites_LPSC_FullRun/ts-20-13-3_869.csv', 'warnings': [], 'errors': None}\n",
      "{'sample': <Sample: Table Mountain Andesite_tm-2-a_spec_TANAGER>, 'filename': '../TANAGER-Ingest/output/2022_02_09_Sabrina_Andesites_LPSC_FullRun/tm-2-a_795.csv', 'warnings': [], 'errors': None}\n",
      "{'sample': <Sample: Table Mountain Andesite_tm-2-a_std_TANAGER>, 'filename': '../TANAGER-Ingest/output/2022_02_09_Sabrina_Andesites_LPSC_FullRun/tm-2-a_903.csv', 'warnings': [], 'errors': None}\n",
      "{'sample': <Sample: Table Mountain Andesite_tm-2-b_spec_TANAGER>, 'filename': '../TANAGER-Ingest/output/2022_02_09_Sabrina_Andesites_LPSC_FullRun/tm-2-b_794.csv', 'warnings': [], 'errors': None}\n",
      "{'sample': <Sample: Table Mountain Andesite_tm-2-b_std_TANAGER>, 'filename': '../TANAGER-Ingest/output/2022_02_09_Sabrina_Andesites_LPSC_FullRun/tm-2-b_902.csv', 'warnings': [], 'errors': None}\n",
      "{'sample': <Sample: Table Mountain Andesite_tm-3_spec_TANAGER>, 'filename': '../TANAGER-Ingest/output/2022_02_09_Sabrina_Andesites_LPSC_FullRun/tm-3_796.csv', 'warnings': [], 'errors': None}\n",
      "{'sample': <Sample: Table Mountain Andesite_tm-3_std_TANAGER>, 'filename': '../TANAGER-Ingest/output/2022_02_09_Sabrina_Andesites_LPSC_FullRun/tm-3_904.csv', 'warnings': [], 'errors': None}\n",
      "{'sample': <Sample: Table Mountain Andesite_tm-4_spec_TANAGER>, 'filename': '../TANAGER-Ingest/output/2022_02_09_Sabrina_Andesites_LPSC_FullRun/tm-4_797.csv', 'warnings': [], 'errors': None}\n",
      "{'sample': <Sample: Table Mountain Andesite_tm-4_std_TANAGER>, 'filename': '../TANAGER-Ingest/output/2022_02_09_Sabrina_Andesites_LPSC_FullRun/tm-4_905.csv', 'warnings': [], 'errors': None}\n",
      "{'sample': <Sample: Table Mountain Andesite_tm-6_spec_TANAGER>, 'filename': '../TANAGER-Ingest/output/2022_02_09_Sabrina_Andesites_LPSC_FullRun/tm-6_798.csv', 'warnings': [], 'errors': None}\n",
      "{'sample': <Sample: Table Mountain Andesite_tm-6_std_TANAGER>, 'filename': '../TANAGER-Ingest/output/2022_02_09_Sabrina_Andesites_LPSC_FullRun/tm-6_906.csv', 'warnings': [], 'errors': None}\n",
      "{'sample': <Sample: Frenchman Coulee Basalt_fc-18-005_a_TANAGER>, 'filename': '../TANAGER-Ingest/output/2022_05_02_Sabrina_SmallDiamterProbe/fc-18-005_a_57.csv', 'warnings': [], 'errors': None}\n",
      "{'sample': <Sample: Frenchman Coulee Basalt_fc-18-005_b_TANAGER>, 'filename': '../TANAGER-Ingest/output/2022_05_02_Sabrina_SmallDiamterProbe/fc-18-005_b_59.csv', 'warnings': [], 'errors': None}\n",
      "{'sample': <Sample: Frenchman Coulee Basalt_fc-18-005_c_TANAGER>, 'filename': '../TANAGER-Ingest/output/2022_05_02_Sabrina_SmallDiamterProbe/fc-18-005_c_61.csv', 'warnings': [], 'errors': None}\n",
      "{'sample': <Sample: Frenchman Coulee Basalt_fc-18-007_a_TANAGER>, 'filename': '../TANAGER-Ingest/output/2022_05_02_Sabrina_SmallDiamterProbe/fc-18-007_a_50.csv', 'warnings': [], 'errors': None}\n",
      "{'sample': <Sample: Frenchman Coulee Basalt_fc-18-007_b_TANAGER>, 'filename': '../TANAGER-Ingest/output/2022_05_02_Sabrina_SmallDiamterProbe/fc-18-007_b_52.csv', 'warnings': [], 'errors': None}\n",
      "{'sample': <Sample: Frenchman Coulee Basalt_fc-18-007_c_TANAGER>, 'filename': '../TANAGER-Ingest/output/2022_05_02_Sabrina_SmallDiamterProbe/fc-18-007_c_54.csv', 'warnings': [], 'errors': None}\n",
      "{'sample': <Sample: Table Mountain Andesite_tm-4_a_TANAGER>, 'filename': '../TANAGER-Ingest/output/2022_05_02_Sabrina_SmallDiamterProbe/tm-4_a_46.csv', 'warnings': [], 'errors': None}\n",
      "{'sample': <Sample: Table Mountain Andesite_tm-4_b_TANAGER>, 'filename': '../TANAGER-Ingest/output/2022_05_02_Sabrina_SmallDiamterProbe/tm-4_b_48.csv', 'warnings': [], 'errors': None}\n",
      "{'sample': <Sample: Table Mountain Andesite_tm-6_a_TANAGER>, 'filename': '../TANAGER-Ingest/output/2022_05_02_Sabrina_SmallDiamterProbe/tm-6_a_38.csv', 'warnings': [], 'errors': None}\n",
      "{'sample': <Sample: Table Mountain Andesite_tm-6_b_TANAGER>, 'filename': '../TANAGER-Ingest/output/2022_05_02_Sabrina_SmallDiamterProbe/tm-6_b_40.csv', 'warnings': [], 'errors': None}\n",
      "{'sample': <Sample: Table Mountain Andesite_tm-6_c_TANAGER>, 'filename': '../TANAGER-Ingest/output/2022_05_02_Sabrina_SmallDiamterProbe/tm-6_c_42.csv', 'warnings': [], 'errors': None}\n",
      "{'sample': <Sample: Table Mountain Andesite_tm-6_d_TANAGER>, 'filename': '../TANAGER-Ingest/output/2022_05_02_Sabrina_SmallDiamterProbe/tm-6_d_44.csv', 'warnings': [], 'errors': None}\n",
      "{'sample': <Sample: Twin Sisters Dunite_ts-20-01-5_a_TANAGER>, 'filename': '../TANAGER-Ingest/output/2022_05_02_Sabrina_SmallDiamterProbe/ts-20-01-5_a_12.csv', 'warnings': [], 'errors': None}\n",
      "{'sample': <Sample: Twin Sisters Dunite_ts-20-01-5_b_TANAGER>, 'filename': '../TANAGER-Ingest/output/2022_05_02_Sabrina_SmallDiamterProbe/ts-20-01-5_b_14.csv', 'warnings': [], 'errors': None}\n",
      "{'sample': <Sample: Twin Sisters Dunite_ts-20-01-5_c_TANAGER>, 'filename': '../TANAGER-Ingest/output/2022_05_02_Sabrina_SmallDiamterProbe/ts-20-01-5_c_16.csv', 'warnings': [], 'errors': None}\n",
      "{'sample': <Sample: Twin Sisters Dunite_ts-20-01-5_d_TANAGER>, 'filename': '../TANAGER-Ingest/output/2022_05_02_Sabrina_SmallDiamterProbe/ts-20-01-5_d_18.csv', 'warnings': [], 'errors': None}\n",
      "{'sample': <Sample: Twin Sisters Dunite_ts-20-05_a_TANAGER>, 'filename': '../TANAGER-Ingest/output/2022_05_02_Sabrina_SmallDiamterProbe/ts-20-05_a_3.csv', 'warnings': [], 'errors': None}\n",
      "{'sample': <Sample: Twin Sisters Dunite_ts-20-05_b_TANAGER>, 'filename': '../TANAGER-Ingest/output/2022_05_02_Sabrina_SmallDiamterProbe/ts-20-05_b_5.csv', 'warnings': [], 'errors': None}\n",
      "{'sample': <Sample: Twin Sisters Dunite_ts-20-05_c_TANAGER>, 'filename': '../TANAGER-Ingest/output/2022_05_02_Sabrina_SmallDiamterProbe/ts-20-05_c_7.csv', 'warnings': [], 'errors': None}\n",
      "{'sample': <Sample: Twin Sisters Dunite_ts-20-05_d_TANAGER>, 'filename': '../TANAGER-Ingest/output/2022_05_02_Sabrina_SmallDiamterProbe/ts-20-05_d_9.csv', 'warnings': [], 'errors': None}\n",
      "{'sample': <Sample: Twin Sisters Dunite_ts-20-13-3_a_TANAGER>, 'filename': '../TANAGER-Ingest/output/2022_05_02_Sabrina_SmallDiamterProbe/ts-20-13-3_a_29.csv', 'warnings': [], 'errors': None}\n",
      "{'sample': <Sample: Twin Sisters Dunite_ts-20-13-3_b_TANAGER>, 'filename': '../TANAGER-Ingest/output/2022_05_02_Sabrina_SmallDiamterProbe/ts-20-13-3_b_31.csv', 'warnings': [], 'errors': None}\n",
      "{'sample': <Sample: Twin Sisters Dunite_ts-20-13-3_c_TANAGER>, 'filename': '../TANAGER-Ingest/output/2022_05_02_Sabrina_SmallDiamterProbe/ts-20-13-3_c_33.csv', 'warnings': [], 'errors': None}\n",
      "{'sample': <Sample: Twin Sisters Dunite_ts-20-13-3_d_TANAGER>, 'filename': '../TANAGER-Ingest/output/2022_05_02_Sabrina_SmallDiamterProbe/ts-20-13-3_d_35.csv', 'warnings': [], 'errors': None}\n",
      "{'sample': <Sample: Twin Sisters Dunite_ts-20-26_a_TANAGER>, 'filename': '../TANAGER-Ingest/output/2022_05_02_Sabrina_SmallDiamterProbe/ts-20-26_a_20.csv', 'warnings': [], 'errors': None}\n",
      "{'sample': <Sample: Twin Sisters Dunite_ts-20-26_b_TANAGER>, 'filename': '../TANAGER-Ingest/output/2022_05_02_Sabrina_SmallDiamterProbe/ts-20-26_b_22.csv', 'warnings': [], 'errors': None}\n",
      "{'sample': <Sample: Twin Sisters Dunite_ts-20-26_c_TANAGER>, 'filename': '../TANAGER-Ingest/output/2022_05_02_Sabrina_SmallDiamterProbe/ts-20-26_c_24.csv', 'warnings': [], 'errors': None}\n",
      "{'sample': <Sample: Twin Sisters Dunite_ts-20-26_d_TANAGER>, 'filename': '../TANAGER-Ingest/output/2022_05_02_Sabrina_SmallDiamterProbe/ts-20-26_d_26.csv', 'warnings': [], 'errors': None}\n",
      "{'sample': <Sample: _powdered_hematite_TANAGER>, 'filename': '../TANAGER-Ingest/output/2022_05_22_Alivia_Hematite_StandardProbe/powdered_hematite_5.csv', 'warnings': [], 'errors': None}\n",
      "{'sample': <Sample: Twin Sisters Dunite_ts-20-28-powdered-finer125um_TANAGER>, 'filename': '../TANAGER-Ingest/output/2022_05_27_Alivia_PowderedDunite_StandardProbe/ts-20-28-powdered-finer125um_3.csv', 'warnings': [], 'errors': None}\n"
     ]
    },
    {
     "name": "stdout",
     "output_type": "stream",
     "text": [
      "{'sample': <Sample: _anhydrite_TANAGER>, 'filename': '../TANAGER-Ingest/output/2022_06_13_Alivia_Sulfates_StandardProbe/anhydrite_12.csv', 'warnings': [], 'errors': None}\n",
      "{'sample': <Sample: _epsomite_TANAGER>, 'filename': '../TANAGER-Ingest/output/2022_06_13_Alivia_Sulfates_StandardProbe/epsomite_14.csv', 'warnings': [], 'errors': None}\n",
      "{'sample': <Sample: _epsomite_TANAGER>, 'filename': '../TANAGER-Ingest/output/2022_06_13_Alivia_Sulfates_StandardProbe/epsomite_2.csv', 'warnings': [], 'errors': None}\n",
      "{'sample': <Sample: _epsomite_2_TANAGER>, 'filename': '../TANAGER-Ingest/output/2022_06_13_Alivia_Sulfates_StandardProbe/epsomite_2_3.csv', 'warnings': [], 'errors': None}\n",
      "{'sample': <Sample: _gypsum_TANAGER>, 'filename': '../TANAGER-Ingest/output/2022_06_13_Alivia_Sulfates_StandardProbe/gypsum_6.csv', 'warnings': [], 'errors': None}\n",
      "{'sample': <Sample: _hexahydrite_TANAGER>, 'filename': '../TANAGER-Ingest/output/2022_06_13_Alivia_Sulfates_StandardProbe/hexahydrite_10.csv', 'warnings': [], 'errors': None}\n",
      "{'sample': <Sample: _keirserite_TANAGER>, 'filename': '../TANAGER-Ingest/output/2022_06_13_Alivia_Sulfates_StandardProbe/keirserite_8.csv', 'warnings': [], 'errors': None}\n",
      "{'sample': <Sample: _nontronite_crushed_TANAGER>, 'filename': '../TANAGER-Ingest/output/2022_06_13_Alivia_Sulfates_StandardProbe/nontronite_crushed_16.csv', 'warnings': [], 'errors': None}\n",
      "{'sample': <Sample: _80dun_20hem_TANAGER>, 'filename': '../TANAGER-Ingest/output/2022_07_01_Alivia_DuniteHematite/80dun_20hem_4.csv', 'warnings': [], 'errors': None}\n",
      "{'sample': <Sample: _95dun_05hem_TANAGER>, 'filename': '../TANAGER-Ingest/output/2022_07_01_Alivia_DuniteHematite/95dun_05hem_2.csv', 'warnings': [], 'errors': None}\n",
      "{'sample': <Sample: _50anh_45bas_5hem_TANAGER>, 'filename': '../TANAGER-Ingest/output/2022_07_01_Alivia_Mixtures/50anh_45bas_5hem_7.csv', 'warnings': [], 'errors': None}\n",
      "{'sample': <Sample: _50eps_45bas_5hem_TANAGER>, 'filename': '../TANAGER-Ingest/output/2022_07_01_Alivia_Mixtures/50eps_45bas_5hem_5.csv', 'warnings': [], 'errors': None}\n",
      "{'sample': <Sample: _50non_45bas_5hem_TANAGER>, 'filename': '../TANAGER-Ingest/output/2022_07_01_Alivia_Mixtures/50non_45bas_5hem_9.csv', 'warnings': [], 'errors': None}\n",
      "{'sample': <Sample: _basalt_TANAGER>, 'filename': '../TANAGER-Ingest/output/2022_07_01_Alivia_Mixtures/basalt_11.csv', 'warnings': [], 'errors': None}\n",
      "{'sample': <Sample: _gypsum_TANAGER>, 'filename': '../TANAGER-Ingest/output/2022_07_01_Alivia_Mixtures/gypsum_3.csv', 'warnings': [], 'errors': None}\n",
      "{'sample': <Sample: _jsc_TANAGER>, 'filename': '../TANAGER-Ingest/output/2022_07_03_Alivia_Misc/jsc_4.csv', 'warnings': [], 'errors': None}\n",
      "{'sample': <Sample: _montmorillonite_TANAGER>, 'filename': '../TANAGER-Ingest/output/2022_07_03_Alivia_Misc/montmorillonite_2.csv', 'warnings': [], 'errors': None}\n",
      "{'sample': <Sample: _375anh_375mon_225bas_025jsc_TANAGER>, 'filename': '../TANAGER-Ingest/output/2022_07_03_Alivia_Mixtures2/375anh_375mon_225bas_025jsc_9.csv', 'warnings': [], 'errors': None}\n",
      "{'sample': <Sample: _75anh_225bas_025jsc_TANAGER>, 'filename': '../TANAGER-Ingest/output/2022_07_03_Alivia_Mixtures2/75anh_225bas_025jsc_7.csv', 'warnings': [], 'errors': None}\n",
      "{'sample': <Sample: _75eps_225bas_025jsc_TANAGER>, 'filename': '../TANAGER-Ingest/output/2022_07_03_Alivia_Mixtures2/75eps_225bas_025jsc_5.csv', 'warnings': [], 'errors': None}\n",
      "{'sample': <Sample: _75mon_225bas_025jsc_TANAGER>, 'filename': '../TANAGER-Ingest/output/2022_07_03_Alivia_Mixtures2/75mon_225bas_025jsc_3.csv', 'warnings': [], 'errors': None}\n",
      "{'sample': <Sample: _375eps_375mon_225bas_225jsc_TANAGER>, 'filename': '../TANAGER-Ingest/output/2022_07_04_Alivia_Mixtures_3/375eps_375mon_225bas_225jsc_7.csv', 'warnings': [], 'errors': None}\n",
      "{'sample': <Sample: _375non_375anh_225bas_025jsc_TANAGER>, 'filename': '../TANAGER-Ingest/output/2022_07_04_Alivia_Mixtures_3/375non_375anh_225bas_025jsc_5.csv', 'warnings': [], 'errors': None}\n",
      "{'sample': <Sample: _375non_375eps_225bas_025jsc_TANAGER>, 'filename': '../TANAGER-Ingest/output/2022_07_04_Alivia_Mixtures_3/375non_375eps_225bas_025jsc_3.csv', 'warnings': [], 'errors': None}\n",
      "{'sample': <Sample: _spectralon_disk1clean_goniometer_TANAGER>, 'filename': '../TANAGER-Ingest/output/2022_07_27_absolute_ref_panel_transfer/spectralon_disk1clean_goniometer_10.csv', 'warnings': [], 'errors': None}\n",
      "{'sample': <Sample: _spectralon_disk1clean_probe_TANAGER>, 'filename': '../TANAGER-Ingest/output/2022_07_27_absolute_ref_panel_transfer/spectralon_disk1clean_probe_13.csv', 'warnings': [], 'errors': None}\n",
      "{'sample': <Sample: _spectralon_disk1_goniometer_TANAGER>, 'filename': '../TANAGER-Ingest/output/2022_07_27_absolute_ref_panel_transfer/spectralon_disk1_goniometer_2.csv', 'warnings': [], 'errors': None}\n",
      "{'sample': <Sample: _spectralon_disk1_probe_TANAGER>, 'filename': '../TANAGER-Ingest/output/2022_07_27_absolute_ref_panel_transfer/spectralon_disk1_probe_6.csv', 'warnings': [], 'errors': None}\n",
      "{'sample': <Sample: _spectralon_disk2_goniometer_TANAGER>, 'filename': '../TANAGER-Ingest/output/2022_07_27_absolute_ref_panel_transfer/spectralon_disk2_goniometer_3.csv', 'warnings': [], 'errors': None}\n",
      "{'sample': <Sample: _spectralon_disk2_probe_TANAGER>, 'filename': '../TANAGER-Ingest/output/2022_07_27_absolute_ref_panel_transfer/spectralon_disk2_probe_8.csv', 'warnings': [], 'errors': None}\n",
      "{'sample': <Sample: _925dun_75hem_TANAGER>, 'filename': '../TANAGER-Ingest/output/2022_09_14_Max_ClaySulfate/925dun_75hem_2.csv', 'warnings': [], 'errors': None}\n",
      "{'sample': <Sample: _90and_10hem_TANAGER>, 'filename': '../TANAGER-Ingest/output/2022_10_03_Max_Goniometer_90_10_samples/90and_10hem_5.csv', 'warnings': [], 'errors': None}\n",
      "{'sample': <Sample: _90and_10jsc_TANAGER>, 'filename': '../TANAGER-Ingest/output/2022_10_03_Max_Goniometer_90_10_samples/90and_10jsc_10.csv', 'warnings': [], 'errors': None}\n",
      "{'sample': <Sample: _90bas_10hem_TANAGER>, 'filename': '../TANAGER-Ingest/output/2022_10_03_Max_Goniometer_90_10_samples/90bas_10hem_3.csv', 'warnings': [], 'errors': None}\n",
      "{'sample': <Sample: _90dun_10hem_TANAGER>, 'filename': '../TANAGER-Ingest/output/2022_10_03_Max_Goniometer_90_10_samples/90dun_10hem_4.csv', 'warnings': [], 'errors': None}\n",
      "{'sample': <Sample: _90ep_10mon_TANAGER>, 'filename': '../TANAGER-Ingest/output/2022_10_03_Max_Goniometer_90_10_samples/90ep_10mon_2.csv', 'warnings': [], 'errors': None}\n",
      "{'sample': <Sample: _90ep_10sap_TANAGER>, 'filename': '../TANAGER-Ingest/output/2022_10_03_Max_Goniometer_90_10_samples/90ep_10sap_6.csv', 'warnings': [], 'errors': None}\n",
      "{'sample': <Sample: _95and_5jsc_TANAGER>, 'filename': '../TANAGER-Ingest/output/2022_10_03_Max_Goniometer_90_10_samples/95and_5jsc_8.csv', 'warnings': [], 'errors': None}\n",
      "{'sample': <Sample: _gypsum_125_TANAGER>, 'filename': '../TANAGER-Ingest/output/2022_10_03_Max_Goniometer_90_10_samples/gypsum_125_9.csv', 'warnings': [], 'errors': None}\n",
      "{'sample': <Sample: _opal-bottom-1_TANAGER>, 'filename': '../TANAGER-Ingest/output/2022_10_17_Max_SmallDiameterProbe_HydratedOpal/opal-bottom-1_19.csv', 'warnings': [], 'errors': None}\n",
      "{'sample': <Sample: _opal-bottom-2_TANAGER>, 'filename': '../TANAGER-Ingest/output/2022_10_17_Max_SmallDiameterProbe_HydratedOpal/opal-bottom-2_21.csv', 'warnings': [], 'errors': None}\n",
      "{'sample': <Sample: _opal-layer-1_TANAGER>, 'filename': '../TANAGER-Ingest/output/2022_10_17_Max_SmallDiameterProbe_HydratedOpal/opal-layer-1_7.csv', 'warnings': [], 'errors': None}\n",
      "{'sample': <Sample: _opal-layer-2_TANAGER>, 'filename': '../TANAGER-Ingest/output/2022_10_17_Max_SmallDiameterProbe_HydratedOpal/opal-layer-2_9.csv', 'warnings': [], 'errors': None}\n",
      "{'sample': <Sample: _opal-layer-3_TANAGER>, 'filename': '../TANAGER-Ingest/output/2022_10_17_Max_SmallDiameterProbe_HydratedOpal/opal-layer-3_11.csv', 'warnings': [], 'errors': None}\n",
      "{'sample': <Sample: _opal-layer-4_TANAGER>, 'filename': '../TANAGER-Ingest/output/2022_10_17_Max_SmallDiameterProbe_HydratedOpal/opal-layer-4_13.csv', 'warnings': [], 'errors': None}\n",
      "{'sample': <Sample: _opal-layer-5_TANAGER>, 'filename': '../TANAGER-Ingest/output/2022_10_17_Max_SmallDiameterProbe_HydratedOpal/opal-layer-5_15.csv', 'warnings': [], 'errors': None}\n"
     ]
    },
    {
     "name": "stdout",
     "output_type": "stream",
     "text": [
      "{'sample': <Sample: _opal-layer-6_TANAGER>, 'filename': '../TANAGER-Ingest/output/2022_10_17_Max_SmallDiameterProbe_HydratedOpal/opal-layer-6_17.csv', 'warnings': [], 'errors': None}\n",
      "{'sample': <Sample: _opal-top-2_TANAGER>, 'filename': '../TANAGER-Ingest/output/2022_10_17_Max_SmallDiameterProbe_HydratedOpal/opal-top-2_5.csv', 'warnings': [], 'errors': None}\n",
      "{'sample': <Sample: _opal-top_TANAGER>, 'filename': '../TANAGER-Ingest/output/2022_10_17_Max_SmallDiameterProbe_HydratedOpal/opal-top_3.csv', 'warnings': [], 'errors': None}\n",
      "{'sample': <Sample: _80dunite_20hematite_TANAGER>, 'filename': '../TANAGER-Ingest/output/2022_11_03_Alivia_JezeroMixtures/80dunite_20hematite_13.csv', 'warnings': [], 'errors': None}\n",
      "{'sample': <Sample: _85basalt_15hematite_TANAGER>, 'filename': '../TANAGER-Ingest/output/2022_11_03_Alivia_JezeroMixtures/85basalt_15hematite_21.csv', 'warnings': [], 'errors': None}\n",
      "{'sample': <Sample: _90andesite_10hematite_TANAGER>, 'filename': '../TANAGER-Ingest/output/2022_11_03_Alivia_JezeroMixtures/90andesite_10hematite_23.csv', 'warnings': [], 'errors': None}\n",
      "{'sample': <Sample: _90basalt_10hematite_TANAGER>, 'filename': '../TANAGER-Ingest/output/2022_11_03_Alivia_JezeroMixtures/90basalt_10hematite_19.csv', 'warnings': [], 'errors': None}\n",
      "{'sample': <Sample: _90dunite_10hematite_TANAGER>, 'filename': '../TANAGER-Ingest/output/2022_11_03_Alivia_JezeroMixtures/90dunite_10hematite_11.csv', 'warnings': [], 'errors': None}\n",
      "{'sample': <Sample: _92.5basalt_7.5hematite_TANAGER>, 'filename': '../TANAGER-Ingest/output/2022_11_03_Alivia_JezeroMixtures/92.5basalt_7.5hematite_17.csv', 'warnings': [], 'errors': None}\n",
      "{'sample': <Sample: _92.5dunite_7.5hematite_TANAGER>, 'filename': '../TANAGER-Ingest/output/2022_11_03_Alivia_JezeroMixtures/92.5dunite_7.5hematite_9.csv', 'warnings': [], 'errors': None}\n",
      "{'sample': <Sample: _95andesite_5hematite_TANAGER>, 'filename': '../TANAGER-Ingest/output/2022_11_03_Alivia_JezeroMixtures/95andesite_5hematite_25.csv', 'warnings': [], 'errors': None}\n",
      "{'sample': <Sample: _95andesite_5hematite_TANAGER>, 'filename': '../TANAGER-Ingest/output/2022_11_03_Alivia_JezeroMixtures/95andesite_5hematite_26.csv', 'warnings': [], 'errors': None}\n",
      "{'sample': <Sample: _95basalt_5hematite_TANAGER>, 'filename': '../TANAGER-Ingest/output/2022_11_03_Alivia_JezeroMixtures/95basalt_5hematite_15.csv', 'warnings': [], 'errors': None}\n",
      "{'sample': <Sample: _95dunite_5hematite_2_TANAGER>, 'filename': '../TANAGER-Ingest/output/2022_11_03_Alivia_JezeroMixtures/95dunite_5hematite_2_7.csv', 'warnings': [], 'errors': None}\n",
      "{'sample': <Sample: _95dunite_5hematite_TANAGER>, 'filename': '../TANAGER-Ingest/output/2022_11_03_Alivia_JezeroMixtures/95dunite_5hematite_3.csv', 'warnings': [], 'errors': None}\n",
      "{'sample': <Sample: _98andesite_2hematite_TANAGER>, 'filename': '../TANAGER-Ingest/output/2022_11_03_Alivia_JezeroMixtures/98andesite_2hematite_28.csv', 'warnings': [], 'errors': None}\n",
      "{'sample': <Sample: _80dunite_20hematite_TANAGER>, 'filename': '../TANAGER-Ingest/output/2022_11_03_Alivia_JezeroMixtures_2/80dunite_20hematite_9.csv', 'warnings': [], 'errors': None}\n",
      "{'sample': <Sample: _85basalt_15hematite_TANAGER>, 'filename': '../TANAGER-Ingest/output/2022_11_03_Alivia_JezeroMixtures_2/85basalt_15hematite_17.csv', 'warnings': [], 'errors': None}\n",
      "{'sample': <Sample: _90andesite_10hematite_TANAGER>, 'filename': '../TANAGER-Ingest/output/2022_11_03_Alivia_JezeroMixtures_2/90andesite_10hematite_23.csv', 'warnings': [], 'errors': None}\n",
      "{'sample': <Sample: _90basalt_10hematite_TANAGER>, 'filename': '../TANAGER-Ingest/output/2022_11_03_Alivia_JezeroMixtures_2/90basalt_10hematite_15.csv', 'warnings': [], 'errors': None}\n",
      "{'sample': <Sample: _90dunite_hematite_TANAGER>, 'filename': '../TANAGER-Ingest/output/2022_11_03_Alivia_JezeroMixtures_2/90dunite_hematite_7.csv', 'warnings': [], 'errors': None}\n",
      "{'sample': <Sample: _92.5basalt_7.5hematite_TANAGER>, 'filename': '../TANAGER-Ingest/output/2022_11_03_Alivia_JezeroMixtures_2/92.5basalt_7.5hematite_13.csv', 'warnings': [], 'errors': None}\n",
      "{'sample': <Sample: _92.5dunite_7.5hematite_TANAGER>, 'filename': '../TANAGER-Ingest/output/2022_11_03_Alivia_JezeroMixtures_2/92.5dunite_7.5hematite_5.csv', 'warnings': [], 'errors': None}\n",
      "{'sample': <Sample: _95andesite_5hematite_TANAGER>, 'filename': '../TANAGER-Ingest/output/2022_11_03_Alivia_JezeroMixtures_2/95andesite_5hematite_21.csv', 'warnings': [], 'errors': None}\n",
      "{'sample': <Sample: _95basalt_5hematite_TANAGER>, 'filename': '../TANAGER-Ingest/output/2022_11_03_Alivia_JezeroMixtures_2/95basalt_5hematite_11.csv', 'warnings': [], 'errors': None}\n",
      "{'sample': <Sample: _95dunite_5hematite_TANAGER>, 'filename': '../TANAGER-Ingest/output/2022_11_03_Alivia_JezeroMixtures_2/95dunite_5hematite_3.csv', 'warnings': [], 'errors': None}\n",
      "{'sample': <Sample: _98andesite_2hematite_TANAGER>, 'filename': '../TANAGER-Ingest/output/2022_11_03_Alivia_JezeroMixtures_2/98andesite_2hematite_19.csv', 'warnings': [], 'errors': None}\n",
      "{'sample': <Sample: _gr_19_01_75-106um_TANAGER>, 'filename': '../TANAGER-Ingest/output/2022_11_03_Alivia_JezeroMixtures_2/gr_19_01_75-106um_25.csv', 'warnings': [], 'errors': None}\n",
      "{'sample': <Sample: _samplecup_TANAGER>, 'filename': '../TANAGER-Ingest/output/2022_11_03_Samplecup/samplecup_3.csv', 'warnings': [], 'errors': None}\n",
      "{'sample': <Sample: _whitetarget_TANAGER>, 'filename': '../TANAGER-Ingest/output/2022_11_03_Samplecup/whitetarget_5.csv', 'warnings': [], 'errors': None}\n",
      "{'sample': <Sample: _80epsomite_20montmorillonite_05basalt_TANAGER>, 'filename': '../TANAGER-Ingest/output/2022_11_07_Alivia_EspomiteMontmorillonite/80epsomite_20montmorillonite_05basalt_15.csv', 'warnings': [], 'errors': None}\n",
      "{'sample': <Sample: _80epsomite_20montmorillonite_10basalt_TANAGER>, 'filename': '../TANAGER-Ingest/output/2022_11_07_Alivia_EspomiteMontmorillonite/80epsomite_20montmorillonite_10basalt_17.csv', 'warnings': [], 'errors': None}\n",
      "{'sample': <Sample: _80epsomite_20montmorillonite_TANAGER>, 'filename': '../TANAGER-Ingest/output/2022_11_07_Alivia_EspomiteMontmorillonite/80epsomite_20montmorillonite_13.csv', 'warnings': [], 'errors': None}\n",
      "{'sample': <Sample: _90epsomite_10montmorillonite_05basalt_TANAGER>, 'filename': '../TANAGER-Ingest/output/2022_11_07_Alivia_EspomiteMontmorillonite/90epsomite_10montmorillonite_05basalt_9.csv', 'warnings': [], 'errors': None}\n",
      "{'sample': <Sample: _90epsomite_10montmorillonite_10basalt_TANAGER>, 'filename': '../TANAGER-Ingest/output/2022_11_07_Alivia_EspomiteMontmorillonite/90epsomite_10montmorillonite_10basalt_11.csv', 'warnings': [], 'errors': None}\n",
      "{'sample': <Sample: _90epsomite_10montmorillonite_TANAGER>, 'filename': '../TANAGER-Ingest/output/2022_11_07_Alivia_EspomiteMontmorillonite/90epsomite_10montmorillonite_7.csv', 'warnings': [], 'errors': None}\n",
      "{'sample': <Sample: _epsomite_75-106um_TANAGER>, 'filename': '../TANAGER-Ingest/output/2022_11_07_Alivia_EspomiteMontmorillonite/epsomite_75-106um_5.csv', 'warnings': [], 'errors': None}\n",
      "{'sample': <Sample: _85.5epsomite_9.5montmorillonite_05basalt_TANAGER>, 'filename': '../TANAGER-Ingest/output/2022_11_07_Alivia_Mixtures/85.5epsomite_9.5montmorillonite_05basalt_15.csv', 'warnings': [], 'errors': None}\n",
      "{'sample': <Sample: _85.5epsomite_9.5saponite_05basalt85.5epsomite_9.5saponite_05basalt_TANAGER>, 'filename': '../TANAGER-Ingest/output/2022_11_07_Alivia_Mixtures/85.5epsomite_9.5saponite_05basalt85.5epsomite_9.5saponite_05basalt_13.csv', 'warnings': [], 'errors': None}\n",
      "{'sample': <Sample: _90epsomite_10montmorillonite_TANAGER>, 'filename': '../TANAGER-Ingest/output/2022_11_07_Alivia_Mixtures/90epsomite_10montmorillonite_5.csv', 'warnings': [], 'errors': None}\n",
      "{'sample': <Sample: _90epsomite_10saponite_TANAGER>, 'filename': '../TANAGER-Ingest/output/2022_11_07_Alivia_Mixtures/90epsomite_10saponite_3.csv', 'warnings': [], 'errors': None}\n",
      "{'sample': <Sample: _em_gr10_TANAGER>, 'filename': '../TANAGER-Ingest/output/2022_11_07_Alivia_Mixtures/em_gr10_9.csv', 'warnings': [], 'errors': None}\n",
      "{'sample': <Sample: _en_gr10_TANAGER>, 'filename': '../TANAGER-Ingest/output/2022_11_07_Alivia_Mixtures/en_gr10_11.csv', 'warnings': [], 'errors': None}\n"
     ]
    },
    {
     "name": "stdout",
     "output_type": "stream",
     "text": [
      "{'sample': <Sample: _epsomite_TANAGER>, 'filename': '../TANAGER-Ingest/output/2022_11_07_Alivia_Mixtures/epsomite_18.csv', 'warnings': [], 'errors': None}\n",
      "{'sample': <Sample: _es_gr10_TANAGER>, 'filename': '../TANAGER-Ingest/output/2022_11_07_Alivia_Mixtures/es_gr10_7.csv', 'warnings': [], 'errors': None}\n",
      "{'sample': <Sample: _80eps_20mon_05bas_TANAGER>, 'filename': '../TANAGER-Ingest/output/2022_11_08_Alivia_Epsomite_Montmorillonite/80eps_20mon_05bas_11.csv', 'warnings': [], 'errors': None}\n",
      "{'sample': <Sample: _80eps_20mon_10bas_TANAGER>, 'filename': '../TANAGER-Ingest/output/2022_11_08_Alivia_Epsomite_Montmorillonite/80eps_20mon_10bas_13.csv', 'warnings': [], 'errors': None}\n",
      "{'sample': <Sample: _80eps_20mon_TANAGER>, 'filename': '../TANAGER-Ingest/output/2022_11_08_Alivia_Epsomite_Montmorillonite/80eps_20mon_9.csv', 'warnings': [], 'errors': None}\n",
      "{'sample': <Sample: _90epsomite_10montmorillonite_TANAGER>, 'filename': '../TANAGER-Ingest/output/2022_11_08_Alivia_Epsomite_Montmorillonite/90epsomite_10montmorillonite_3.csv', 'warnings': [], 'errors': None}\n",
      "{'sample': <Sample: _90eps_10mon_05bas_TANAGER>, 'filename': '../TANAGER-Ingest/output/2022_11_08_Alivia_Epsomite_Montmorillonite/90eps_10mon_05bas_5.csv', 'warnings': [], 'errors': None}\n",
      "{'sample': <Sample: _90eps_10mon_10bas_TANAGER>, 'filename': '../TANAGER-Ingest/output/2022_11_08_Alivia_Epsomite_Montmorillonite/90eps_10mon_10bas_7.csv', 'warnings': [], 'errors': None}\n",
      "{'sample': <Sample: _nontronite_75_106um_TANAGER>, 'filename': '../TANAGER-Ingest/output/2022_11_21_Alivia_Clays/nontronite_75_106um_3.csv', 'warnings': [], 'errors': None}\n",
      "{'sample': <Sample: _saponite_75_106um_TANAGER>, 'filename': '../TANAGER-Ingest/output/2022_11_21_Alivia_Clays/saponite_75_106um_5.csv', 'warnings': [], 'errors': None}\n",
      "{'sample': <Sample: _80epsomite_20nontronite_10basalt_TANAGER>, 'filename': '../TANAGER-Ingest/output/2022_11_21_Alivia_Epsomite_Saponite_Nontronite/80epsomite_20nontronite_10basalt_25.csv', 'warnings': [], 'errors': None}\n",
      "{'sample': <Sample: _80epsomite_20nontronite_TANAGER>, 'filename': '../TANAGER-Ingest/output/2022_11_21_Alivia_Epsomite_Saponite_Nontronite/80epsomite_20nontronite_5.csv', 'warnings': [], 'errors': None}\n",
      "{'sample': <Sample: _80epsomite_20nontronite_5basalt_TANAGER>, 'filename': '../TANAGER-Ingest/output/2022_11_21_Alivia_Epsomite_Saponite_Nontronite/80epsomite_20nontronite_5basalt_23.csv', 'warnings': [], 'errors': None}\n",
      "{'sample': <Sample: _80epsomite_20saponite_10basalt_TANAGER>, 'filename': '../TANAGER-Ingest/output/2022_11_21_Alivia_Epsomite_Saponite_Nontronite/80epsomite_20saponite_10basalt_17.csv', 'warnings': [], 'errors': None}\n",
      "{'sample': <Sample: _80epsomite_20saponite_5basalt_TANAGER>, 'filename': '../TANAGER-Ingest/output/2022_11_21_Alivia_Epsomite_Saponite_Nontronite/80epsomite_20saponite_5basalt_15.csv', 'warnings': [], 'errors': None}\n",
      "{'sample': <Sample: _80epsomite_20saponite_TANAGER>, 'filename': '../TANAGER-Ingest/output/2022_11_21_Alivia_Epsomite_Saponite_Nontronite/80epsomite_20saponite_9.csv', 'warnings': [], 'errors': None}\n",
      "{'sample': <Sample: _90epsomite_10nontronite_10basalt_TANAGER>, 'filename': '../TANAGER-Ingest/output/2022_11_21_Alivia_Epsomite_Saponite_Nontronite/90epsomite_10nontronite_10basalt_21.csv', 'warnings': [], 'errors': None}\n",
      "{'sample': <Sample: _90epsomite_10nontronite_TANAGER>, 'filename': '../TANAGER-Ingest/output/2022_11_21_Alivia_Epsomite_Saponite_Nontronite/90epsomite_10nontronite_3.csv', 'warnings': [], 'errors': None}\n",
      "{'sample': <Sample: _90epsomite_10nontronite_5basalt_TANAGER>, 'filename': '../TANAGER-Ingest/output/2022_11_21_Alivia_Epsomite_Saponite_Nontronite/90epsomite_10nontronite_5basalt_19.csv', 'warnings': [], 'errors': None}\n",
      "{'sample': <Sample: _90epsomite_10saponite_10basalt_TANAGER>, 'filename': '../TANAGER-Ingest/output/2022_11_21_Alivia_Epsomite_Saponite_Nontronite/90epsomite_10saponite_10basalt_13.csv', 'warnings': [], 'errors': None}\n",
      "{'sample': <Sample: _90epsomite_10saponite_5basalt_TANAGER>, 'filename': '../TANAGER-Ingest/output/2022_11_21_Alivia_Epsomite_Saponite_Nontronite/90epsomite_10saponite_5basalt_11.csv', 'warnings': [], 'errors': None}\n",
      "{'sample': <Sample: _90epsomite_10saponite_TANAGER>, 'filename': '../TANAGER-Ingest/output/2022_11_21_Alivia_Epsomite_Saponite_Nontronite/90epsomite_10saponite_7.csv', 'warnings': [], 'errors': None}\n",
      "{'sample': <Sample: Ka'u Desert Trail Basalt_kdt_yc_black_TANAGER>, 'filename': '../TANAGER-Ingest/output/2022_11_30_Sammy_SDprobe_Hawaii_Basalts/kdt_yc_black_7.csv', 'warnings': [], 'errors': None}\n",
      "{'sample': <Sample: Ka'u Desert Trail Basalt_kdt_yc_sidemiddle_TANAGER>, 'filename': '../TANAGER-Ingest/output/2022_11_30_Sammy_SDprobe_Hawaii_Basalts/kdt_yc_sidemiddle_13.csv', 'warnings': [], 'errors': None}\n",
      "{'sample': <Sample: Ka'u Desert Trail Basalt_kdt_yc_sidetop_TANAGER>, 'filename': '../TANAGER-Ingest/output/2022_11_30_Sammy_SDprobe_Hawaii_Basalts/kdt_yc_sidetop_10.csv', 'warnings': [], 'errors': None}\n",
      "{'sample': <Sample: Ka'u Desert Trail Basalt_kdt_yc_yellowblue_TANAGER>, 'filename': '../TANAGER-Ingest/output/2022_11_30_Sammy_SDprobe_Hawaii_Basalts/kdt_yc_yellowblue_5.csv', 'warnings': [], 'errors': None}\n",
      "{'sample': <Sample: Ka'u Desert Trail Basalt_kdt_yc_yellowest_TANAGER>, 'filename': '../TANAGER-Ingest/output/2022_11_30_Sammy_SDprobe_Hawaii_Basalts/kdt_yc_yellowest_3.csv', 'warnings': [], 'errors': None}\n",
      "{'sample': <Sample: Mauna Iki Trail Basalt_mit_bc_black_TANAGER>, 'filename': '../TANAGER-Ingest/output/2022_11_30_Sammy_SDprobe_Hawaii_Basalts/mit_bc_black_30.csv', 'warnings': [], 'errors': None}\n",
      "{'sample': <Sample: Mauna Iki Trail Basalt_mit_bc_bluest_TANAGER>, 'filename': '../TANAGER-Ingest/output/2022_11_30_Sammy_SDprobe_Hawaii_Basalts/mit_bc_bluest_26.csv', 'warnings': [], 'errors': None}\n",
      "{'sample': <Sample: Mauna Iki Trail Basalt_mit_bc_sideblack_TANAGER>, 'filename': '../TANAGER-Ingest/output/2022_11_30_Sammy_SDprobe_Hawaii_Basalts/mit_bc_sideblack_33.csv', 'warnings': [], 'errors': None}\n",
      "{'sample': <Sample: Mauna Iki Trail Basalt_mit_bc_sideorange_TANAGER>, 'filename': '../TANAGER-Ingest/output/2022_11_30_Sammy_SDprobe_Hawaii_Basalts/mit_bc_sideorange_37.csv', 'warnings': [], 'errors': None}\n",
      "{'sample': <Sample: Mauna Iki Trail Basalt_mit_bc_yellowishblue_TANAGER>, 'filename': '../TANAGER-Ingest/output/2022_11_30_Sammy_SDprobe_Hawaii_Basalts/mit_bc_yellowishblue_28.csv', 'warnings': [], 'errors': None}\n",
      "{'sample': <Sample: Mauna Iki Trail Basalt_mit_lc_lesscoated_TANAGER>, 'filename': '../TANAGER-Ingest/output/2022_11_30_Sammy_SDprobe_Hawaii_Basalts/mit_lc_lesscoated_41.csv', 'warnings': [], 'errors': None}\n",
      "{'sample': <Sample: Mauna Iki Trail Basalt_mit_lc_morecoated_TANAGER>, 'filename': '../TANAGER-Ingest/output/2022_11_30_Sammy_SDprobe_Hawaii_Basalts/mit_lc_morecoated_39.csv', 'warnings': [], 'errors': None}\n",
      "{'sample': <Sample: Puna Coast Trail Basalt_pct_lc_shineyside_TANAGER>, 'filename': '../TANAGER-Ingest/output/2022_11_30_Sammy_SDprobe_Hawaii_Basalts/pct_lc_shineyside_45.csv', 'warnings': [], 'errors': None}\n",
      "{'sample': <Sample: Puna Coast Trail Basalt_pct_lc_topsurface_TANAGER>, 'filename': '../TANAGER-Ingest/output/2022_11_30_Sammy_SDprobe_Hawaii_Basalts/pct_lc_topsurface_43.csv', 'warnings': [], 'errors': None}\n",
      "{'sample': <Sample: Puna Coast Trail Basalt_pct_rc_black_TANAGER>, 'filename': '../TANAGER-Ingest/output/2022_11_30_Sammy_SDprobe_Hawaii_Basalts/pct_rc_black_19.csv', 'warnings': [], 'errors': None}\n",
      "{'sample': <Sample: Puna Coast Trail Basalt_pct_rc_lighterred_TANAGER>, 'filename': '../TANAGER-Ingest/output/2022_11_30_Sammy_SDprobe_Hawaii_Basalts/pct_rc_lighterred_17.csv', 'warnings': [], 'errors': None}\n",
      "{'sample': <Sample: Puna Coast Trail Basalt_pct_rc_reddest_TANAGER>, 'filename': '../TANAGER-Ingest/output/2022_11_30_Sammy_SDprobe_Hawaii_Basalts/pct_rc_reddest_15.csv', 'warnings': [], 'errors': None}\n",
      "{'sample': <Sample: Puna Coast Trail Basalt_pct_rc_sideblack_TANAGER>, 'filename': '../TANAGER-Ingest/output/2022_11_30_Sammy_SDprobe_Hawaii_Basalts/pct_rc_sideblack_22.csv', 'warnings': [], 'errors': None}\n"
     ]
    },
    {
     "name": "stdout",
     "output_type": "stream",
     "text": [
      "{'sample': <Sample: Puna Coast Trail Basalt_pct_rc_sideorange_TANAGER>, 'filename': '../TANAGER-Ingest/output/2022_11_30_Sammy_SDprobe_Hawaii_Basalts/pct_rc_sideorange_24.csv', 'warnings': [], 'errors': None}\n",
      "{'sample': <Sample: _damascus_spec_TANAGER>, 'filename': '../TANAGER-Ingest/output/2022_12_01_Max_LPSC_PreCoat2/damascus_23.csv', 'warnings': [], 'errors': None}\n",
      "{'sample': <Sample: _farragut_spec_TANAGER>, 'filename': '../TANAGER-Ingest/output/2022_12_01_Max_LPSC_PreCoat2/farragut_20.csv', 'warnings': [], 'errors': None}\n",
      "{'sample': <Sample: _hammurabi_spec_TANAGER>, 'filename': '../TANAGER-Ingest/output/2022_12_01_Max_LPSC_PreCoat2/hammurabi_24.csv', 'warnings': [], 'errors': None}\n",
      "{'sample': <Sample: _tripoli_spec_TANAGER>, 'filename': '../TANAGER-Ingest/output/2022_12_01_Max_LPSC_PreCoat2/tripoli_21.csv', 'warnings': [], 'errors': None}\n",
      "{'sample': <Sample: _zenobia_spec_TANAGER>, 'filename': '../TANAGER-Ingest/output/2022_12_01_Max_LPSC_PreCoat2/zenobia_22.csv', 'warnings': [], 'errors': None}\n",
      "{'sample': <Sample: _koto_spec_TANAGER>, 'filename': '../TANAGER-Ingest/output/2022_12_05_Max_LPSC_PreCoat2.1/koto_19.csv', 'warnings': [], 'errors': None}\n",
      "{'sample': <Sample: _pella_spec_TANAGER>, 'filename': '../TANAGER-Ingest/output/2022_12_05_Max_LPSC_PreCoat2.1/pella_18.csv', 'warnings': [], 'errors': None}\n",
      "{'sample': <Sample: _tynan_spec_TANAGER>, 'filename': '../TANAGER-Ingest/output/2022_12_05_Max_LPSC_PreCoat2.1/tynan_20.csv', 'warnings': [], 'errors': None}\n",
      "{'sample': <Sample: _xuesen_spec_TANAGER>, 'filename': '../TANAGER-Ingest/output/2022_12_05_Max_LPSC_PreCoat2.1/xuesen_17.csv', 'warnings': [], 'errors': None}\n",
      "{'sample': <Sample: Ka'u Desert Trail Basalt_kdt_yc2_black_TANAGER>, 'filename': '../TANAGER-Ingest/output/2022_12_09_SammySDProbe_Hawaii_Basalts_2/kdt_yc2_black_16.csv', 'warnings': [], 'errors': None}\n",
      "{'sample': <Sample: Ka'u Desert Trail Basalt_kdt_yc2_yellowblue_TANAGER>, 'filename': '../TANAGER-Ingest/output/2022_12_09_SammySDProbe_Hawaii_Basalts_2/kdt_yc2_yellowblue_18.csv', 'warnings': [], 'errors': None}\n",
      "{'sample': <Sample: Ka'u Desert Trail Basalt_kdt_yc2_yellowest_TANAGER>, 'filename': '../TANAGER-Ingest/output/2022_12_09_SammySDProbe_Hawaii_Basalts_2/kdt_yc2_yellowest_14.csv', 'warnings': [], 'errors': None}\n",
      "{'sample': <Sample: Mauna Iki Trail Basalt_mit_bc2_darkblue_TANAGER>, 'filename': '../TANAGER-Ingest/output/2022_12_09_SammySDProbe_Hawaii_Basalts_2/mit_bc2_darkblue_7.csv', 'warnings': [], 'errors': None}\n",
      "{'sample': <Sample: Mauna Iki Trail Basalt_mit_bc2_mediumblue_TANAGER>, 'filename': '../TANAGER-Ingest/output/2022_12_09_SammySDProbe_Hawaii_Basalts_2/mit_bc2_mediumblue_9.csv', 'warnings': [], 'errors': None}\n",
      "{'sample': <Sample: Mauna Iki Trail Basalt_mit_bc2_yellowishblue_TANAGER>, 'filename': '../TANAGER-Ingest/output/2022_12_09_SammySDProbe_Hawaii_Basalts_2/mit_bc2_yellowishblue_12.csv', 'warnings': [], 'errors': None}\n",
      "{'sample': <Sample: Mauna Iki Trail Basalt_mit_bc_yellowishblue_2_TANAGER>, 'filename': '../TANAGER-Ingest/output/2022_12_09_SammySDProbe_Hawaii_Basalts_2/mit_bc_yellowishblue_2_5.csv', 'warnings': [], 'errors': None}\n",
      "{'sample': <Sample: Mauna Iki Trail Basalt_mit_lc_morecoated_2_TANAGER>, 'filename': '../TANAGER-Ingest/output/2022_12_09_SammySDProbe_Hawaii_Basalts_2/mit_lc_morecoated_2_3.csv', 'warnings': [], 'errors': None}\n",
      "{'sample': <Sample: Puna Coast Trail Basalt_pct_rcsmallsample_black_TANAGER>, 'filename': '../TANAGER-Ingest/output/2022_12_09_SammySDProbe_Hawaii_Basalts_2/pct_rcsmallsample_black_20.csv', 'warnings': [], 'errors': None}\n",
      "{'sample': <Sample: Puna Coast Trail Basalt_pct_rcsmallsample_red2_TANAGER>, 'filename': '../TANAGER-Ingest/output/2022_12_09_SammySDProbe_Hawaii_Basalts_2/pct_rcsmallsample_red2_25.csv', 'warnings': [], 'errors': None}\n",
      "{'sample': <Sample: Puna Coast Trail Basalt_pct_rcsmallsample_red_TANAGER>, 'filename': '../TANAGER-Ingest/output/2022_12_09_SammySDProbe_Hawaii_Basalts_2/pct_rcsmallsample_red_23.csv', 'warnings': [], 'errors': None}\n",
      "{'sample': <Sample: Ka'u Desert Trail Basalt_kdt_yc2_black_TANAGER>, 'filename': '../TANAGER-Ingest/output/2022_12_11_SammySDGoniometer_Hawaii_Basalts/kdt_yc2_black_61.csv', 'warnings': [], 'errors': None}\n",
      "{'sample': <Sample: Ka'u Desert Trail Basalt_kdt_yc2_yellowblue_TANAGER>, 'filename': '../TANAGER-Ingest/output/2022_12_11_SammySDGoniometer_Hawaii_Basalts/kdt_yc2_yellowblue_63.csv', 'warnings': [], 'errors': None}\n",
      "{'sample': <Sample: Ka'u Desert Trail Basalt_kdt_yc2_yellowest_TANAGER>, 'filename': '../TANAGER-Ingest/output/2022_12_11_SammySDGoniometer_Hawaii_Basalts/kdt_yc2_yellowest_59.csv', 'warnings': [], 'errors': None}\n",
      "{'sample': <Sample: Ka'u Desert Trail Basalt_kdt_yc_30_0_0_std_TANAGER>, 'filename': '../TANAGER-Ingest/output/2022_12_11_SammySDGoniometer_Hawaii_Basalts/kdt_yc_30_0_0_72.csv', 'warnings': [], 'errors': None}\n",
      "{'sample': <Sample: Ka'u Desert Trail Basalt_kdt_yc_black_TANAGER>, 'filename': '../TANAGER-Ingest/output/2022_12_11_SammySDGoniometer_Hawaii_Basalts/kdt_yc_black_7.csv', 'warnings': [], 'errors': None}\n",
      "{'sample': <Sample: Ka'u Desert Trail Basalt_kdt_yc_sidemiddle_TANAGER>, 'filename': '../TANAGER-Ingest/output/2022_12_11_SammySDGoniometer_Hawaii_Basalts/kdt_yc_sidemiddle_13.csv', 'warnings': [], 'errors': None}\n",
      "{'sample': <Sample: Ka'u Desert Trail Basalt_kdt_yc_sidetop_TANAGER>, 'filename': '../TANAGER-Ingest/output/2022_12_11_SammySDGoniometer_Hawaii_Basalts/kdt_yc_sidetop_10.csv', 'warnings': [], 'errors': None}\n",
      "{'sample': <Sample: Ka'u Desert Trail Basalt_kdt_yc_yellowblue_TANAGER>, 'filename': '../TANAGER-Ingest/output/2022_12_11_SammySDGoniometer_Hawaii_Basalts/kdt_yc_yellowblue_5.csv', 'warnings': [], 'errors': None}\n",
      "{'sample': <Sample: Ka'u Desert Trail Basalt_kdt_yc_yellowest_TANAGER>, 'filename': '../TANAGER-Ingest/output/2022_12_11_SammySDGoniometer_Hawaii_Basalts/kdt_yc_yellowest_3.csv', 'warnings': [], 'errors': None}\n",
      "{'sample': <Sample: Mauna Iki Trail Basalt_mit_bc2_darkblue_TANAGER>, 'filename': '../TANAGER-Ingest/output/2022_12_11_SammySDGoniometer_Hawaii_Basalts/mit_bc2_darkblue_52.csv', 'warnings': [], 'errors': None}\n",
      "{'sample': <Sample: Mauna Iki Trail Basalt_mit_bc2_mediumblue_TANAGER>, 'filename': '../TANAGER-Ingest/output/2022_12_11_SammySDGoniometer_Hawaii_Basalts/mit_bc2_mediumblue_54.csv', 'warnings': [], 'errors': None}\n",
      "{'sample': <Sample: Mauna Iki Trail Basalt_mit_bc2_yellowishblue_TANAGER>, 'filename': '../TANAGER-Ingest/output/2022_12_11_SammySDGoniometer_Hawaii_Basalts/mit_bc2_yellowishblue_57.csv', 'warnings': [], 'errors': None}\n",
      "{'sample': <Sample: Mauna Iki Trail Basalt_mit_bc_30_0_0_std_TANAGER>, 'filename': '../TANAGER-Ingest/output/2022_12_11_SammySDGoniometer_Hawaii_Basalts/mit_bc_30_0_0_108.csv', 'warnings': [], 'errors': None}\n",
      "{'sample': <Sample: Mauna Iki Trail Basalt_mit_bc_black_TANAGER>, 'filename': '../TANAGER-Ingest/output/2022_12_11_SammySDGoniometer_Hawaii_Basalts/mit_bc_black_30.csv', 'warnings': [], 'errors': None}\n",
      "{'sample': <Sample: Mauna Iki Trail Basalt_mit_bc_bluest_TANAGER>, 'filename': '../TANAGER-Ingest/output/2022_12_11_SammySDGoniometer_Hawaii_Basalts/mit_bc_bluest_26.csv', 'warnings': [], 'errors': None}\n",
      "{'sample': <Sample: Mauna Iki Trail Basalt_mit_bc_sideblack_TANAGER>, 'filename': '../TANAGER-Ingest/output/2022_12_11_SammySDGoniometer_Hawaii_Basalts/mit_bc_sideblack_33.csv', 'warnings': [], 'errors': None}\n",
      "{'sample': <Sample: Mauna Iki Trail Basalt_mit_bc_sideorange_TANAGER>, 'filename': '../TANAGER-Ingest/output/2022_12_11_SammySDGoniometer_Hawaii_Basalts/mit_bc_sideorange_37.csv', 'warnings': [], 'errors': None}\n",
      "{'sample': <Sample: Mauna Iki Trail Basalt_mit_bc_yellowishblue_TANAGER>, 'filename': '../TANAGER-Ingest/output/2022_12_11_SammySDGoniometer_Hawaii_Basalts/mit_bc_yellowishblue_28.csv', 'warnings': [], 'errors': None}\n",
      "{'sample': <Sample: Mauna Iki Trail Basalt_mit_bc_yellowishblue_2_TANAGER>, 'filename': '../TANAGER-Ingest/output/2022_12_11_SammySDGoniometer_Hawaii_Basalts/mit_bc_yellowishblue_2_50.csv', 'warnings': [], 'errors': None}\n"
     ]
    },
    {
     "name": "stdout",
     "output_type": "stream",
     "text": [
      "{'sample': <Sample: Mauna Iki Trail Basalt_mit_lc_30_0_0_std_TANAGER>, 'filename': '../TANAGER-Ingest/output/2022_12_11_SammySDGoniometer_Hawaii_Basalts/mit_lc_30_0_0_71.csv', 'warnings': [], 'errors': None}\n",
      "{'sample': <Sample: Mauna Iki Trail Basalt_mit_lc_lesscoated_TANAGER>, 'filename': '../TANAGER-Ingest/output/2022_12_11_SammySDGoniometer_Hawaii_Basalts/mit_lc_lesscoated_41.csv', 'warnings': [], 'errors': None}\n",
      "{'sample': <Sample: Mauna Iki Trail Basalt_mit_lc_morecoated_2_TANAGER>, 'filename': '../TANAGER-Ingest/output/2022_12_11_SammySDGoniometer_Hawaii_Basalts/mit_lc_morecoated_2_48.csv', 'warnings': [], 'errors': None}\n",
      "{'sample': <Sample: Mauna Iki Trail Basalt_mit_lc_morecoated_TANAGER>, 'filename': '../TANAGER-Ingest/output/2022_12_11_SammySDGoniometer_Hawaii_Basalts/mit_lc_morecoated_39.csv', 'warnings': [], 'errors': None}\n",
      "{'sample': <Sample: Puna Coast Trail Basalt_pct_lc_30_0_0_std_TANAGER>, 'filename': '../TANAGER-Ingest/output/2022_12_11_SammySDGoniometer_Hawaii_Basalts/pct_lc_30_0_0_107.csv', 'warnings': [], 'errors': None}\n",
      "{'sample': <Sample: Puna Coast Trail Basalt_pct_lc_shineyside_TANAGER>, 'filename': '../TANAGER-Ingest/output/2022_12_11_SammySDGoniometer_Hawaii_Basalts/pct_lc_shineyside_45.csv', 'warnings': [], 'errors': None}\n",
      "{'sample': <Sample: Puna Coast Trail Basalt_pct_lc_topsurface_TANAGER>, 'filename': '../TANAGER-Ingest/output/2022_12_11_SammySDGoniometer_Hawaii_Basalts/pct_lc_topsurface_43.csv', 'warnings': [], 'errors': None}\n",
      "{'sample': <Sample: Puna Coast Trail Basalt_pct_rcsmallsample_black_TANAGER>, 'filename': '../TANAGER-Ingest/output/2022_12_11_SammySDGoniometer_Hawaii_Basalts/pct_rcsmallsample_black_65.csv', 'warnings': [], 'errors': None}\n",
      "{'sample': <Sample: Puna Coast Trail Basalt_pct_rcsmallsample_red2_TANAGER>, 'filename': '../TANAGER-Ingest/output/2022_12_11_SammySDGoniometer_Hawaii_Basalts/pct_rcsmallsample_red2_70.csv', 'warnings': [], 'errors': None}\n",
      "{'sample': <Sample: Puna Coast Trail Basalt_pct_rcsmallsample_red_TANAGER>, 'filename': '../TANAGER-Ingest/output/2022_12_11_SammySDGoniometer_Hawaii_Basalts/pct_rcsmallsample_red_68.csv', 'warnings': [], 'errors': None}\n",
      "{'sample': <Sample: Puna Coast Trail Basalt_pct_rc_black_TANAGER>, 'filename': '../TANAGER-Ingest/output/2022_12_11_SammySDGoniometer_Hawaii_Basalts/pct_rc_black_19.csv', 'warnings': [], 'errors': None}\n",
      "{'sample': <Sample: Puna Coast Trail Basalt_pct_rc_lighterred_TANAGER>, 'filename': '../TANAGER-Ingest/output/2022_12_11_SammySDGoniometer_Hawaii_Basalts/pct_rc_lighterred_17.csv', 'warnings': [], 'errors': None}\n",
      "{'sample': <Sample: Puna Coast Trail Basalt_pct_rc_reddest_TANAGER>, 'filename': '../TANAGER-Ingest/output/2022_12_11_SammySDGoniometer_Hawaii_Basalts/pct_rc_reddest_15.csv', 'warnings': [], 'errors': None}\n",
      "{'sample': <Sample: Puna Coast Trail Basalt_pct_rc_sideblack_TANAGER>, 'filename': '../TANAGER-Ingest/output/2022_12_11_SammySDGoniometer_Hawaii_Basalts/pct_rc_sideblack_22.csv', 'warnings': [], 'errors': None}\n",
      "{'sample': <Sample: Puna Coast Trail Basalt_pct_rc_sideorange_TANAGER>, 'filename': '../TANAGER-Ingest/output/2022_12_11_SammySDGoniometer_Hawaii_Basalts/pct_rc_sideorange_24.csv', 'warnings': [], 'errors': None}\n",
      "{'sample': <Sample: Puna Coast Trail Basalt_pct_rc__30_0_0_std_TANAGER>, 'filename': '../TANAGER-Ingest/output/2022_12_11_SammySDGoniometer_Hawaii_Basalts/pct_rc__30_0_0_74.csv', 'warnings': [], 'errors': None}\n",
      "{'sample': <Sample: Puna Coast Trail Basalt_pct_yc_30_0_0_std_TANAGER>, 'filename': '../TANAGER-Ingest/output/2022_12_11_SammySDGoniometer_Hawaii_Basalts/pct_yc_30_0_0_73.csv', 'warnings': [], 'errors': None}\n",
      "{'sample': <Sample: _interior1_TANAGER>, 'filename': '../TANAGER-Ingest/output/2022_12_16_Sammy_Interior_Hawaii_Basalt_Small_Probe/interior1_3.csv', 'warnings': [], 'errors': None}\n",
      "{'sample': <Sample: _mitp4_TANAGER>, 'filename': '../TANAGER-Ingest/output/2022_12_16_Sammy_Interior_Hawaii_Basalt_Small_Probe/mitp4_43.csv', 'warnings': [], 'errors': None}\n",
      "{'sample': <Sample: _mitp5_TANAGER>, 'filename': '../TANAGER-Ingest/output/2022_12_16_Sammy_Interior_Hawaii_Basalt_Small_Probe/mitp5_44.csv', 'warnings': [], 'errors': None}\n",
      "{'sample': <Sample: Mauna Iki Trail Basalt_mit_p1_TANAGER>, 'filename': '../TANAGER-Ingest/output/2022_12_16_Sammy_Interior_Hawaii_Basalt_Small_Probe/mit_p1_37.csv', 'warnings': [], 'errors': None}\n",
      "{'sample': <Sample: Mauna Iki Trail Basalt_mit_p2_TANAGER>, 'filename': '../TANAGER-Ingest/output/2022_12_16_Sammy_Interior_Hawaii_Basalt_Small_Probe/mit_p2_39.csv', 'warnings': [], 'errors': None}\n",
      "{'sample': <Sample: Mauna Iki Trail Basalt_mit_p3_TANAGER>, 'filename': '../TANAGER-Ingest/output/2022_12_16_Sammy_Interior_Hawaii_Basalt_Small_Probe/mit_p3_41.csv', 'warnings': [], 'errors': None}\n",
      "{'sample': <Sample: _spot10_TANAGER>, 'filename': '../TANAGER-Ingest/output/2022_12_16_Sammy_Interior_Hawaii_Basalt_Small_Probe/spot10_18.csv', 'warnings': [], 'errors': None}\n",
      "{'sample': <Sample: _spot11_TANAGER>, 'filename': '../TANAGER-Ingest/output/2022_12_16_Sammy_Interior_Hawaii_Basalt_Small_Probe/spot11_20.csv', 'warnings': [], 'errors': None}\n",
      "{'sample': <Sample: _spot12_TANAGER>, 'filename': '../TANAGER-Ingest/output/2022_12_16_Sammy_Interior_Hawaii_Basalt_Small_Probe/spot12_22.csv', 'warnings': [], 'errors': None}\n",
      "{'sample': <Sample: _spot13_TANAGER>, 'filename': '../TANAGER-Ingest/output/2022_12_16_Sammy_Interior_Hawaii_Basalt_Small_Probe/spot13_25.csv', 'warnings': [], 'errors': None}\n",
      "{'sample': <Sample: _spot14b_TANAGER>, 'filename': '../TANAGER-Ingest/output/2022_12_16_Sammy_Interior_Hawaii_Basalt_Small_Probe/spot14b_28.csv', 'warnings': [], 'errors': None}\n",
      "{'sample': <Sample: _spot14_TANAGER>, 'filename': '../TANAGER-Ingest/output/2022_12_16_Sammy_Interior_Hawaii_Basalt_Small_Probe/spot14_27.csv', 'warnings': [], 'errors': None}\n",
      "{'sample': <Sample: _spot15_TANAGER>, 'filename': '../TANAGER-Ingest/output/2022_12_16_Sammy_Interior_Hawaii_Basalt_Small_Probe/spot15_30.csv', 'warnings': [], 'errors': None}\n",
      "{'sample': <Sample: _spot16_TANAGER>, 'filename': '../TANAGER-Ingest/output/2022_12_16_Sammy_Interior_Hawaii_Basalt_Small_Probe/spot16_32.csv', 'warnings': [], 'errors': None}\n",
      "{'sample': <Sample: _spot17_TANAGER>, 'filename': '../TANAGER-Ingest/output/2022_12_16_Sammy_Interior_Hawaii_Basalt_Small_Probe/spot17_34.csv', 'warnings': [], 'errors': None}\n",
      "{'sample': <Sample: _spot2_TANAGER>, 'filename': '../TANAGER-Ingest/output/2022_12_16_Sammy_Interior_Hawaii_Basalt_Small_Probe/spot2_5.csv', 'warnings': [], 'errors': None}\n",
      "{'sample': <Sample: _spot3_TANAGER>, 'filename': '../TANAGER-Ingest/output/2022_12_16_Sammy_Interior_Hawaii_Basalt_Small_Probe/spot3_7.csv', 'warnings': [], 'errors': None}\n",
      "{'sample': <Sample: _spot5_TANAGER>, 'filename': '../TANAGER-Ingest/output/2022_12_16_Sammy_Interior_Hawaii_Basalt_Small_Probe/spot5_9.csv', 'warnings': [], 'errors': None}\n",
      "{'sample': <Sample: _spot7_TANAGER>, 'filename': '../TANAGER-Ingest/output/2022_12_16_Sammy_Interior_Hawaii_Basalt_Small_Probe/spot7_11.csv', 'warnings': [], 'errors': None}\n",
      "{'sample': <Sample: _spot8_TANAGER>, 'filename': '../TANAGER-Ingest/output/2022_12_16_Sammy_Interior_Hawaii_Basalt_Small_Probe/spot8_13.csv', 'warnings': [], 'errors': None}\n",
      "{'sample': <Sample: _spot9_TANAGER>, 'filename': '../TANAGER-Ingest/output/2022_12_16_Sammy_Interior_Hawaii_Basalt_Small_Probe/spot9_16.csv', 'warnings': [], 'errors': None}\n",
      "{'sample': <Sample: _100jsc_TANAGER>, 'filename': '../TANAGER-Ingest/output/2023_01_18_Kristiana_MaficMixtures/100jsc_27.csv', 'warnings': [], 'errors': None}\n",
      "{'sample': <Sample: _80basalt_20hematite_TANAGER>, 'filename': '../TANAGER-Ingest/output/2023_01_18_Kristiana_MaficMixtures/80basalt_20hematite_5.csv', 'warnings': [], 'errors': None}\n",
      "{'sample': <Sample: _80dunite_20jsc_TANAGER>, 'filename': '../TANAGER-Ingest/output/2023_01_18_Kristiana_MaficMixtures/80dunite_20jsc_14.csv', 'warnings': [], 'errors': None}\n",
      "{'sample': <Sample: _85 basalt_15jsc_TANAGER>, 'filename': '../TANAGER-Ingest/output/2023_01_18_Kristiana_MaficMixtures/85 basalt_15jsc_20.csv', 'warnings': [], 'errors': None}\n"
     ]
    },
    {
     "name": "stdout",
     "output_type": "stream",
     "text": [
      "{'sample': <Sample: _85andesite_15hematite_TANAGER>, 'filename': '../TANAGER-Ingest/output/2023_01_18_Kristiana_MaficMixtures/85andesite_15hematite_7.csv', 'warnings': [], 'errors': None}\n",
      "{'sample': <Sample: _90andesite_10jcs_TANAGER>, 'filename': '../TANAGER-Ingest/output/2023_01_18_Kristiana_MaficMixtures/90andesite_10jcs_9.csv', 'warnings': [], 'errors': None}\n",
      "{'sample': <Sample: _90basalt_10jsc_TANAGER>, 'filename': '../TANAGER-Ingest/output/2023_01_18_Kristiana_MaficMixtures/90basalt_10jsc_22.csv', 'warnings': [], 'errors': None}\n",
      "{'sample': <Sample: _90dunite_10jsc_TANAGER>, 'filename': '../TANAGER-Ingest/output/2023_01_18_Kristiana_MaficMixtures/90dunite_10jsc_16.csv', 'warnings': [], 'errors': None}\n",
      "{'sample': <Sample: _95andesite_5jsc_TANAGER>, 'filename': '../TANAGER-Ingest/output/2023_01_18_Kristiana_MaficMixtures/95andesite_5jsc_11.csv', 'warnings': [], 'errors': None}\n",
      "{'sample': <Sample: _95basalt_5jsc_TANAGER>, 'filename': '../TANAGER-Ingest/output/2023_01_18_Kristiana_MaficMixtures/95basalt_5jsc_25.csv', 'warnings': [], 'errors': None}\n",
      "{'sample': <Sample: _95dunite_5jsc_TANAGER>, 'filename': '../TANAGER-Ingest/output/2023_01_18_Kristiana_MaficMixtures/95dunite_5jsc_18.csv', 'warnings': [], 'errors': None}\n",
      "{'sample': <Sample: _97.5dunite_2.5hematite_TANAGER>, 'filename': '../TANAGER-Ingest/output/2023_01_18_Kristiana_MaficMixtures/97.5dunite_2.5hematite_3.csv', 'warnings': [], 'errors': None}\n",
      "{'sample': <Sample: Ka'u Desert Trail Basalt_kdt_yc2_std_TANAGER>, 'filename': '../TANAGER-Ingest/output/2023_01_25_Sammy_Duplicate_Gon_Hawaii_Basalts_processed/kdt_yc2_10.csv', 'warnings': [], 'errors': None}\n",
      "{'sample': <Sample: Mauna Iki Trail Basalt_mit_bc2_std_TANAGER>, 'filename': '../TANAGER-Ingest/output/2023_01_25_Sammy_Duplicate_Gon_Hawaii_Basalts_processed/mit_bc2_60.csv', 'warnings': [], 'errors': None}\n",
      "{'sample': <Sample: Mauna Iki Trail Basalt_mit_lc3_std_TANAGER>, 'filename': '../TANAGER-Ingest/output/2023_01_25_Sammy_Duplicate_Gon_Hawaii_Basalts_processed/mit_lc3_11.csv', 'warnings': [], 'errors': None}\n",
      "{'sample': <Sample: Mauna Iki Trail Basalt_mit_lc3_std_TANAGER>, 'filename': '../TANAGER-Ingest/output/2023_01_25_Sammy_Duplicate_Gon_Hawaii_Basalts_processed/mit_lc3_12.csv', 'warnings': [], 'errors': None}\n",
      "{'sample': <Sample: Puna Coast Trail Basalt_pct_lc2_std_TANAGER>, 'filename': '../TANAGER-Ingest/output/2023_01_25_Sammy_Duplicate_Gon_Hawaii_Basalts_processed/pct_lc2_59.csv', 'warnings': [], 'errors': None}\n",
      "{'sample': <Sample: Puna Coast Trail Basalt_pct_rc2_std_TANAGER>, 'filename': '../TANAGER-Ingest/output/2023_01_25_Sammy_Duplicate_Gon_Hawaii_Basalts_processed/pct_rc2_8.csv', 'warnings': [], 'errors': None}\n",
      "{'sample': <Sample: Puna Coast Trail Basalt_pct_yc2_std_TANAGER>, 'filename': '../TANAGER-Ingest/output/2023_01_25_Sammy_Duplicate_Gon_Hawaii_Basalts_processed/pct_yc2_9.csv', 'warnings': [], 'errors': None}\n",
      "{'sample': <Sample: Twin Sisters Dunite_ts-20-08-fc_spec_TANAGER>, 'filename': '../TANAGER-Ingest/output/2023_01_31_Max_LPSC_NanohematiteCoatedSlabs/ts-20-08-fc_14.csv', 'warnings': [], 'errors': None}\n",
      "{'sample': <Sample: Twin Sisters Dunite_ts-20-08-ff_spec_TANAGER>, 'filename': '../TANAGER-Ingest/output/2023_01_31_Max_LPSC_NanohematiteCoatedSlabs/ts-20-08-ff_16.csv', 'warnings': [], 'errors': None}\n",
      "{'sample': <Sample: Twin Sisters Dunite_ts-20-08-fm_spec_TANAGER>, 'filename': '../TANAGER-Ingest/output/2023_01_31_Max_LPSC_NanohematiteCoatedSlabs/ts-20-08-fm_15.csv', 'warnings': [], 'errors': None}\n",
      "{'sample': <Sample: _fe_coating1_spec_TANAGER>, 'filename': '../TANAGER-Ingest/output/2023_02_04_Sammy_Synthetic_Coated_Slabs_KHsamples/fe_coating1_12.csv', 'warnings': [], 'errors': None}\n",
      "{'sample': <Sample: _fe_coating1_std_TANAGER>, 'filename': '../TANAGER-Ingest/output/2023_02_04_Sammy_Synthetic_Coated_Slabs_KHsamples/fe_coating1_17.csv', 'warnings': [], 'errors': None}\n",
      "{'sample': <Sample: _fe_coating2_spec_TANAGER>, 'filename': '../TANAGER-Ingest/output/2023_02_04_Sammy_Synthetic_Coated_Slabs_KHsamples/fe_coating2_14.csv', 'warnings': [], 'errors': None}\n",
      "{'sample': <Sample: _fe_coating2_std_TANAGER>, 'filename': '../TANAGER-Ingest/output/2023_02_04_Sammy_Synthetic_Coated_Slabs_KHsamples/fe_coating2_19.csv', 'warnings': [], 'errors': None}\n",
      "{'sample': <Sample: _si_coating1_spec_TANAGER>, 'filename': '../TANAGER-Ingest/output/2023_02_04_Sammy_Synthetic_Coated_Slabs_KHsamples/si_coating1_13.csv', 'warnings': [], 'errors': None}\n",
      "{'sample': <Sample: _si_coating1_std_TANAGER>, 'filename': '../TANAGER-Ingest/output/2023_02_04_Sammy_Synthetic_Coated_Slabs_KHsamples/si_coating1_18.csv', 'warnings': [], 'errors': None}\n",
      "{'sample': <Sample: _si_coating2_spec_TANAGER>, 'filename': '../TANAGER-Ingest/output/2023_02_04_Sammy_Synthetic_Coated_Slabs_KHsamples/si_coating2_15.csv', 'warnings': [], 'errors': None}\n",
      "{'sample': <Sample: _si_coating2_std_TANAGER>, 'filename': '../TANAGER-Ingest/output/2023_02_04_Sammy_Synthetic_Coated_Slabs_KHsamples/si_coating2_20.csv', 'warnings': [], 'errors': None}\n",
      "{'sample': <Sample: _95kieserite_05mon_05bas_TANAGER>, 'filename': '../TANAGER-Ingest/output/2023_02_09_Alivia_Kieserite_mixtures/95kieserite_05mon_05bas_11.csv', 'warnings': [], 'errors': None}\n",
      "{'sample': <Sample: _95kieserite_05mon_10bas_TANAGER>, 'filename': '../TANAGER-Ingest/output/2023_02_09_Alivia_Kieserite_mixtures/95kieserite_05mon_10bas_17.csv', 'warnings': [], 'errors': None}\n",
      "{'sample': <Sample: _95kieserite_05mon_TANAGER>, 'filename': '../TANAGER-Ingest/output/2023_02_09_Alivia_Kieserite_mixtures/95kieserite_05mon_5.csv', 'warnings': [], 'errors': None}\n",
      "{'sample': <Sample: _95kieserite_05non_05bas_TANAGER>, 'filename': '../TANAGER-Ingest/output/2023_02_09_Alivia_Kieserite_mixtures/95kieserite_05non_05bas_15.csv', 'warnings': [], 'errors': None}\n",
      "{'sample': <Sample: _95kieserite_05non_10bas_TANAGER>, 'filename': '../TANAGER-Ingest/output/2023_02_09_Alivia_Kieserite_mixtures/95kieserite_05non_10bas_21.csv', 'warnings': [], 'errors': None}\n",
      "{'sample': <Sample: _95kieserite_05non_TANAGER>, 'filename': '../TANAGER-Ingest/output/2023_02_09_Alivia_Kieserite_mixtures/95kieserite_05non_9.csv', 'warnings': [], 'errors': None}\n",
      "{'sample': <Sample: Artist Point_95kieserite_05sap_05bas_TANAGER>, 'filename': '../TANAGER-Ingest/output/2023_02_09_Alivia_Kieserite_mixtures/95kieserite_05sap_05bas_13.csv', 'warnings': [], 'errors': None}\n",
      "{'sample': <Sample: Artist Point_95kieserite_05sap_10bas_TANAGER>, 'filename': '../TANAGER-Ingest/output/2023_02_09_Alivia_Kieserite_mixtures/95kieserite_05sap_10bas_19.csv', 'warnings': [], 'errors': None}\n",
      "{'sample': <Sample: _95kieserite_05sap_TANAGER>, 'filename': '../TANAGER-Ingest/output/2023_02_09_Alivia_Kieserite_mixtures/95kieserite_05sap_7.csv', 'warnings': [], 'errors': None}\n",
      "{'sample': <Sample: _kieserite_TANAGER>, 'filename': '../TANAGER-Ingest/output/2023_02_09_Alivia_Kieserite_mixtures/kieserite_3.csv', 'warnings': [], 'errors': None}\n",
      "{'sample': <Sample: _70dunite30jsc_TANAGER>, 'filename': '../TANAGER-Ingest/output/2023_02_13_Kristiana_MaficMixtures_JSCadditional/70dunite30jsc_9.csv', 'warnings': [], 'errors': None}\n",
      "{'sample': <Sample: _75basalt25jsc_TANAGER>, 'filename': '../TANAGER-Ingest/output/2023_02_13_Kristiana_MaficMixtures_JSCadditional/75basalt25jsc_5.csv', 'warnings': [], 'errors': None}\n",
      "{'sample': <Sample: _75dunite25jsc_TANAGER>, 'filename': '../TANAGER-Ingest/output/2023_02_13_Kristiana_MaficMixtures_JSCadditional/75dunite25jsc_7.csv', 'warnings': [], 'errors': None}\n",
      "{'sample': <Sample: _80andesite20jsc_TANAGER>, 'filename': '../TANAGER-Ingest/output/2023_02_13_Kristiana_MaficMixtures_JSCadditional/80andesite20jsc_14.csv', 'warnings': [], 'errors': None}\n",
      "{'sample': <Sample: _80basalt20jsc_TANAGER>, 'filename': '../TANAGER-Ingest/output/2023_02_13_Kristiana_MaficMixtures_JSCadditional/80basalt20jsc_3.csv', 'warnings': [], 'errors': None}\n",
      "{'sample': <Sample: _85andesite15jsc_TANAGER>, 'filename': '../TANAGER-Ingest/output/2023_02_13_Kristiana_MaficMixtures_JSCadditional/85andesite15jsc_11.csv', 'warnings': [], 'errors': None}\n"
     ]
    },
    {
     "name": "stdout",
     "output_type": "stream",
     "text": [
      "{'sample': <Sample: _kiesterite_test_TANAGER>, 'filename': '../TANAGER-Ingest/output/2023_02_21_Alivia_Kieserite_goniometer/kiesterite_test_2.csv', 'warnings': [], 'errors': None}\n",
      "{'sample': <Sample: Ka'u Desert Trail Basalt_kdt_yc_v.fwd_TANAGER>, 'filename': '../TANAGER-Ingest/output/2023_03_27_Sammy_Hawaiian_Basalt_Full_try1_processed/kdt_yc_400.csv', 'warnings': [], 'errors': None}\n",
      "{'sample': <Sample: Ka'u Desert Trail Basalt_kdt_yc_back_TANAGER>, 'filename': '../TANAGER-Ingest/output/2023_03_27_Sammy_Hawaiian_Basalt_Full_try1_processed/kdt_yc_448.csv', 'warnings': [], 'errors': None}\n",
      "{'sample': <Sample: Ka'u Desert Trail Basalt_kdt_yc_std_TANAGER>, 'filename': '../TANAGER-Ingest/output/2023_03_27_Sammy_Hawaiian_Basalt_Full_try1_processed/kdt_yc_514.csv', 'warnings': [], 'errors': None}\n",
      "{'sample': <Sample: Ka'u Desert Trail Basalt_kdt_yc_spec_TANAGER>, 'filename': '../TANAGER-Ingest/output/2023_03_27_Sammy_Hawaiian_Basalt_Full_try1_processed/kdt_yc_562.csv', 'warnings': [], 'errors': None}\n",
      "{'sample': <Sample: Ka'u Desert Trail Basalt_kdt_yc_fwd_TANAGER>, 'filename': '../TANAGER-Ingest/output/2023_03_27_Sammy_Hawaiian_Basalt_Full_try1_processed/kdt_yc_586.csv', 'warnings': [], 'errors': None}\n",
      "{'sample': <Sample: Mauna Iki Trail Basalt_mit_lc_v.fwd_TANAGER>, 'filename': '../TANAGER-Ingest/output/2023_03_27_Sammy_Hawaiian_Basalt_Full_try1_processed/mit_lc_401.csv', 'warnings': [], 'errors': None}\n",
      "{'sample': <Sample: Mauna Iki Trail Basalt_mit_lc_back_TANAGER>, 'filename': '../TANAGER-Ingest/output/2023_03_27_Sammy_Hawaiian_Basalt_Full_try1_processed/mit_lc_449.csv', 'warnings': [], 'errors': None}\n",
      "{'sample': <Sample: Mauna Iki Trail Basalt_mit_lc_std_TANAGER>, 'filename': '../TANAGER-Ingest/output/2023_03_27_Sammy_Hawaiian_Basalt_Full_try1_processed/mit_lc_515.csv', 'warnings': [], 'errors': None}\n",
      "{'sample': <Sample: Mauna Iki Trail Basalt_mit_lc_spec_TANAGER>, 'filename': '../TANAGER-Ingest/output/2023_03_27_Sammy_Hawaiian_Basalt_Full_try1_processed/mit_lc_563.csv', 'warnings': [], 'errors': None}\n",
      "{'sample': <Sample: Mauna Iki Trail Basalt_mit_lc_fwd_TANAGER>, 'filename': '../TANAGER-Ingest/output/2023_03_27_Sammy_Hawaiian_Basalt_Full_try1_processed/mit_lc_587.csv', 'warnings': [], 'errors': None}\n",
      "{'sample': <Sample: Puna Coast Trail Basalt_pct_rc_v.fwd_TANAGER>, 'filename': '../TANAGER-Ingest/output/2023_03_27_Sammy_Hawaiian_Basalt_Full_try1_processed/pct_rc_402.csv', 'warnings': [], 'errors': None}\n",
      "{'sample': <Sample: Puna Coast Trail Basalt_pct_rc_back_TANAGER>, 'filename': '../TANAGER-Ingest/output/2023_03_27_Sammy_Hawaiian_Basalt_Full_try1_processed/pct_rc_450.csv', 'warnings': [], 'errors': None}\n",
      "{'sample': <Sample: Puna Coast Trail Basalt_pct_rc_std_TANAGER>, 'filename': '../TANAGER-Ingest/output/2023_03_27_Sammy_Hawaiian_Basalt_Full_try1_processed/pct_rc_516.csv', 'warnings': [], 'errors': None}\n",
      "{'sample': <Sample: Puna Coast Trail Basalt_pct_rc_spec_TANAGER>, 'filename': '../TANAGER-Ingest/output/2023_03_27_Sammy_Hawaiian_Basalt_Full_try1_processed/pct_rc_564.csv', 'warnings': [], 'errors': None}\n",
      "{'sample': <Sample: Puna Coast Trail Basalt_pct_rc_fwd_TANAGER>, 'filename': '../TANAGER-Ingest/output/2023_03_27_Sammy_Hawaiian_Basalt_Full_try1_processed/pct_rc_588.csv', 'warnings': [], 'errors': None}\n",
      "{'sample': <Sample: Puna Coast Trail Basalt_pc_lc_v.fwd_TANAGER>, 'filename': '../TANAGER-Ingest/output/2023_03_27_Sammy_Hawaiian_Basalt_Full_try1_processed/pc_lc_399.csv', 'warnings': [], 'errors': None}\n",
      "{'sample': <Sample: Puna Coast Trail Basalt_pc_lc_back_TANAGER>, 'filename': '../TANAGER-Ingest/output/2023_03_27_Sammy_Hawaiian_Basalt_Full_try1_processed/pc_lc_447.csv', 'warnings': [], 'errors': None}\n",
      "{'sample': <Sample: Puna Coast Trail Basalt_pc_lc_std_TANAGER>, 'filename': '../TANAGER-Ingest/output/2023_03_27_Sammy_Hawaiian_Basalt_Full_try1_processed/pc_lc_513.csv', 'warnings': [], 'errors': None}\n",
      "{'sample': <Sample: Puna Coast Trail Basalt_pc_lc_spec_TANAGER>, 'filename': '../TANAGER-Ingest/output/2023_03_27_Sammy_Hawaiian_Basalt_Full_try1_processed/pc_lc_561.csv', 'warnings': [], 'errors': None}\n",
      "{'sample': <Sample: Puna Coast Trail Basalt_pc_lc_fwd_TANAGER>, 'filename': '../TANAGER-Ingest/output/2023_03_27_Sammy_Hawaiian_Basalt_Full_try1_processed/pc_lc_585.csv', 'warnings': [], 'errors': None}\n",
      "{'sample': <Sample: Puna Coast Trail Basalt_pc_yc_v.fwd_TANAGER>, 'filename': '../TANAGER-Ingest/output/2023_03_27_Sammy_Hawaiian_Basalt_Full_try1_processed/pc_yc_398.csv', 'warnings': [], 'errors': None}\n",
      "{'sample': <Sample: Puna Coast Trail Basalt_pc_yc_back_TANAGER>, 'filename': '../TANAGER-Ingest/output/2023_03_27_Sammy_Hawaiian_Basalt_Full_try1_processed/pc_yc_446.csv', 'warnings': [], 'errors': None}\n",
      "{'sample': <Sample: Puna Coast Trail Basalt_pc_yc_std_TANAGER>, 'filename': '../TANAGER-Ingest/output/2023_03_27_Sammy_Hawaiian_Basalt_Full_try1_processed/pc_yc_512.csv', 'warnings': [], 'errors': None}\n",
      "{'sample': <Sample: Puna Coast Trail Basalt_pc_yc_spec_TANAGER>, 'filename': '../TANAGER-Ingest/output/2023_03_27_Sammy_Hawaiian_Basalt_Full_try1_processed/pc_yc_560.csv', 'warnings': [], 'errors': None}\n",
      "{'sample': <Sample: Puna Coast Trail Basalt_pc_yc_fwd_TANAGER>, 'filename': '../TANAGER-Ingest/output/2023_03_27_Sammy_Hawaiian_Basalt_Full_try1_processed/pc_yc_584.csv', 'warnings': [], 'errors': None}\n",
      "{'sample': <Sample: Mauna Iki Trail Basalt_mit_bc_1_fwd_TANAGER>, 'filename': '../TANAGER-Ingest/output/2023_08_04_Sammy_BC_full_run/mit_bc_1_542.csv', 'warnings': [], 'errors': None}\n",
      "{'sample': <Sample: Mauna Iki Trail Basalt_mit_bc_1_spec_TANAGER>, 'filename': '../TANAGER-Ingest/output/2023_08_04_Sammy_BC_full_run/mit_bc_1_554.csv', 'warnings': [], 'errors': None}\n",
      "{'sample': <Sample: Mauna Iki Trail Basalt_mit_bc_1_std_TANAGER>, 'filename': '../TANAGER-Ingest/output/2023_08_04_Sammy_BC_full_run/mit_bc_1_578.csv', 'warnings': [], 'errors': None}\n",
      "{'sample': <Sample: Mauna Iki Trail Basalt_mit_bc_1_back_TANAGER>, 'filename': '../TANAGER-Ingest/output/2023_08_04_Sammy_BC_full_run/mit_bc_1_611.csv', 'warnings': [], 'errors': None}\n",
      "{'sample': <Sample: Mauna Iki Trail Basalt_mit_bc_1_v.fwd_TANAGER>, 'filename': '../TANAGER-Ingest/output/2023_08_04_Sammy_BC_full_run/mit_bc_1_635.csv', 'warnings': [], 'errors': None}\n",
      "{'sample': <Sample: Mauna Iki Trail Basalt_mit_bc_2_fwd_TANAGER>, 'filename': '../TANAGER-Ingest/output/2023_08_04_Sammy_BC_full_run/mit_bc_2_543.csv', 'warnings': [], 'errors': None}\n",
      "{'sample': <Sample: Mauna Iki Trail Basalt_mit_bc_2_spec_TANAGER>, 'filename': '../TANAGER-Ingest/output/2023_08_04_Sammy_BC_full_run/mit_bc_2_555.csv', 'warnings': [], 'errors': None}\n",
      "{'sample': <Sample: Mauna Iki Trail Basalt_mit_bc_2_std_TANAGER>, 'filename': '../TANAGER-Ingest/output/2023_08_04_Sammy_BC_full_run/mit_bc_2_579.csv', 'warnings': [], 'errors': None}\n",
      "{'sample': <Sample: Mauna Iki Trail Basalt_mit_bc_2_back_TANAGER>, 'filename': '../TANAGER-Ingest/output/2023_08_04_Sammy_BC_full_run/mit_bc_2_612.csv', 'warnings': [], 'errors': None}\n",
      "{'sample': <Sample: Mauna Iki Trail Basalt_mit_bc_2_v.fwd_TANAGER>, 'filename': '../TANAGER-Ingest/output/2023_08_04_Sammy_BC_full_run/mit_bc_2_636.csv', 'warnings': [], 'errors': None}\n",
      "{'sample': <Sample: _chenobi_lunar_highland_simuant_spec_TANAGER>, 'filename': '../TANAGER-Ingest/output/2023_08_08_Lunar_Simulant_FullHem_forUWinn_cd/chenobi_lunar_highland_simuant_425.csv', 'warnings': [], 'errors': None}\n",
      "{'sample': <Sample: _chenobi_lunar_highland_simuant_std_TANAGER>, 'filename': '../TANAGER-Ingest/output/2023_08_08_Lunar_Simulant_FullHem_forUWinn_cd/chenobi_lunar_highland_simuant_467.csv', 'warnings': [], 'errors': None}\n",
      "{'sample': <Sample: _jsc_lunar_simulant_spec_TANAGER>, 'filename': '../TANAGER-Ingest/output/2023_08_08_Lunar_Simulant_FullHem_forUWinn_cd/jsc_lunar_simulant_426.csv', 'warnings': [], 'errors': None}\n",
      "{'sample': <Sample: _jsc_lunar_simulant_std_TANAGER>, 'filename': '../TANAGER-Ingest/output/2023_08_08_Lunar_Simulant_FullHem_forUWinn_cd/jsc_lunar_simulant_468.csv', 'warnings': [], 'errors': None}\n"
     ]
    },
    {
     "name": "stdout",
     "output_type": "stream",
     "text": [
      "{'sample': <Sample: Mauna Iki Trail Basalt_mit_bc_1_fwd_TANAGER>, 'filename': '../TANAGER-Ingest/output/2023_08_16_Sammy_MIT_BC_1and2_full60ie_rerun/mit_bc_1_541.csv', 'warnings': [], 'errors': None}\n",
      "{'sample': <Sample: Mauna Iki Trail Basalt_mit_bc_1_spec_TANAGER>, 'filename': '../TANAGER-Ingest/output/2023_08_16_Sammy_MIT_BC_1and2_full60ie_rerun/mit_bc_1_553.csv', 'warnings': [], 'errors': None}\n",
      "{'sample': <Sample: Mauna Iki Trail Basalt_mit_bc_1_std_TANAGER>, 'filename': '../TANAGER-Ingest/output/2023_08_16_Sammy_MIT_BC_1and2_full60ie_rerun/mit_bc_1_577.csv', 'warnings': [], 'errors': None}\n",
      "{'sample': <Sample: Mauna Iki Trail Basalt_mit_bc_1_back_TANAGER>, 'filename': '../TANAGER-Ingest/output/2023_08_16_Sammy_MIT_BC_1and2_full60ie_rerun/mit_bc_1_609.csv', 'warnings': [], 'errors': None}\n",
      "{'sample': <Sample: Mauna Iki Trail Basalt_mit_bc_1_v.fwd_TANAGER>, 'filename': '../TANAGER-Ingest/output/2023_08_16_Sammy_MIT_BC_1and2_full60ie_rerun/mit_bc_1_633.csv', 'warnings': [], 'errors': None}\n",
      "{'sample': <Sample: Mauna Iki Trail Basalt_mit_bc_2_fwd_TANAGER>, 'filename': '../TANAGER-Ingest/output/2023_08_16_Sammy_MIT_BC_1and2_full60ie_rerun/mit_bc_2_542.csv', 'warnings': [], 'errors': None}\n",
      "{'sample': <Sample: Mauna Iki Trail Basalt_mit_bc_2_spec_TANAGER>, 'filename': '../TANAGER-Ingest/output/2023_08_16_Sammy_MIT_BC_1and2_full60ie_rerun/mit_bc_2_554.csv', 'warnings': [], 'errors': None}\n",
      "{'sample': <Sample: Mauna Iki Trail Basalt_mit_bc_2_std_TANAGER>, 'filename': '../TANAGER-Ingest/output/2023_08_16_Sammy_MIT_BC_1and2_full60ie_rerun/mit_bc_2_578.csv', 'warnings': [], 'errors': None}\n",
      "{'sample': <Sample: Mauna Iki Trail Basalt_mit_bc_2_back_TANAGER>, 'filename': '../TANAGER-Ingest/output/2023_08_16_Sammy_MIT_BC_1and2_full60ie_rerun/mit_bc_2_610.csv', 'warnings': [], 'errors': None}\n",
      "{'sample': <Sample: Mauna Iki Trail Basalt_mit_bc_2_v.fwd_TANAGER>, 'filename': '../TANAGER-Ingest/output/2023_08_16_Sammy_MIT_BC_1and2_full60ie_rerun/mit_bc_2_634.csv', 'warnings': [], 'errors': None}\n",
      "{'sample': <Sample: Ka'u Desert Trail Basalt_kd_1919_11_fwd_TANAGER>, 'filename': '../TANAGER-Ingest/output/2023_10_12_Sammy_FW_Hawaiian_Basalts_Run_1_processed/kd_1919_11_720.csv', 'warnings': [], 'errors': None}\n",
      "{'sample': <Sample: Ka'u Desert Trail Basalt_kd_1919_11_spec_TANAGER>, 'filename': '../TANAGER-Ingest/output/2023_10_12_Sammy_FW_Hawaiian_Basalts_Run_1_processed/kd_1919_11_736.csv', 'warnings': [], 'errors': None}\n",
      "{'sample': <Sample: Ka'u Desert Trail Basalt_kd_1919_11_std_TANAGER>, 'filename': '../TANAGER-Ingest/output/2023_10_12_Sammy_FW_Hawaiian_Basalts_Run_1_processed/kd_1919_11_768.csv', 'warnings': [], 'errors': None}\n",
      "{'sample': <Sample: Ka'u Desert Trail Basalt_kd_1919_11_back_TANAGER>, 'filename': '../TANAGER-Ingest/output/2023_10_12_Sammy_FW_Hawaiian_Basalts_Run_1_processed/kd_1919_11_812.csv', 'warnings': [], 'errors': None}\n",
      "{'sample': <Sample: Ka'u Desert Trail Basalt_kd_1919_11_v.fwd_TANAGER>, 'filename': '../TANAGER-Ingest/output/2023_10_12_Sammy_FW_Hawaiian_Basalts_Run_1_processed/kd_1919_11_844.csv', 'warnings': [], 'errors': None}\n",
      "{'sample': <Sample: Ka'u Desert Trail Basalt_kd_1919_3a_fwd_TANAGER>, 'filename': '../TANAGER-Ingest/output/2023_10_12_Sammy_FW_Hawaiian_Basalts_Run_1_processed/kd_1919_3a_721.csv', 'warnings': [], 'errors': None}\n",
      "{'sample': <Sample: Ka'u Desert Trail Basalt_kd_1919_3a_spec_TANAGER>, 'filename': '../TANAGER-Ingest/output/2023_10_12_Sammy_FW_Hawaiian_Basalts_Run_1_processed/kd_1919_3a_737.csv', 'warnings': [], 'errors': None}\n",
      "{'sample': <Sample: Ka'u Desert Trail Basalt_kd_1919_3a_std_TANAGER>, 'filename': '../TANAGER-Ingest/output/2023_10_12_Sammy_FW_Hawaiian_Basalts_Run_1_processed/kd_1919_3a_769.csv', 'warnings': [], 'errors': None}\n",
      "{'sample': <Sample: Ka'u Desert Trail Basalt_kd_1919_3a_back_TANAGER>, 'filename': '../TANAGER-Ingest/output/2023_10_12_Sammy_FW_Hawaiian_Basalts_Run_1_processed/kd_1919_3a_813.csv', 'warnings': [], 'errors': None}\n",
      "{'sample': <Sample: Ka'u Desert Trail Basalt_kd_1919_3a_v.fwd_TANAGER>, 'filename': '../TANAGER-Ingest/output/2023_10_12_Sammy_FW_Hawaiian_Basalts_Run_1_processed/kd_1919_3a_845.csv', 'warnings': [], 'errors': None}\n",
      "{'sample': <Sample: Puna Coast Trail Basalt_pc_1970_3_r_fwd_TANAGER>, 'filename': '../TANAGER-Ingest/output/2023_10_12_Sammy_FW_Hawaiian_Basalts_Run_1_processed/pc_1970_3_r_719.csv', 'warnings': [], 'errors': None}\n",
      "{'sample': <Sample: Puna Coast Trail Basalt_pc_1970_3_r_spec_TANAGER>, 'filename': '../TANAGER-Ingest/output/2023_10_12_Sammy_FW_Hawaiian_Basalts_Run_1_processed/pc_1970_3_r_735.csv', 'warnings': [], 'errors': None}\n",
      "{'sample': <Sample: Puna Coast Trail Basalt_pc_1970_3_r_std_TANAGER>, 'filename': '../TANAGER-Ingest/output/2023_10_12_Sammy_FW_Hawaiian_Basalts_Run_1_processed/pc_1970_3_r_767.csv', 'warnings': [], 'errors': None}\n",
      "{'sample': <Sample: Puna Coast Trail Basalt_pc_1970_3_r_back_TANAGER>, 'filename': '../TANAGER-Ingest/output/2023_10_12_Sammy_FW_Hawaiian_Basalts_Run_1_processed/pc_1970_3_r_811.csv', 'warnings': [], 'errors': None}\n",
      "{'sample': <Sample: Puna Coast Trail Basalt_pc_1970_3_r_v.fwd_TANAGER>, 'filename': '../TANAGER-Ingest/output/2023_10_12_Sammy_FW_Hawaiian_Basalts_Run_1_processed/pc_1970_3_r_843.csv', 'warnings': [], 'errors': None}\n",
      "{'sample': <Sample: Ka'u Desert Trail Basalt_kd_1919_12_fwd_TANAGER>, 'filename': '../TANAGER-Ingest/output/2023_10_26_Sammy_FW_Hawaiian_Basalts_Run_2_processed_partial/kd_1919_12_722.csv', 'warnings': [], 'errors': None}\n",
      "{'sample': <Sample: Ka'u Desert Trail Basalt_kd_1919_12_spec_TANAGER>, 'filename': '../TANAGER-Ingest/output/2023_10_26_Sammy_FW_Hawaiian_Basalts_Run_2_processed_partial/kd_1919_12_738.csv', 'warnings': [], 'errors': None}\n",
      "{'sample': <Sample: Ka'u Desert Trail Basalt_kd_1919_12_std_TANAGER>, 'filename': '../TANAGER-Ingest/output/2023_10_26_Sammy_FW_Hawaiian_Basalts_Run_2_processed_partial/kd_1919_12_770.csv', 'warnings': [], 'errors': None}\n",
      "{'sample': <Sample: Ka'u Desert Trail Basalt_kd_1919_12_back_TANAGER>, 'filename': '../TANAGER-Ingest/output/2023_10_26_Sammy_FW_Hawaiian_Basalts_Run_2_processed_partial/kd_1919_12_814.csv', 'warnings': [], 'errors': None}\n",
      "{'sample': <Sample: Ka'u Desert Trail Basalt_kd_1919_12_v.fwd_TANAGER>, 'filename': '../TANAGER-Ingest/output/2023_10_26_Sammy_FW_Hawaiian_Basalts_Run_2_processed_partial/kd_1919_12_846.csv', 'warnings': [], 'errors': None}\n",
      "{'sample': <Sample: Ka'u Desert Trail Basalt_kd_1919_4_fwd_TANAGER>, 'filename': '../TANAGER-Ingest/output/2023_10_26_Sammy_FW_Hawaiian_Basalts_Run_2_processed_partial/kd_1919_4_723.csv', 'warnings': [], 'errors': None}\n",
      "{'sample': <Sample: Ka'u Desert Trail Basalt_kd_1919_4_spec_TANAGER>, 'filename': '../TANAGER-Ingest/output/2023_10_26_Sammy_FW_Hawaiian_Basalts_Run_2_processed_partial/kd_1919_4_739.csv', 'warnings': [], 'errors': None}\n",
      "{'sample': <Sample: Ka'u Desert Trail Basalt_kd_1919_4_std_TANAGER>, 'filename': '../TANAGER-Ingest/output/2023_10_26_Sammy_FW_Hawaiian_Basalts_Run_2_processed_partial/kd_1919_4_771.csv', 'warnings': [], 'errors': None}\n",
      "{'sample': <Sample: Ka'u Desert Trail Basalt_kd_1919_4_back_TANAGER>, 'filename': '../TANAGER-Ingest/output/2023_10_26_Sammy_FW_Hawaiian_Basalts_Run_2_processed_partial/kd_1919_4_815.csv', 'warnings': [], 'errors': None}\n",
      "{'sample': <Sample: Ka'u Desert Trail Basalt_kd_1919_4_v.fwd_TANAGER>, 'filename': '../TANAGER-Ingest/output/2023_10_26_Sammy_FW_Hawaiian_Basalts_Run_2_processed_partial/kd_1919_4_847.csv', 'warnings': [], 'errors': None}\n",
      "{'sample': <Sample: Ka'u Desert Trail Basalt_kd_1919_8b_fwd_TANAGER>, 'filename': '../TANAGER-Ingest/output/2023_10_26_Sammy_FW_Hawaiian_Basalts_Run_2_processed_partial/kd_1919_8b_721.csv', 'warnings': [], 'errors': None}\n",
      "{'sample': <Sample: Ka'u Desert Trail Basalt_kd_1919_8b_spec_TANAGER>, 'filename': '../TANAGER-Ingest/output/2023_10_26_Sammy_FW_Hawaiian_Basalts_Run_2_processed_partial/kd_1919_8b_737.csv', 'warnings': [], 'errors': None}\n",
      "{'sample': <Sample: Ka'u Desert Trail Basalt_kd_1919_8b_std_TANAGER>, 'filename': '../TANAGER-Ingest/output/2023_10_26_Sammy_FW_Hawaiian_Basalts_Run_2_processed_partial/kd_1919_8b_769.csv', 'warnings': [], 'errors': None}\n"
     ]
    },
    {
     "name": "stdout",
     "output_type": "stream",
     "text": [
      "{'sample': <Sample: Ka'u Desert Trail Basalt_kd_1919_8b_back_TANAGER>, 'filename': '../TANAGER-Ingest/output/2023_10_26_Sammy_FW_Hawaiian_Basalts_Run_2_processed_partial/kd_1919_8b_813.csv', 'warnings': [], 'errors': None}\n",
      "{'sample': <Sample: Ka'u Desert Trail Basalt_kd_1919_8b_v.fwd_TANAGER>, 'filename': '../TANAGER-Ingest/output/2023_10_26_Sammy_FW_Hawaiian_Basalts_Run_2_processed_partial/kd_1919_8b_845.csv', 'warnings': [], 'errors': None}\n",
      "{'sample': <Sample: Ka'u Desert Trail Basalt_kd_1919_2a_fwd_TANAGER>, 'filename': '../TANAGER-Ingest/output/2023_11_06_Sammy_FW_Hawaiian_Basalt_run3_processed/kd_1919_2a_543.csv', 'warnings': [], 'errors': None}\n",
      "{'sample': <Sample: Ka'u Desert Trail Basalt_kd_1919_2a_spec_TANAGER>, 'filename': '../TANAGER-Ingest/output/2023_11_06_Sammy_FW_Hawaiian_Basalt_run3_processed/kd_1919_2a_555.csv', 'warnings': [], 'errors': None}\n",
      "{'sample': <Sample: Ka'u Desert Trail Basalt_kd_1919_2a_std_TANAGER>, 'filename': '../TANAGER-Ingest/output/2023_11_06_Sammy_FW_Hawaiian_Basalt_run3_processed/kd_1919_2a_579.csv', 'warnings': [], 'errors': None}\n",
      "{'sample': <Sample: Ka'u Desert Trail Basalt_kd_1919_2a_back_TANAGER>, 'filename': '../TANAGER-Ingest/output/2023_11_06_Sammy_FW_Hawaiian_Basalt_run3_processed/kd_1919_2a_612.csv', 'warnings': [], 'errors': None}\n",
      "{'sample': <Sample: Ka'u Desert Trail Basalt_kd_1919_2a_v.fwd_TANAGER>, 'filename': '../TANAGER-Ingest/output/2023_11_06_Sammy_FW_Hawaiian_Basalt_run3_processed/kd_1919_2a_636.csv', 'warnings': [], 'errors': None}\n",
      "{'sample': <Sample: Ka'u Desert Trail Basalt_kd_1919_9_fwd_TANAGER>, 'filename': '../TANAGER-Ingest/output/2023_11_06_Sammy_FW_Hawaiian_Basalt_run3_processed/kd_1919_9_542.csv', 'warnings': [], 'errors': None}\n",
      "{'sample': <Sample: Ka'u Desert Trail Basalt_kd_1919_9_spec_TANAGER>, 'filename': '../TANAGER-Ingest/output/2023_11_06_Sammy_FW_Hawaiian_Basalt_run3_processed/kd_1919_9_554.csv', 'warnings': [], 'errors': None}\n",
      "{'sample': <Sample: Ka'u Desert Trail Basalt_kd_1919_9_std_TANAGER>, 'filename': '../TANAGER-Ingest/output/2023_11_06_Sammy_FW_Hawaiian_Basalt_run3_processed/kd_1919_9_578.csv', 'warnings': [], 'errors': None}\n",
      "{'sample': <Sample: Ka'u Desert Trail Basalt_kd_1919_9_back_TANAGER>, 'filename': '../TANAGER-Ingest/output/2023_11_06_Sammy_FW_Hawaiian_Basalt_run3_processed/kd_1919_9_611.csv', 'warnings': [], 'errors': None}\n",
      "{'sample': <Sample: Ka'u Desert Trail Basalt_kd_1919_9_v.fwd_TANAGER>, 'filename': '../TANAGER-Ingest/output/2023_11_06_Sammy_FW_Hawaiian_Basalt_run3_processed/kd_1919_9_635.csv', 'warnings': [], 'errors': None}\n",
      "{'sample': <Sample: Ka'u Desert Trail Basalt_kd_1919_10_fwd_TANAGER>, 'filename': '../TANAGER-Ingest/output/2023_11_18_Sammy_FW_Hawaiian_Basalts_Run_4_processed/kd_1919_10_723.csv', 'warnings': [], 'errors': None}\n",
      "{'sample': <Sample: Ka'u Desert Trail Basalt_kd_1919_10_spec_TANAGER>, 'filename': '../TANAGER-Ingest/output/2023_11_18_Sammy_FW_Hawaiian_Basalts_Run_4_processed/kd_1919_10_739.csv', 'warnings': [], 'errors': None}\n",
      "{'sample': <Sample: Ka'u Desert Trail Basalt_kd_1919_10_std_TANAGER>, 'filename': '../TANAGER-Ingest/output/2023_11_18_Sammy_FW_Hawaiian_Basalts_Run_4_processed/kd_1919_10_771.csv', 'warnings': [], 'errors': None}\n",
      "{'sample': <Sample: Ka'u Desert Trail Basalt_kd_1919_10_back_TANAGER>, 'filename': '../TANAGER-Ingest/output/2023_11_18_Sammy_FW_Hawaiian_Basalts_Run_4_processed/kd_1919_10_815.csv', 'warnings': [], 'errors': None}\n",
      "{'sample': <Sample: Ka'u Desert Trail Basalt_kd_1919_10_v.fwd_TANAGER>, 'filename': '../TANAGER-Ingest/output/2023_11_18_Sammy_FW_Hawaiian_Basalts_Run_4_processed/kd_1919_10_847.csv', 'warnings': [], 'errors': None}\n",
      "{'sample': <Sample: Ka'u Desert Trail Basalt_kd_1919_3b_fwd_TANAGER>, 'filename': '../TANAGER-Ingest/output/2023_11_18_Sammy_FW_Hawaiian_Basalts_Run_4_processed/kd_1919_3b_722.csv', 'warnings': [], 'errors': None}\n",
      "{'sample': <Sample: Ka'u Desert Trail Basalt_kd_1919_3b_spec_TANAGER>, 'filename': '../TANAGER-Ingest/output/2023_11_18_Sammy_FW_Hawaiian_Basalts_Run_4_processed/kd_1919_3b_738.csv', 'warnings': [], 'errors': None}\n",
      "{'sample': <Sample: Ka'u Desert Trail Basalt_kd_1919_3b_std_TANAGER>, 'filename': '../TANAGER-Ingest/output/2023_11_18_Sammy_FW_Hawaiian_Basalts_Run_4_processed/kd_1919_3b_770.csv', 'warnings': [], 'errors': None}\n",
      "{'sample': <Sample: Ka'u Desert Trail Basalt_kd_1919_3b_back_TANAGER>, 'filename': '../TANAGER-Ingest/output/2023_11_18_Sammy_FW_Hawaiian_Basalts_Run_4_processed/kd_1919_3b_814.csv', 'warnings': [], 'errors': None}\n",
      "{'sample': <Sample: Ka'u Desert Trail Basalt_kd_1919_3b_v.fwd_TANAGER>, 'filename': '../TANAGER-Ingest/output/2023_11_18_Sammy_FW_Hawaiian_Basalts_Run_4_processed/kd_1919_3b_846.csv', 'warnings': [], 'errors': None}\n",
      "{'sample': <Sample: Ka'u Desert Trail Basalt_kd_1919_5_fwd_TANAGER>, 'filename': '../TANAGER-Ingest/output/2023_11_18_Sammy_FW_Hawaiian_Basalts_Run_4_processed/kd_1919_5_724.csv', 'warnings': [], 'errors': None}\n",
      "{'sample': <Sample: Ka'u Desert Trail Basalt_kd_1919_5_spec_TANAGER>, 'filename': '../TANAGER-Ingest/output/2023_11_18_Sammy_FW_Hawaiian_Basalts_Run_4_processed/kd_1919_5_740.csv', 'warnings': [], 'errors': None}\n",
      "{'sample': <Sample: Ka'u Desert Trail Basalt_kd_1919_5_std_TANAGER>, 'filename': '../TANAGER-Ingest/output/2023_11_18_Sammy_FW_Hawaiian_Basalts_Run_4_processed/kd_1919_5_772.csv', 'warnings': [], 'errors': None}\n",
      "{'sample': <Sample: Ka'u Desert Trail Basalt_kd_1919_5_back_TANAGER>, 'filename': '../TANAGER-Ingest/output/2023_11_18_Sammy_FW_Hawaiian_Basalts_Run_4_processed/kd_1919_5_816.csv', 'warnings': [], 'errors': None}\n",
      "{'sample': <Sample: Ka'u Desert Trail Basalt_kd_1919_5_v.fwd_TANAGER>, 'filename': '../TANAGER-Ingest/output/2023_11_18_Sammy_FW_Hawaiian_Basalts_Run_4_processed/kd_1919_5_848.csv', 'warnings': [], 'errors': None}\n",
      "{'sample': <Sample: Dry Falls Basalt_df-18-003-a_fwd_TANAGER>, 'filename': '../TANAGER-Ingest/output/2023_12_12_Brad_basalts_run_1_processed/df-18-003-a_1929.csv', 'warnings': [], 'errors': None}\n",
      "{'sample': <Sample: Dry Falls Basalt_df-18-003-a_spec_TANAGER>, 'filename': '../TANAGER-Ingest/output/2023_12_12_Brad_basalts_run_1_processed/df-18-003-a_1971.csv', 'warnings': [], 'errors': None}\n",
      "{'sample': <Sample: Dry Falls Basalt_df-18-003-a_std_TANAGER>, 'filename': '../TANAGER-Ingest/output/2023_12_12_Brad_basalts_run_1_processed/df-18-003-a_2049.csv', 'warnings': [], 'errors': None}\n",
      "{'sample': <Sample: Dry Falls Basalt_df-18-003-a_back_TANAGER>, 'filename': '../TANAGER-Ingest/output/2023_12_12_Brad_basalts_run_1_processed/df-18-003-a_2169.csv', 'warnings': [], 'errors': None}\n",
      "{'sample': <Sample: Dry Falls Basalt_df-18-003-a_v.fwd_TANAGER>, 'filename': '../TANAGER-Ingest/output/2023_12_12_Brad_basalts_run_1_processed/df-18-003-a_2253.csv', 'warnings': [], 'errors': None}\n",
      "{'sample': <Sample: Dry Falls Basalt_df-18-003-int_fwd_TANAGER>, 'filename': '../TANAGER-Ingest/output/2023_12_12_Brad_basalts_run_1_processed/df-18-003-int_1930.csv', 'warnings': [], 'errors': None}\n",
      "{'sample': <Sample: Dry Falls Basalt_df-18-003-int_spec_TANAGER>, 'filename': '../TANAGER-Ingest/output/2023_12_12_Brad_basalts_run_1_processed/df-18-003-int_1972.csv', 'warnings': [], 'errors': None}\n",
      "{'sample': <Sample: Dry Falls Basalt_df-18-003-int_std_TANAGER>, 'filename': '../TANAGER-Ingest/output/2023_12_12_Brad_basalts_run_1_processed/df-18-003-int_2050.csv', 'warnings': [], 'errors': None}\n",
      "{'sample': <Sample: Dry Falls Basalt_df-18-003-int_back_TANAGER>, 'filename': '../TANAGER-Ingest/output/2023_12_12_Brad_basalts_run_1_processed/df-18-003-int_2170.csv', 'warnings': [], 'errors': None}\n",
      "{'sample': <Sample: Dry Falls Basalt_df-18-003-int_v.fwd_TANAGER>, 'filename': '../TANAGER-Ingest/output/2023_12_12_Brad_basalts_run_1_processed/df-18-003-int_2254.csv', 'warnings': [], 'errors': None}\n",
      "{'sample': <Sample: Frenchman Coulee Basalt_fc-18-005_fwd_TANAGER>, 'filename': '../TANAGER-Ingest/output/2023_12_12_Brad_basalts_run_1_processed/fc-18-005_1927.csv', 'warnings': [], 'errors': None}\n",
      "{'sample': <Sample: Frenchman Coulee Basalt_fc-18-005_spec_TANAGER>, 'filename': '../TANAGER-Ingest/output/2023_12_12_Brad_basalts_run_1_processed/fc-18-005_1969.csv', 'warnings': [], 'errors': None}\n"
     ]
    },
    {
     "name": "stdout",
     "output_type": "stream",
     "text": [
      "{'sample': <Sample: Frenchman Coulee Basalt_fc-18-005_std_TANAGER>, 'filename': '../TANAGER-Ingest/output/2023_12_12_Brad_basalts_run_1_processed/fc-18-005_2047.csv', 'warnings': [], 'errors': None}\n",
      "{'sample': <Sample: Frenchman Coulee Basalt_fc-18-005_back_TANAGER>, 'filename': '../TANAGER-Ingest/output/2023_12_12_Brad_basalts_run_1_processed/fc-18-005_2167.csv', 'warnings': [], 'errors': None}\n",
      "{'sample': <Sample: Frenchman Coulee Basalt_fc-18-005_v.fwd_TANAGER>, 'filename': '../TANAGER-Ingest/output/2023_12_12_Brad_basalts_run_1_processed/fc-18-005_2251.csv', 'warnings': [], 'errors': None}\n",
      "{'sample': <Sample: Frenchman Coulee Basalt_fc-18-007_fwd_TANAGER>, 'filename': '../TANAGER-Ingest/output/2023_12_12_Brad_basalts_run_1_processed/fc-18-007_1926.csv', 'warnings': [], 'errors': None}\n",
      "{'sample': <Sample: Frenchman Coulee Basalt_fc-18-007_spec_TANAGER>, 'filename': '../TANAGER-Ingest/output/2023_12_12_Brad_basalts_run_1_processed/fc-18-007_1968.csv', 'warnings': [], 'errors': None}\n",
      "{'sample': <Sample: Frenchman Coulee Basalt_fc-18-007_std_TANAGER>, 'filename': '../TANAGER-Ingest/output/2023_12_12_Brad_basalts_run_1_processed/fc-18-007_2046.csv', 'warnings': [], 'errors': None}\n",
      "{'sample': <Sample: Frenchman Coulee Basalt_fc-18-007_back_TANAGER>, 'filename': '../TANAGER-Ingest/output/2023_12_12_Brad_basalts_run_1_processed/fc-18-007_2166.csv', 'warnings': [], 'errors': None}\n",
      "{'sample': <Sample: Frenchman Coulee Basalt_fc-18-007_v.fwd_TANAGER>, 'filename': '../TANAGER-Ingest/output/2023_12_12_Brad_basalts_run_1_processed/fc-18-007_2250.csv', 'warnings': [], 'errors': None}\n",
      "{'sample': <Sample: Frenchman Coulee Basalt_fc-18-008_fwd_TANAGER>, 'filename': '../TANAGER-Ingest/output/2023_12_12_Brad_basalts_run_1_processed/fc-18-008_1928.csv', 'warnings': [], 'errors': None}\n",
      "{'sample': <Sample: Frenchman Coulee Basalt_fc-18-008_spec_TANAGER>, 'filename': '../TANAGER-Ingest/output/2023_12_12_Brad_basalts_run_1_processed/fc-18-008_1970.csv', 'warnings': [], 'errors': None}\n",
      "{'sample': <Sample: Frenchman Coulee Basalt_fc-18-008_std_TANAGER>, 'filename': '../TANAGER-Ingest/output/2023_12_12_Brad_basalts_run_1_processed/fc-18-008_2048.csv', 'warnings': [], 'errors': None}\n",
      "{'sample': <Sample: Frenchman Coulee Basalt_fc-18-008_back_TANAGER>, 'filename': '../TANAGER-Ingest/output/2023_12_12_Brad_basalts_run_1_processed/fc-18-008_2168.csv', 'warnings': [], 'errors': None}\n",
      "{'sample': <Sample: Frenchman Coulee Basalt_fc-18-008_v.fwd_TANAGER>, 'filename': '../TANAGER-Ingest/output/2023_12_12_Brad_basalts_run_1_processed/fc-18-008_2252.csv', 'warnings': [], 'errors': None}\n",
      "{'sample': <Sample: _interior_tube_1_TANAGER>, 'filename': '../TANAGER-Ingest/output/2023_12_16_Sammy_Hawaiian_Basalt_Small_D_Probe_Processed/interior_tube_1_12.csv', 'warnings': [], 'errors': None}\n",
      "{'sample': <Sample: _interior_tube_2_TANAGER>, 'filename': '../TANAGER-Ingest/output/2023_12_16_Sammy_Hawaiian_Basalt_Small_D_Probe_Processed/interior_tube_2_14.csv', 'warnings': [], 'errors': None}\n",
      "{'sample': <Sample: Ka'u Desert Trail Basalt_kd_1919_13_blue1_TANAGER>, 'filename': '../TANAGER-Ingest/output/2023_12_16_Sammy_Hawaiian_Basalt_Small_D_Probe_Processed/kd_1919_13_blue1_73.csv', 'warnings': [], 'errors': None}\n",
      "{'sample': <Sample: Ka'u Desert Trail Basalt_kd_1919_13_darksurface1_TANAGER>, 'filename': '../TANAGER-Ingest/output/2023_12_16_Sammy_Hawaiian_Basalt_Small_D_Probe_Processed/kd_1919_13_darksurface1_75.csv', 'warnings': [], 'errors': None}\n",
      "{'sample': <Sample: Ka'u Desert Trail Basalt_kd_1919_13_darksurface2gar_TANAGER>, 'filename': '../TANAGER-Ingest/output/2023_12_16_Sammy_Hawaiian_Basalt_Small_D_Probe_Processed/kd_1919_13_darksurface2gar_76.csv', 'warnings': [], 'errors': None}\n",
      "{'sample': <Sample: Ka'u Desert Trail Basalt_kd_1919_13_darksurface2_TANAGER>, 'filename': '../TANAGER-Ingest/output/2023_12_16_Sammy_Hawaiian_Basalt_Small_D_Probe_Processed/kd_1919_13_darksurface2_77.csv', 'warnings': [], 'errors': None}\n",
      "{'sample': <Sample: Ka'u Desert Trail Basalt_kd_1919_13_red_undersidemat_1_TANAGER>, 'filename': '../TANAGER-Ingest/output/2023_12_16_Sammy_Hawaiian_Basalt_Small_D_Probe_Processed/kd_1919_13_red_undersidemat_1_79.csv', 'warnings': [], 'errors': None}\n",
      "{'sample': <Sample: Ka'u Desert Trail Basalt_kd_1919_13_red_undersidemat_2_TANAGER>, 'filename': '../TANAGER-Ingest/output/2023_12_16_Sammy_Hawaiian_Basalt_Small_D_Probe_Processed/kd_1919_13_red_undersidemat_2_81.csv', 'warnings': [], 'errors': None}\n",
      "{'sample': <Sample: Ka'u Desert Trail Basalt_kd_1919_13_yellow_1_TANAGER>, 'filename': '../TANAGER-Ingest/output/2023_12_16_Sammy_Hawaiian_Basalt_Small_D_Probe_Processed/kd_1919_13_yellow_1_71.csv', 'warnings': [], 'errors': None}\n",
      "{'sample': <Sample: Ka'u Desert Trail Basalt_kd_1919_13_yellow_1_gar_TANAGER>, 'filename': '../TANAGER-Ingest/output/2023_12_16_Sammy_Hawaiian_Basalt_Small_D_Probe_Processed/kd_1919_13_yellow_1_gar_70.csv', 'warnings': [], 'errors': None}\n",
      "{'sample': <Sample: Ka'u Desert Trail Basalt_kd_1919_15_aa_coat1_TANAGER>, 'filename': '../TANAGER-Ingest/output/2023_12_16_Sammy_Hawaiian_Basalt_Small_D_Probe_Processed/kd_1919_15_aa_coat1_91.csv', 'warnings': [], 'errors': None}\n",
      "{'sample': <Sample: Ka'u Desert Trail Basalt_kd_1919_15_aa_coat2gar_TANAGER>, 'filename': '../TANAGER-Ingest/output/2023_12_16_Sammy_Hawaiian_Basalt_Small_D_Probe_Processed/kd_1919_15_aa_coat2gar_92.csv', 'warnings': [], 'errors': None}\n",
      "{'sample': <Sample: Ka'u Desert Trail Basalt_kd_1919_15_aa_coat2_TANAGER>, 'filename': '../TANAGER-Ingest/output/2023_12_16_Sammy_Hawaiian_Basalt_Small_D_Probe_Processed/kd_1919_15_aa_coat2_93.csv', 'warnings': [], 'errors': None}\n",
      "{'sample': <Sample: Ka'u Desert Trail Basalt_kd_1919_3a_darker_surface_1_TANAGER>, 'filename': '../TANAGER-Ingest/output/2023_12_16_Sammy_Hawaiian_Basalt_Small_D_Probe_Processed/kd_1919_3a_darker_surface_1_89.csv', 'warnings': [], 'errors': None}\n",
      "{'sample': <Sample: Ka'u Desert Trail Basalt_kd_1919_3a_dustymat_1_TANAGER>, 'filename': '../TANAGER-Ingest/output/2023_12_16_Sammy_Hawaiian_Basalt_Small_D_Probe_Processed/kd_1919_3a_dustymat_1_84.csv', 'warnings': [], 'errors': None}\n",
      "{'sample': <Sample: Ka'u Desert Trail Basalt_kd_1919_3a_dustymat_2_TANAGER>, 'filename': '../TANAGER-Ingest/output/2023_12_16_Sammy_Hawaiian_Basalt_Small_D_Probe_Processed/kd_1919_3a_dustymat_2_86.csv', 'warnings': [], 'errors': None}\n",
      "{'sample': <Sample: Ka'u Desert Trail Basalt_kd_1919_3a_dustymat_2_TANAGER>, 'filename': '../TANAGER-Ingest/output/2023_12_16_Sammy_Hawaiian_Basalt_Small_D_Probe_Processed/kd_1919_3a_dustymat_2_87.csv', 'warnings': [], 'errors': None}\n",
      "{'sample': <Sample: Ka'u Desert Trail Basalt_kd_1919_5_black_surface_1_TANAGER>, 'filename': '../TANAGER-Ingest/output/2023_12_16_Sammy_Hawaiian_Basalt_Small_D_Probe_Processed/kd_1919_5_black_surface_1_49.csv', 'warnings': [], 'errors': None}\n",
      "{'sample': <Sample: Ka'u Desert Trail Basalt_kd_1919_5_glassy_black_side_1_TANAGER>, 'filename': '../TANAGER-Ingest/output/2023_12_16_Sammy_Hawaiian_Basalt_Small_D_Probe_Processed/kd_1919_5_glassy_black_side_1_63.csv', 'warnings': [], 'errors': None}\n",
      "{'sample': <Sample: Ka'u Desert Trail Basalt_kd_1919_5_hom_blue_1_TANAGER>, 'filename': '../TANAGER-Ingest/output/2023_12_16_Sammy_Hawaiian_Basalt_Small_D_Probe_Processed/kd_1919_5_hom_blue_1_43.csv', 'warnings': [], 'errors': None}\n",
      "{'sample': <Sample: Ka'u Desert Trail Basalt_kd_1919_5_hom_blue_3_TANAGER>, 'filename': '../TANAGER-Ingest/output/2023_12_16_Sammy_Hawaiian_Basalt_Small_D_Probe_Processed/kd_1919_5_hom_blue_3_59.csv', 'warnings': [], 'errors': None}\n",
      "{'sample': <Sample: Ka'u Desert Trail Basalt_kd_1919_5_hom_blue_3_gar_TANAGER>, 'filename': '../TANAGER-Ingest/output/2023_12_16_Sammy_Hawaiian_Basalt_Small_D_Probe_Processed/kd_1919_5_hom_blue_3_gar_58.csv', 'warnings': [], 'errors': None}\n",
      "{'sample': <Sample: Ka'u Desert Trail Basalt_kd_1919_5_hom_blue_4gar_TANAGER>, 'filename': '../TANAGER-Ingest/output/2023_12_16_Sammy_Hawaiian_Basalt_Small_D_Probe_Processed/kd_1919_5_hom_blue_4gar_60.csv', 'warnings': [], 'errors': None}\n"
     ]
    },
    {
     "name": "stdout",
     "output_type": "stream",
     "text": [
      "{'sample': <Sample: Ka'u Desert Trail Basalt_kd_1919_5_hom_blue_4_TANAGER>, 'filename': '../TANAGER-Ingest/output/2023_12_16_Sammy_Hawaiian_Basalt_Small_D_Probe_Processed/kd_1919_5_hom_blue_4_61.csv', 'warnings': [], 'errors': None}\n",
      "{'sample': <Sample: Ka'u Desert Trail Basalt_kd_1919_5_interior_basalt_1_TANAGER>, 'filename': '../TANAGER-Ingest/output/2023_12_16_Sammy_Hawaiian_Basalt_Small_D_Probe_Processed/kd_1919_5_interior_basalt_1_57.csv', 'warnings': [], 'errors': None}\n",
      "{'sample': <Sample: Ka'u Desert Trail Basalt_kd_1919_5_interior_basalt_1_gar_TANAGER>, 'filename': '../TANAGER-Ingest/output/2023_12_16_Sammy_Hawaiian_Basalt_Small_D_Probe_Processed/kd_1919_5_interior_basalt_1_gar_56.csv', 'warnings': [], 'errors': None}\n",
      "{'sample': <Sample: Ka'u Desert Trail Basalt_kd_1919_5_interior_less_glassybasalt_1_TANAGER>, 'filename': '../TANAGER-Ingest/output/2023_12_16_Sammy_Hawaiian_Basalt_Small_D_Probe_Processed/kd_1919_5_interior_less_glassybasalt_1_69.csv', 'warnings': [], 'errors': None}\n",
      "{'sample': <Sample: Ka'u Desert Trail Basalt_kd_1919_5_light_material_underside_samp_1_TANAGER>, 'filename': '../TANAGER-Ingest/output/2023_12_16_Sammy_Hawaiian_Basalt_Small_D_Probe_Processed/kd_1919_5_light_material_underside_samp_1_51.csv', 'warnings': [], 'errors': None}\n",
      "{'sample': <Sample: Ka'u Desert Trail Basalt_kd_1919_5_light_material_underside_samp_2_TANAGER>, 'filename': '../TANAGER-Ingest/output/2023_12_16_Sammy_Hawaiian_Basalt_Small_D_Probe_Processed/kd_1919_5_light_material_underside_samp_2_53.csv', 'warnings': [], 'errors': None}\n",
      "{'sample': <Sample: Ka'u Desert Trail Basalt_kd_1919_5_light_material_underside_samp_2_gar_TANAGER>, 'filename': '../TANAGER-Ingest/output/2023_12_16_Sammy_Hawaiian_Basalt_Small_D_Probe_Processed/kd_1919_5_light_material_underside_samp_2_gar_52.csv', 'warnings': [], 'errors': None}\n",
      "{'sample': <Sample: Ka'u Desert Trail Basalt_kd_1919_5_light_material_underside_samp_3_dusty_TANAGER>, 'filename': '../TANAGER-Ingest/output/2023_12_16_Sammy_Hawaiian_Basalt_Small_D_Probe_Processed/kd_1919_5_light_material_underside_samp_3_dusty_55.csv', 'warnings': [], 'errors': None}\n",
      "{'sample': <Sample: Ka'u Desert Trail Basalt_kd_1919_5_red_fracture_sidesample_1_TANAGER>, 'filename': '../TANAGER-Ingest/output/2023_12_16_Sammy_Hawaiian_Basalt_Small_D_Probe_Processed/kd_1919_5_red_fracture_sidesample_1_65.csv', 'warnings': [], 'errors': None}\n",
      "{'sample': <Sample: Ka'u Desert Trail Basalt_kd_1919_5_red_fracture_sidesample_2gar_TANAGER>, 'filename': '../TANAGER-Ingest/output/2023_12_16_Sammy_Hawaiian_Basalt_Small_D_Probe_Processed/kd_1919_5_red_fracture_sidesample_2gar_66.csv', 'warnings': [], 'errors': None}\n",
      "{'sample': <Sample: Ka'u Desert Trail Basalt_kd_1919_5_red_fracture_sidesample_2_TANAGER>, 'filename': '../TANAGER-Ingest/output/2023_12_16_Sammy_Hawaiian_Basalt_Small_D_Probe_Processed/kd_1919_5_red_fracture_sidesample_2_67.csv', 'warnings': [], 'errors': None}\n",
      "{'sample': <Sample: Ka'u Desert Trail Basalt_kd_1919_5_red_surface_1_TANAGER>, 'filename': '../TANAGER-Ingest/output/2023_12_16_Sammy_Hawaiian_Basalt_Small_D_Probe_Processed/kd_1919_5_red_surface_1_45.csv', 'warnings': [], 'errors': None}\n",
      "{'sample': <Sample: Ka'u Desert Trail Basalt_kd_1919_5_red_surface_2gar_TANAGER>, 'filename': '../TANAGER-Ingest/output/2023_12_16_Sammy_Hawaiian_Basalt_Small_D_Probe_Processed/kd_1919_5_red_surface_2gar_46.csv', 'warnings': [], 'errors': None}\n",
      "{'sample': <Sample: Ka'u Desert Trail Basalt_kd_1919_5_red_surface_2_TANAGER>, 'filename': '../TANAGER-Ingest/output/2023_12_16_Sammy_Hawaiian_Basalt_Small_D_Probe_Processed/kd_1919_5_red_surface_2_47.csv', 'warnings': [], 'errors': None}\n",
      "{'sample': <Sample: Puna Coast Trail Basalt_pct_1970_3_black_glassy_side_2_TANAGER>, 'filename': '../TANAGER-Ingest/output/2023_12_16_Sammy_Hawaiian_Basalt_Small_D_Probe_Processed/pct_1970_3_black_glassy_side_2_35.csv', 'warnings': [], 'errors': None}\n",
      "{'sample': <Sample: Puna Coast Trail Basalt_pct_1970_3_dark_surface_3_TANAGER>, 'filename': '../TANAGER-Ingest/output/2023_12_16_Sammy_Hawaiian_Basalt_Small_D_Probe_Processed/pct_1970_3_dark_surface_3_24.csv', 'warnings': [], 'errors': None}\n",
      "{'sample': <Sample: Puna Coast Trail Basalt_pct_1970_3_glassy_black_side_fracture_1_TANAGER>, 'filename': '../TANAGER-Ingest/output/2023_12_16_Sammy_Hawaiian_Basalt_Small_D_Probe_Processed/pct_1970_3_glassy_black_side_fracture_1_31.csv', 'warnings': [], 'errors': None}\n",
      "{'sample': <Sample: Puna Coast Trail Basalt_pct_1970_3_interior_lava_tube_speckled_1_TANAGER>, 'filename': '../TANAGER-Ingest/output/2023_12_16_Sammy_Hawaiian_Basalt_Small_D_Probe_Processed/pct_1970_3_interior_lava_tube_speckled_1_26.csv', 'warnings': [], 'errors': None}\n",
      "{'sample': <Sample: Puna Coast Trail Basalt_pct_1970_3_interior_lava_tube_speckled_2_TANAGER>, 'filename': '../TANAGER-Ingest/output/2023_12_16_Sammy_Hawaiian_Basalt_Small_D_Probe_Processed/pct_1970_3_interior_lava_tube_speckled_2_27.csv', 'warnings': [], 'errors': None}\n",
      "{'sample': <Sample: Puna Coast Trail Basalt_pct_1970_3_r2_white_5_TANAGER>, 'filename': '../TANAGER-Ingest/output/2023_12_16_Sammy_Hawaiian_Basalt_Small_D_Probe_Processed/pct_1970_3_r2_white_5_18.csv', 'warnings': [], 'errors': None}\n",
      "{'sample': <Sample: Puna Coast Trail Basalt_pct_1970_3_r2_white_6_TANAGER>, 'filename': '../TANAGER-Ingest/output/2023_12_16_Sammy_Hawaiian_Basalt_Small_D_Probe_Processed/pct_1970_3_r2_white_6_20.csv', 'warnings': [], 'errors': None}\n",
      "{'sample': <Sample: Puna Coast Trail Basalt_pct_1970_3_r2_white_7_TANAGER>, 'filename': '../TANAGER-Ingest/output/2023_12_16_Sammy_Hawaiian_Basalt_Small_D_Probe_Processed/pct_1970_3_r2_white_7_22.csv', 'warnings': [], 'errors': None}\n",
      "{'sample': <Sample: Puna Coast Trail Basalt_pct_1970_3_red1_TANAGER>, 'filename': '../TANAGER-Ingest/output/2023_12_16_Sammy_Hawaiian_Basalt_Small_D_Probe_Processed/pct_1970_3_red1_3.csv', 'warnings': [], 'errors': None}\n",
      "{'sample': <Sample: Puna Coast Trail Basalt_pct_1970_3_redmat_whitecrossection_side_1_TANAGER>, 'filename': '../TANAGER-Ingest/output/2023_12_16_Sammy_Hawaiian_Basalt_Small_D_Probe_Processed/pct_1970_3_redmat_whitecrossection_side_1_29.csv', 'warnings': [], 'errors': None}\n",
      "{'sample': <Sample: Puna Coast Trail Basalt_pct_1970_3_red_3_TANAGER>, 'filename': '../TANAGER-Ingest/output/2023_12_16_Sammy_Hawaiian_Basalt_Small_D_Probe_Processed/pct_1970_3_red_3_33.csv', 'warnings': [], 'errors': None}\n",
      "{'sample': <Sample: Puna Coast Trail Basalt_pct_1970_3_r_dark_surface_1_TANAGER>, 'filename': '../TANAGER-Ingest/output/2023_12_16_Sammy_Hawaiian_Basalt_Small_D_Probe_Processed/pct_1970_3_r_dark_surface_1_16.csv', 'warnings': [], 'errors': None}\n",
      "{'sample': <Sample: Puna Coast Trail Basalt_pct_1970_3_white1_TANAGER>, 'filename': '../TANAGER-Ingest/output/2023_12_16_Sammy_Hawaiian_Basalt_Small_D_Probe_Processed/pct_1970_3_white1_5.csv', 'warnings': [], 'errors': None}\n",
      "{'sample': <Sample: Puna Coast Trail Basalt_pct_1970_3_white2_TANAGER>, 'filename': '../TANAGER-Ingest/output/2023_12_16_Sammy_Hawaiian_Basalt_Small_D_Probe_Processed/pct_1970_3_white2_7.csv', 'warnings': [], 'errors': None}\n",
      "{'sample': <Sample: Puna Coast Trail Basalt_pct_1970_3_white2_gar_TANAGER>, 'filename': '../TANAGER-Ingest/output/2023_12_16_Sammy_Hawaiian_Basalt_Small_D_Probe_Processed/pct_1970_3_white2_gar_6.csv', 'warnings': [], 'errors': None}\n",
      "{'sample': <Sample: Puna Coast Trail Basalt_pct_1970_3_white3_TANAGER>, 'filename': '../TANAGER-Ingest/output/2023_12_16_Sammy_Hawaiian_Basalt_Small_D_Probe_Processed/pct_1970_3_white3_10.csv', 'warnings': [], 'errors': None}\n",
      "{'sample': <Sample: Puna Coast Trail Basalt_pct_1970_3_whitem_gar_TANAGER>, 'filename': '../TANAGER-Ingest/output/2023_12_16_Sammy_Hawaiian_Basalt_Small_D_Probe_Processed/pct_1970_3_whitem_gar_4.csv', 'warnings': [], 'errors': None}\n",
      "{'sample': <Sample: Puna Coast Trail Basalt_pct_1970_3_white_fracture_red_crossection_4_TANAGER>, 'filename': '../TANAGER-Ingest/output/2023_12_16_Sammy_Hawaiian_Basalt_Small_D_Probe_Processed/pct_1970_3_white_fracture_red_crossection_4_37.csv', 'warnings': [], 'errors': None}\n"
     ]
    },
    {
     "name": "stdout",
     "output_type": "stream",
     "text": [
      "{'sample': <Sample: Puna Coast Trail Basalt_pct_1970_3_white_fracture_red_crossection_7_TANAGER>, 'filename': '../TANAGER-Ingest/output/2023_12_16_Sammy_Hawaiian_Basalt_Small_D_Probe_Processed/pct_1970_3_white_fracture_red_crossection_7_40.csv', 'warnings': [], 'errors': None}\n",
      "{'sample': <Sample: Puna Coast Trail Basalt_pct_1970_3_white_fracture_red_crossection_gar_TANAGER>, 'filename': '../TANAGER-Ingest/output/2023_12_16_Sammy_Hawaiian_Basalt_Small_D_Probe_Processed/pct_1970_3_white_fracture_red_crossection_gar_39.csv', 'warnings': [], 'errors': None}\n",
      "{'sample': <Sample: _blockybasalt_blackvarnishoverbrown_std_TANAGER>, 'filename': '../TANAGER-Ingest/output/2024_02_16_VarnishBasaltsForMike/blockybasalt_blackvarnishoverbrown_4.csv', 'warnings': [], 'errors': None}\n",
      "{'sample': <Sample: _blockybasalt_interior_std_TANAGER>, 'filename': '../TANAGER-Ingest/output/2024_02_16_VarnishBasaltsForMike/blockybasalt_interior_16.csv', 'warnings': [], 'errors': None}\n",
      "Error: validation error\n",
      "{'sample': <Sample: _roundbasaltcobble_blackvarnish_std_TANAGER>, 'filename': '../TANAGER-Ingest/output/2024_02_16_VarnishBasaltsForMike/roundbasaltcobble_blackvarnish_10.csv', 'warnings': [], 'errors': None}\n",
      "{'sample': <Sample: _blockybasalt_blackvarnishdarkest_TANAGER>, 'filename': '../TANAGER-Ingest/output/2024_02_16_VarnishBasaltsForMike_probes/blockybasalt_blackvarnishdarkest_9.csv', 'warnings': [], 'errors': None}\n",
      "{'sample': <Sample: _blockybasalt_interiorrind_sdprobe_TANAGER>, 'filename': '../TANAGER-Ingest/output/2024_02_16_VarnishBasaltsForMike_probes/blockybasalt_interiorrind_sdprobe_7.csv', 'warnings': [], 'errors': None}\n",
      "{'sample': <Sample: _blockybasalt_interior_sdprobe1_TANAGER>, 'filename': '../TANAGER-Ingest/output/2024_02_16_VarnishBasaltsForMike_probes/blockybasalt_interior_sdprobe1_3.csv', 'warnings': [], 'errors': None}\n",
      "{'sample': <Sample: _blockybasalt_interior_sdprobe2_TANAGER>, 'filename': '../TANAGER-Ingest/output/2024_02_16_VarnishBasaltsForMike_probes/blockybasalt_interior_sdprobe2_5.csv', 'warnings': [], 'errors': None}\n",
      "{'sample': <Sample: _blockybasalt_purpley_TANAGER>, 'filename': '../TANAGER-Ingest/output/2024_02_16_VarnishBasaltsForMike_probes/blockybasalt_purpley_14.csv', 'warnings': [], 'errors': None}\n",
      "{'sample': <Sample: _blockybasalt_reddishbrown_TANAGER>, 'filename': '../TANAGER-Ingest/output/2024_02_16_VarnishBasaltsForMike_probes/blockybasalt_reddishbrown_12.csv', 'warnings': [], 'errors': None}\n",
      "{'sample': <Sample: _roundbasaltcobble_sdprobe1_TANAGER>, 'filename': '../TANAGER-Ingest/output/2024_02_16_VarnishBasaltsForMike_probes/roundbasaltcobble_sdprobe1_16.csv', 'warnings': [], 'errors': None}\n",
      "{'sample': <Sample: _roundbasaltcobble_sdprobe2_TANAGER>, 'filename': '../TANAGER-Ingest/output/2024_02_16_VarnishBasaltsForMike_probes/roundbasaltcobble_sdprobe2_18.csv', 'warnings': [], 'errors': None}\n",
      "{'sample': <Sample: _roundbasaltcobble_sdprobe3_TANAGER>, 'filename': '../TANAGER-Ingest/output/2024_02_16_VarnishBasaltsForMike_probes/roundbasaltcobble_sdprobe3_20.csv', 'warnings': [], 'errors': None}\n",
      "{'sample': <Sample: _roundbasaltcobble_sdprobe4_TANAGER>, 'filename': '../TANAGER-Ingest/output/2024_02_16_VarnishBasaltsForMike_probes/roundbasaltcobble_sdprobe4_23.csv', 'warnings': [], 'errors': None}\n",
      "{'sample': <Sample: _roundbasaltcobble_sdprobe5_TANAGER>, 'filename': '../TANAGER-Ingest/output/2024_02_16_VarnishBasaltsForMike_probes/roundbasaltcobble_sdprobe5_25.csv', 'warnings': [], 'errors': None}\n",
      "{'sample': <Sample: _roundbasaltcobble_sdprobe6_TANAGER>, 'filename': '../TANAGER-Ingest/output/2024_02_16_VarnishBasaltsForMike_probes/roundbasaltcobble_sdprobe6_27.csv', 'warnings': [], 'errors': None}\n",
      "{'sample': <Sample: _roundbasaltcobble_sdprobe7_TANAGER>, 'filename': '../TANAGER-Ingest/output/2024_02_16_VarnishBasaltsForMike_probes/roundbasaltcobble_sdprobe7_29.csv', 'warnings': [], 'errors': None}\n",
      "{'sample': <Sample: _roundbasaltcobble_sdprobe8_TANAGER>, 'filename': '../TANAGER-Ingest/output/2024_02_16_VarnishBasaltsForMike_probes/roundbasaltcobble_sdprobe8_31.csv', 'warnings': [], 'errors': None}\n",
      "{'sample': <Sample: Table Mountain Andesite_tm-2-a_fwd_TANAGER>, 'filename': '../TANAGER-Ingest/output/2024_04_03_Brad_andesites_run_1/tm-2-a_1926.csv', 'warnings': [], 'errors': None}\n",
      "{'sample': <Sample: Table Mountain Andesite_tm-2-a_spec_TANAGER>, 'filename': '../TANAGER-Ingest/output/2024_04_03_Brad_andesites_run_1/tm-2-a_1968.csv', 'warnings': [], 'errors': None}\n",
      "{'sample': <Sample: Table Mountain Andesite_tm-2-a_std_TANAGER>, 'filename': '../TANAGER-Ingest/output/2024_04_03_Brad_andesites_run_1/tm-2-a_2046.csv', 'warnings': [], 'errors': None}\n",
      "{'sample': <Sample: Table Mountain Andesite_tm-2-a_back_TANAGER>, 'filename': '../TANAGER-Ingest/output/2024_04_03_Brad_andesites_run_1/tm-2-a_2166.csv', 'warnings': [], 'errors': None}\n",
      "{'sample': <Sample: Table Mountain Andesite_tm-2-a_v.fwd_TANAGER>, 'filename': '../TANAGER-Ingest/output/2024_04_03_Brad_andesites_run_1/tm-2-a_2250.csv', 'warnings': [], 'errors': None}\n",
      "{'sample': <Sample: Table Mountain Andesite_tm-2-b_fwd_TANAGER>, 'filename': '../TANAGER-Ingest/output/2024_04_03_Brad_andesites_run_1/tm-2-b_1930.csv', 'warnings': [], 'errors': None}\n",
      "{'sample': <Sample: Table Mountain Andesite_tm-2-b_spec_TANAGER>, 'filename': '../TANAGER-Ingest/output/2024_04_03_Brad_andesites_run_1/tm-2-b_1972.csv', 'warnings': [], 'errors': None}\n",
      "{'sample': <Sample: Table Mountain Andesite_tm-2-b_std_TANAGER>, 'filename': '../TANAGER-Ingest/output/2024_04_03_Brad_andesites_run_1/tm-2-b_2050.csv', 'warnings': [], 'errors': None}\n",
      "{'sample': <Sample: Table Mountain Andesite_tm-2-b_back_TANAGER>, 'filename': '../TANAGER-Ingest/output/2024_04_03_Brad_andesites_run_1/tm-2-b_2170.csv', 'warnings': [], 'errors': None}\n",
      "{'sample': <Sample: Table Mountain Andesite_tm-2-b_v.fwd_TANAGER>, 'filename': '../TANAGER-Ingest/output/2024_04_03_Brad_andesites_run_1/tm-2-b_2254.csv', 'warnings': [], 'errors': None}\n",
      "{'sample': <Sample: Table Mountain Andesite_tm-3_fwd_TANAGER>, 'filename': '../TANAGER-Ingest/output/2024_04_03_Brad_andesites_run_1/tm-3_1927.csv', 'warnings': [], 'errors': None}\n",
      "{'sample': <Sample: Table Mountain Andesite_tm-3_spec_TANAGER>, 'filename': '../TANAGER-Ingest/output/2024_04_03_Brad_andesites_run_1/tm-3_1969.csv', 'warnings': [], 'errors': None}\n",
      "{'sample': <Sample: Table Mountain Andesite_tm-3_std_TANAGER>, 'filename': '../TANAGER-Ingest/output/2024_04_03_Brad_andesites_run_1/tm-3_2047.csv', 'warnings': [], 'errors': None}\n",
      "{'sample': <Sample: Table Mountain Andesite_tm-3_back_TANAGER>, 'filename': '../TANAGER-Ingest/output/2024_04_03_Brad_andesites_run_1/tm-3_2167.csv', 'warnings': [], 'errors': None}\n",
      "{'sample': <Sample: Table Mountain Andesite_tm-3_v.fwd_TANAGER>, 'filename': '../TANAGER-Ingest/output/2024_04_03_Brad_andesites_run_1/tm-3_2251.csv', 'warnings': [], 'errors': None}\n",
      "{'sample': <Sample: Table Mountain Andesite_tm-4_fwd_TANAGER>, 'filename': '../TANAGER-Ingest/output/2024_04_03_Brad_andesites_run_1/tm-4_1928.csv', 'warnings': [], 'errors': None}\n",
      "{'sample': <Sample: Table Mountain Andesite_tm-4_spec_TANAGER>, 'filename': '../TANAGER-Ingest/output/2024_04_03_Brad_andesites_run_1/tm-4_1970.csv', 'warnings': [], 'errors': None}\n",
      "{'sample': <Sample: Table Mountain Andesite_tm-4_std_TANAGER>, 'filename': '../TANAGER-Ingest/output/2024_04_03_Brad_andesites_run_1/tm-4_2048.csv', 'warnings': [], 'errors': None}\n",
      "{'sample': <Sample: Table Mountain Andesite_tm-4_back_TANAGER>, 'filename': '../TANAGER-Ingest/output/2024_04_03_Brad_andesites_run_1/tm-4_2168.csv', 'warnings': [], 'errors': None}\n",
      "{'sample': <Sample: Table Mountain Andesite_tm-4_v.fwd_TANAGER>, 'filename': '../TANAGER-Ingest/output/2024_04_03_Brad_andesites_run_1/tm-4_2252.csv', 'warnings': [], 'errors': None}\n",
      "{'sample': <Sample: Table Mountain Andesite_tm-6_fwd_TANAGER>, 'filename': '../TANAGER-Ingest/output/2024_04_03_Brad_andesites_run_1/tm-6_1929.csv', 'warnings': [], 'errors': None}\n",
      "{'sample': <Sample: Table Mountain Andesite_tm-6_spec_TANAGER>, 'filename': '../TANAGER-Ingest/output/2024_04_03_Brad_andesites_run_1/tm-6_1971.csv', 'warnings': [], 'errors': None}\n"
     ]
    },
    {
     "name": "stdout",
     "output_type": "stream",
     "text": [
      "{'sample': <Sample: Table Mountain Andesite_tm-6_std_TANAGER>, 'filename': '../TANAGER-Ingest/output/2024_04_03_Brad_andesites_run_1/tm-6_2049.csv', 'warnings': [], 'errors': None}\n",
      "{'sample': <Sample: Table Mountain Andesite_tm-6_back_TANAGER>, 'filename': '../TANAGER-Ingest/output/2024_04_03_Brad_andesites_run_1/tm-6_2169.csv', 'warnings': [], 'errors': None}\n",
      "{'sample': <Sample: Table Mountain Andesite_tm-6_v.fwd_TANAGER>, 'filename': '../TANAGER-Ingest/output/2024_04_03_Brad_andesites_run_1/tm-6_2253.csv', 'warnings': [], 'errors': None}\n",
      "{'sample': <Sample: Twin Sisters Dunite_ts-20-02-3_fwd_TANAGER>, 'filename': '../TANAGER-Ingest/output/2024_04_09_Brad_Dunites1/ts-20-02-3_1930.csv', 'warnings': [], 'errors': None}\n",
      "{'sample': <Sample: Twin Sisters Dunite_ts-20-02-3_spec_TANAGER>, 'filename': '../TANAGER-Ingest/output/2024_04_09_Brad_Dunites1/ts-20-02-3_1972.csv', 'warnings': [], 'errors': None}\n",
      "{'sample': <Sample: Twin Sisters Dunite_ts-20-02-3_std_TANAGER>, 'filename': '../TANAGER-Ingest/output/2024_04_09_Brad_Dunites1/ts-20-02-3_2050.csv', 'warnings': [], 'errors': None}\n",
      "{'sample': <Sample: Twin Sisters Dunite_ts-20-02-3_back_TANAGER>, 'filename': '../TANAGER-Ingest/output/2024_04_09_Brad_Dunites1/ts-20-02-3_2170.csv', 'warnings': [], 'errors': None}\n",
      "{'sample': <Sample: Twin Sisters Dunite_ts-20-02-3_v.fwd_TANAGER>, 'filename': '../TANAGER-Ingest/output/2024_04_09_Brad_Dunites1/ts-20-02-3_2254.csv', 'warnings': [], 'errors': None}\n",
      "{'sample': <Sample: Twin Sisters Dunite_ts-20-05_fwd_TANAGER>, 'filename': '../TANAGER-Ingest/output/2024_04_09_Brad_Dunites1/ts-20-05_1928.csv', 'warnings': [], 'errors': None}\n",
      "{'sample': <Sample: Twin Sisters Dunite_ts-20-05_spec_TANAGER>, 'filename': '../TANAGER-Ingest/output/2024_04_09_Brad_Dunites1/ts-20-05_1970.csv', 'warnings': [], 'errors': None}\n",
      "{'sample': <Sample: Twin Sisters Dunite_ts-20-05_std_TANAGER>, 'filename': '../TANAGER-Ingest/output/2024_04_09_Brad_Dunites1/ts-20-05_2048.csv', 'warnings': [], 'errors': None}\n",
      "{'sample': <Sample: Twin Sisters Dunite_ts-20-05_back_TANAGER>, 'filename': '../TANAGER-Ingest/output/2024_04_09_Brad_Dunites1/ts-20-05_2168.csv', 'warnings': [], 'errors': None}\n",
      "{'sample': <Sample: Twin Sisters Dunite_ts-20-05_v.fwd_TANAGER>, 'filename': '../TANAGER-Ingest/output/2024_04_09_Brad_Dunites1/ts-20-05_2252.csv', 'warnings': [], 'errors': None}\n",
      "{'sample': <Sample: Twin Sisters Dunite_ts-20-08_fwd_TANAGER>, 'filename': '../TANAGER-Ingest/output/2024_04_09_Brad_Dunites1/ts-20-08_1927.csv', 'warnings': [], 'errors': None}\n",
      "{'sample': <Sample: Twin Sisters Dunite_ts-20-08_spec_TANAGER>, 'filename': '../TANAGER-Ingest/output/2024_04_09_Brad_Dunites1/ts-20-08_1969.csv', 'warnings': [], 'errors': None}\n",
      "{'sample': <Sample: Twin Sisters Dunite_ts-20-08_std_TANAGER>, 'filename': '../TANAGER-Ingest/output/2024_04_09_Brad_Dunites1/ts-20-08_2047.csv', 'warnings': [], 'errors': None}\n",
      "{'sample': <Sample: Twin Sisters Dunite_ts-20-08_back_TANAGER>, 'filename': '../TANAGER-Ingest/output/2024_04_09_Brad_Dunites1/ts-20-08_2167.csv', 'warnings': [], 'errors': None}\n",
      "{'sample': <Sample: Twin Sisters Dunite_ts-20-08_v.fwd_TANAGER>, 'filename': '../TANAGER-Ingest/output/2024_04_09_Brad_Dunites1/ts-20-08_2251.csv', 'warnings': [], 'errors': None}\n",
      "{'sample': <Sample: Twin Sisters Dunite_ts-20-13-3_fwd_TANAGER>, 'filename': '../TANAGER-Ingest/output/2024_04_09_Brad_Dunites1/ts-20-13-3_1931.csv', 'warnings': [], 'errors': None}\n",
      "{'sample': <Sample: Twin Sisters Dunite_ts-20-13-3_spec_TANAGER>, 'filename': '../TANAGER-Ingest/output/2024_04_09_Brad_Dunites1/ts-20-13-3_1973.csv', 'warnings': [], 'errors': None}\n",
      "{'sample': <Sample: Twin Sisters Dunite_ts-20-13-3_std_TANAGER>, 'filename': '../TANAGER-Ingest/output/2024_04_09_Brad_Dunites1/ts-20-13-3_2051.csv', 'warnings': [], 'errors': None}\n",
      "{'sample': <Sample: Twin Sisters Dunite_ts-20-13-3_back_TANAGER>, 'filename': '../TANAGER-Ingest/output/2024_04_09_Brad_Dunites1/ts-20-13-3_2171.csv', 'warnings': [], 'errors': None}\n",
      "{'sample': <Sample: Twin Sisters Dunite_ts-20-13-3_v.fwd_TANAGER>, 'filename': '../TANAGER-Ingest/output/2024_04_09_Brad_Dunites1/ts-20-13-3_2255.csv', 'warnings': [], 'errors': None}\n",
      "{'sample': <Sample: Twin Sisters Dunite_ts-20-26_fwd_TANAGER>, 'filename': '../TANAGER-Ingest/output/2024_04_09_Brad_Dunites1/ts-20-26_1929.csv', 'warnings': [], 'errors': None}\n",
      "{'sample': <Sample: Twin Sisters Dunite_ts-20-26_spec_TANAGER>, 'filename': '../TANAGER-Ingest/output/2024_04_09_Brad_Dunites1/ts-20-26_1971.csv', 'warnings': [], 'errors': None}\n",
      "{'sample': <Sample: Twin Sisters Dunite_ts-20-26_std_TANAGER>, 'filename': '../TANAGER-Ingest/output/2024_04_09_Brad_Dunites1/ts-20-26_2049.csv', 'warnings': [], 'errors': None}\n",
      "{'sample': <Sample: Twin Sisters Dunite_ts-20-26_back_TANAGER>, 'filename': '../TANAGER-Ingest/output/2024_04_09_Brad_Dunites1/ts-20-26_2169.csv', 'warnings': [], 'errors': None}\n",
      "{'sample': <Sample: Twin Sisters Dunite_ts-20-26_v.fwd_TANAGER>, 'filename': '../TANAGER-Ingest/output/2024_04_09_Brad_Dunites1/ts-20-26_2253.csv', 'warnings': [], 'errors': None}\n",
      "{'sample': <Sample: Twin Sisters Dunite_ts-20-01-5-a_fwd_TANAGER>, 'filename': '../TANAGER-Ingest/output/2024_04_16_Brad_Dunites2/ts-20-01-5-a_1926.csv', 'warnings': [], 'errors': None}\n",
      "{'sample': <Sample: Twin Sisters Dunite_ts-20-01-5-a_spec_TANAGER>, 'filename': '../TANAGER-Ingest/output/2024_04_16_Brad_Dunites2/ts-20-01-5-a_1968.csv', 'warnings': [], 'errors': None}\n",
      "{'sample': <Sample: Twin Sisters Dunite_ts-20-01-5-a_std_TANAGER>, 'filename': '../TANAGER-Ingest/output/2024_04_16_Brad_Dunites2/ts-20-01-5-a_2046.csv', 'warnings': [], 'errors': None}\n",
      "{'sample': <Sample: Twin Sisters Dunite_ts-20-01-5-a_back_TANAGER>, 'filename': '../TANAGER-Ingest/output/2024_04_16_Brad_Dunites2/ts-20-01-5-a_2166.csv', 'warnings': [], 'errors': None}\n",
      "{'sample': <Sample: Twin Sisters Dunite_ts-20-01-5-a_v.fwd_TANAGER>, 'filename': '../TANAGER-Ingest/output/2024_04_16_Brad_Dunites2/ts-20-01-5-a_2250.csv', 'warnings': [], 'errors': None}\n",
      "{'sample': <Sample: Twin Sisters Dunite_ts-20-01-5-b_fwd_TANAGER>, 'filename': '../TANAGER-Ingest/output/2024_04_16_Brad_Dunites2/ts-20-01-5-b_1927.csv', 'warnings': [], 'errors': None}\n",
      "{'sample': <Sample: Twin Sisters Dunite_ts-20-01-5-b_spec_TANAGER>, 'filename': '../TANAGER-Ingest/output/2024_04_16_Brad_Dunites2/ts-20-01-5-b_1969.csv', 'warnings': [], 'errors': None}\n",
      "{'sample': <Sample: Twin Sisters Dunite_ts-20-01-5-b_std_TANAGER>, 'filename': '../TANAGER-Ingest/output/2024_04_16_Brad_Dunites2/ts-20-01-5-b_2047.csv', 'warnings': [], 'errors': None}\n",
      "{'sample': <Sample: Twin Sisters Dunite_ts-20-01-5-b_back_TANAGER>, 'filename': '../TANAGER-Ingest/output/2024_04_16_Brad_Dunites2/ts-20-01-5-b_2167.csv', 'warnings': [], 'errors': None}\n",
      "{'sample': <Sample: Twin Sisters Dunite_ts-20-01-5-b_v.fwd_TANAGER>, 'filename': '../TANAGER-Ingest/output/2024_04_16_Brad_Dunites2/ts-20-01-5-b_2251.csv', 'warnings': [], 'errors': None}\n",
      "{'sample': <Sample: Twin Sisters Dunite_ts-20-19-a_fwd_TANAGER>, 'filename': '../TANAGER-Ingest/output/2024_04_16_Brad_Dunites2/ts-20-19-a_1928.csv', 'warnings': [], 'errors': None}\n",
      "{'sample': <Sample: Twin Sisters Dunite_ts-20-19-a_spec_TANAGER>, 'filename': '../TANAGER-Ingest/output/2024_04_16_Brad_Dunites2/ts-20-19-a_1970.csv', 'warnings': [], 'errors': None}\n",
      "{'sample': <Sample: Twin Sisters Dunite_ts-20-19-a_std_TANAGER>, 'filename': '../TANAGER-Ingest/output/2024_04_16_Brad_Dunites2/ts-20-19-a_2048.csv', 'warnings': [], 'errors': None}\n",
      "{'sample': <Sample: Twin Sisters Dunite_ts-20-19-a_back_TANAGER>, 'filename': '../TANAGER-Ingest/output/2024_04_16_Brad_Dunites2/ts-20-19-a_2168.csv', 'warnings': [], 'errors': None}\n",
      "{'sample': <Sample: Twin Sisters Dunite_ts-20-19-a_v.fwd_TANAGER>, 'filename': '../TANAGER-Ingest/output/2024_04_16_Brad_Dunites2/ts-20-19-a_2252.csv', 'warnings': [], 'errors': None}\n",
      "{'sample': <Sample: Twin Sisters Dunite_ts-20-19-b_fwd_TANAGER>, 'filename': '../TANAGER-Ingest/output/2024_04_16_Brad_Dunites2/ts-20-19-b_1929.csv', 'warnings': [], 'errors': None}\n"
     ]
    },
    {
     "name": "stdout",
     "output_type": "stream",
     "text": [
      "{'sample': <Sample: Twin Sisters Dunite_ts-20-19-b_spec_TANAGER>, 'filename': '../TANAGER-Ingest/output/2024_04_16_Brad_Dunites2/ts-20-19-b_1971.csv', 'warnings': [], 'errors': None}\n",
      "{'sample': <Sample: Twin Sisters Dunite_ts-20-19-b_std_TANAGER>, 'filename': '../TANAGER-Ingest/output/2024_04_16_Brad_Dunites2/ts-20-19-b_2049.csv', 'warnings': [], 'errors': None}\n",
      "{'sample': <Sample: Twin Sisters Dunite_ts-20-19-b_back_TANAGER>, 'filename': '../TANAGER-Ingest/output/2024_04_16_Brad_Dunites2/ts-20-19-b_2169.csv', 'warnings': [], 'errors': None}\n",
      "{'sample': <Sample: Twin Sisters Dunite_ts-20-19-b_v.fwd_TANAGER>, 'filename': '../TANAGER-Ingest/output/2024_04_16_Brad_Dunites2/ts-20-19-b_2253.csv', 'warnings': [], 'errors': None}\n",
      "{'sample': <Sample: Twin Sisters Dunite_ts-20-3_fwd_TANAGER>, 'filename': '../TANAGER-Ingest/output/2024_04_16_Brad_Dunites2/ts-20-3_1925.csv', 'warnings': [], 'errors': None}\n",
      "{'sample': <Sample: Twin Sisters Dunite_ts-20-3_spec_TANAGER>, 'filename': '../TANAGER-Ingest/output/2024_04_16_Brad_Dunites2/ts-20-3_1967.csv', 'warnings': [], 'errors': None}\n",
      "{'sample': <Sample: Twin Sisters Dunite_ts-20-3_std_TANAGER>, 'filename': '../TANAGER-Ingest/output/2024_04_16_Brad_Dunites2/ts-20-3_2045.csv', 'warnings': [], 'errors': None}\n",
      "{'sample': <Sample: Twin Sisters Dunite_ts-20-3_back_TANAGER>, 'filename': '../TANAGER-Ingest/output/2024_04_16_Brad_Dunites2/ts-20-3_2165.csv', 'warnings': [], 'errors': None}\n",
      "{'sample': <Sample: Twin Sisters Dunite_ts-20-3_v.fwd_TANAGER>, 'filename': '../TANAGER-Ingest/output/2024_04_16_Brad_Dunites2/ts-20-3_2249.csv', 'warnings': [], 'errors': None}\n",
      "{'sample': <Sample: Ka'u Desert Trail Basalt_kd_1919_8b_abraded_fwd_TANAGER>, 'filename': '../TANAGER-Ingest/output/2024_06_05_Kristiana_forSammy_KD_1919_8b_ABRADED/kd_1919_8b_abraded_459.csv', 'warnings': [], 'errors': None}\n",
      "{'sample': <Sample: Ka'u Desert Trail Basalt_kd_1919_8b_abraded_spec_TANAGER>, 'filename': '../TANAGER-Ingest/output/2024_06_05_Kristiana_forSammy_KD_1919_8b_ABRADED/kd_1919_8b_abraded_469.csv', 'warnings': [], 'errors': None}\n",
      "{'sample': <Sample: Ka'u Desert Trail Basalt_kd_1919_8b_abraded_std_TANAGER>, 'filename': '../TANAGER-Ingest/output/2024_06_05_Kristiana_forSammy_KD_1919_8b_ABRADED/kd_1919_8b_abraded_487.csv', 'warnings': [], 'errors': None}\n",
      "{'sample': <Sample: Ka'u Desert Trail Basalt_kd_1919_8b_abraded_back_TANAGER>, 'filename': '../TANAGER-Ingest/output/2024_06_05_Kristiana_forSammy_KD_1919_8b_ABRADED/kd_1919_8b_abraded_515.csv', 'warnings': [], 'errors': None}\n",
      "{'sample': <Sample: Ka'u Desert Trail Basalt_kd_1919_8b_abraded_v.fwd_TANAGER>, 'filename': '../TANAGER-Ingest/output/2024_06_05_Kristiana_forSammy_KD_1919_8b_ABRADED/kd_1919_8b_abraded_535.csv', 'warnings': [], 'errors': None}\n",
      "{'sample': <Sample: Dry Falls Basalt_df-18-004a_fwd_TANAGER>, 'filename': '../TANAGER-Ingest/output/2024_06_21_KL_forBrad_New_DFBasalts_ReCollectFull/df-18-004a_1283.csv', 'warnings': [], 'errors': None}\n",
      "{'sample': <Sample: Dry Falls Basalt_df-18-004a_spec_TANAGER>, 'filename': '../TANAGER-Ingest/output/2024_06_21_KL_forBrad_New_DFBasalts_ReCollectFull/df-18-004a_1311.csv', 'warnings': [], 'errors': None}\n",
      "{'sample': <Sample: Dry Falls Basalt_df-18-004a_std_TANAGER>, 'filename': '../TANAGER-Ingest/output/2024_06_21_KL_forBrad_New_DFBasalts_ReCollectFull/df-18-004a_1363.csv', 'warnings': [], 'errors': None}\n",
      "{'sample': <Sample: Dry Falls Basalt_df-18-004a_back_TANAGER>, 'filename': '../TANAGER-Ingest/output/2024_06_21_KL_forBrad_New_DFBasalts_ReCollectFull/df-18-004a_1443.csv', 'warnings': [], 'errors': None}\n",
      "{'sample': <Sample: Dry Falls Basalt_df-18-004a_v.fwd_TANAGER>, 'filename': '../TANAGER-Ingest/output/2024_06_21_KL_forBrad_New_DFBasalts_ReCollectFull/df-18-004a_1499.csv', 'warnings': [], 'errors': None}\n",
      "{'sample': <Sample: Dry Falls Basalt_df-18-004c_fwd_TANAGER>, 'filename': '../TANAGER-Ingest/output/2024_06_21_KL_forBrad_New_DFBasalts_ReCollectFull/df-18-004c_1284.csv', 'warnings': [], 'errors': None}\n",
      "{'sample': <Sample: Dry Falls Basalt_df-18-004c_spec_TANAGER>, 'filename': '../TANAGER-Ingest/output/2024_06_21_KL_forBrad_New_DFBasalts_ReCollectFull/df-18-004c_1312.csv', 'warnings': [], 'errors': None}\n",
      "{'sample': <Sample: Dry Falls Basalt_df-18-004c_std_TANAGER>, 'filename': '../TANAGER-Ingest/output/2024_06_21_KL_forBrad_New_DFBasalts_ReCollectFull/df-18-004c_1364.csv', 'warnings': [], 'errors': None}\n",
      "{'sample': <Sample: Dry Falls Basalt_df-18-004c_back_TANAGER>, 'filename': '../TANAGER-Ingest/output/2024_06_21_KL_forBrad_New_DFBasalts_ReCollectFull/df-18-004c_1444.csv', 'warnings': [], 'errors': None}\n",
      "{'sample': <Sample: Dry Falls Basalt_df-18-004c_v.fwd_TANAGER>, 'filename': '../TANAGER-Ingest/output/2024_06_21_KL_forBrad_New_DFBasalts_ReCollectFull/df-18-004c_1500.csv', 'warnings': [], 'errors': None}\n",
      "{'sample': <Sample: Dry Falls Basalt_df-18-005a_fwd_TANAGER>, 'filename': '../TANAGER-Ingest/output/2024_06_21_KL_forBrad_New_DFBasalts_ReCollectFull/df-18-005a_1285.csv', 'warnings': [], 'errors': None}\n",
      "{'sample': <Sample: Dry Falls Basalt_df-18-005a_spec_TANAGER>, 'filename': '../TANAGER-Ingest/output/2024_06_21_KL_forBrad_New_DFBasalts_ReCollectFull/df-18-005a_1313.csv', 'warnings': [], 'errors': None}\n",
      "{'sample': <Sample: Dry Falls Basalt_df-18-005a_std_TANAGER>, 'filename': '../TANAGER-Ingest/output/2024_06_21_KL_forBrad_New_DFBasalts_ReCollectFull/df-18-005a_1365.csv', 'warnings': [], 'errors': None}\n",
      "{'sample': <Sample: Dry Falls Basalt_df-18-005a_back_TANAGER>, 'filename': '../TANAGER-Ingest/output/2024_06_21_KL_forBrad_New_DFBasalts_ReCollectFull/df-18-005a_1445.csv', 'warnings': [], 'errors': None}\n",
      "{'sample': <Sample: Dry Falls Basalt_df-18-005a_v.fwd_TANAGER>, 'filename': '../TANAGER-Ingest/output/2024_06_21_KL_forBrad_New_DFBasalts_ReCollectFull/df-18-005a_1501.csv', 'warnings': [], 'errors': None}\n",
      "{'sample': <Sample: _blackcurtains_bungeecovered7_spec_TANAGER>, 'filename': '../TANAGER-Ingest/output/2024_06_21_Kristiana_BlackCurtains_DoubleLayer_BungeeCovered/blackcurtains_bungeecovered7_4.csv', 'warnings': [], 'errors': None}\n",
      "{'sample': <Sample: _blackcurtains_bungeecovered7_std_TANAGER>, 'filename': '../TANAGER-Ingest/output/2024_06_21_Kristiana_BlackCurtains_DoubleLayer_BungeeCovered/blackcurtains_bungeecovered7_6.csv', 'warnings': [], 'errors': None}\n",
      "{'sample': <Sample: Dry Falls Basalt_df_exterior_bulk_TANAGER>, 'filename': '../TANAGER-Ingest/output/2024_11_08_SSWsamples_BulkPowders_InteriorExterior/df_exterior_bulk_13.csv', 'warnings': [], 'errors': None}\n",
      "{'sample': <Sample: Dry Falls Basalt_df_exterior_bulk_TANAGER>, 'filename': '../TANAGER-Ingest/output/2024_11_08_SSWsamples_BulkPowders_InteriorExterior/df_exterior_bulk_14.csv', 'warnings': [], 'errors': None}\n",
      "{'sample': <Sample: Dry Falls Basalt_df_interior_bulk_TANAGER>, 'filename': '../TANAGER-Ingest/output/2024_11_08_SSWsamples_BulkPowders_InteriorExterior/df_interior_bulk_5.csv', 'warnings': [], 'errors': None}\n",
      "{'sample': <Sample: Frenchman Coulee Basalt_fc_exterior_bulk_TANAGER>, 'filename': '../TANAGER-Ingest/output/2024_11_08_SSWsamples_BulkPowders_InteriorExterior/fc_exterior_bulk_11.csv', 'warnings': [], 'errors': None}\n",
      "{'sample': <Sample: Frenchman Coulee Basalt_fc_exterior_bulk_TANAGER>, 'filename': '../TANAGER-Ingest/output/2024_11_08_SSWsamples_BulkPowders_InteriorExterior/fc_exterior_bulk_12.csv', 'warnings': [], 'errors': None}\n",
      "{'sample': <Sample: Frenchman Coulee Basalt_fc_interior_bulk_TANAGER>, 'filename': '../TANAGER-Ingest/output/2024_11_08_SSWsamples_BulkPowders_InteriorExterior/fc_interior_bulk_3.csv', 'warnings': [], 'errors': None}\n",
      "{'sample': <Sample: Table Mountain Andesite_tm_exterior_bulk_TANAGER>, 'filename': '../TANAGER-Ingest/output/2024_11_08_SSWsamples_BulkPowders_InteriorExterior/tm_exterior_bulk_15.csv', 'warnings': [], 'errors': None}\n",
      "{'sample': <Sample: Table Mountain Andesite_tm_exterior_bulk_TANAGER>, 'filename': '../TANAGER-Ingest/output/2024_11_08_SSWsamples_BulkPowders_InteriorExterior/tm_exterior_bulk_16.csv', 'warnings': [], 'errors': None}\n"
     ]
    },
    {
     "name": "stdout",
     "output_type": "stream",
     "text": [
      "{'sample': <Sample: Table Mountain Andesite_tm_interior_bulk_TANAGER>, 'filename': '../TANAGER-Ingest/output/2024_11_08_SSWsamples_BulkPowders_InteriorExterior/tm_interior_bulk_7.csv', 'warnings': [], 'errors': None}\n",
      "{'sample': <Sample: Twin Sisters Dunite_ts_exterior_bulk_TANAGER>, 'filename': '../TANAGER-Ingest/output/2024_11_08_SSWsamples_BulkPowders_InteriorExterior/ts_exterior_bulk_17.csv', 'warnings': [], 'errors': None}\n",
      "{'sample': <Sample: Twin Sisters Dunite_ts_exterior_bulk_TANAGER>, 'filename': '../TANAGER-Ingest/output/2024_11_08_SSWsamples_BulkPowders_InteriorExterior/ts_exterior_bulk_18.csv', 'warnings': [], 'errors': None}\n",
      "{'sample': <Sample: Twin Sisters Dunite_ts_interior_bulk_TANAGER>, 'filename': '../TANAGER-Ingest/output/2024_11_08_SSWsamples_BulkPowders_InteriorExterior/ts_interior_bulk_9.csv', 'warnings': [], 'errors': None}\n",
      "{'sample': <Sample: Twin Sisters Dunite_ts_interior_bulk_actual_TANAGER>, 'filename': '../TANAGER-Ingest/output/2024_11_08_SSWsamples_BulkPowders_InteriorExterior/ts_interior_bulk_actual_10.csv', 'warnings': [], 'errors': None}\n",
      "{'sample': <Sample: Dry Falls Basalt_df-18-003-a_TANAGER>, 'filename': '../TANAGER-Ingest/output/2024_11_26_SSW_forSpectralLibrary_slabs/df-18-003-a_28.csv', 'warnings': [], 'errors': None}\n",
      "{'sample': <Sample: Dry Falls Basalt_df-18-003-int_TANAGER>, 'filename': '../TANAGER-Ingest/output/2024_11_26_SSW_forSpectralLibrary_slabs/df-18-003-int_26.csv', 'warnings': [], 'errors': None}\n",
      "{'sample': <Sample: Dry Falls Basalt_df-18-004-a_TANAGER>, 'filename': '../TANAGER-Ingest/output/2024_11_26_SSW_forSpectralLibrary_slabs/df-18-004-a_47.csv', 'warnings': [], 'errors': None}\n",
      "{'sample': <Sample: Dry Falls Basalt_df-18-004-c_TANAGER>, 'filename': '../TANAGER-Ingest/output/2024_11_26_SSW_forSpectralLibrary_slabs/df-18-004-c_51.csv', 'warnings': [], 'errors': None}\n",
      "{'sample': <Sample: Dry Falls Basalt_df-18-005-a_TANAGER>, 'filename': '../TANAGER-Ingest/output/2024_11_26_SSW_forSpectralLibrary_slabs/df-18-005-a_49.csv', 'warnings': [], 'errors': None}\n",
      "{'sample': <Sample: Frenchman Coulee Basalt_fc-18-005_TANAGER>, 'filename': '../TANAGER-Ingest/output/2024_11_26_SSW_forSpectralLibrary_slabs/fc-18-005_30.csv', 'warnings': [], 'errors': None}\n",
      "{'sample': <Sample: Frenchman Coulee Basalt_fc-18-007_TANAGER>, 'filename': '../TANAGER-Ingest/output/2024_11_26_SSW_forSpectralLibrary_slabs/fc-18-007_32.csv', 'warnings': [], 'errors': None}\n",
      "{'sample': <Sample: Frenchman Coulee Basalt_fc-18-008_TANAGER>, 'filename': '../TANAGER-Ingest/output/2024_11_26_SSW_forSpectralLibrary_slabs/fc-18-008_34.csv', 'warnings': [], 'errors': None}\n",
      "{'sample': <Sample: Table Mountain Andesite_tm-2-a_TANAGER>, 'filename': '../TANAGER-Ingest/output/2024_11_26_SSW_forSpectralLibrary_slabs/tm-2-a_39.csv', 'warnings': [], 'errors': None}\n",
      "{'sample': <Sample: Table Mountain Andesite_tm-2-b_TANAGER>, 'filename': '../TANAGER-Ingest/output/2024_11_26_SSW_forSpectralLibrary_slabs/tm-2-b_37.csv', 'warnings': [], 'errors': None}\n",
      "{'sample': <Sample: Table Mountain Andesite_tm-3_TANAGER>, 'filename': '../TANAGER-Ingest/output/2024_11_26_SSW_forSpectralLibrary_slabs/tm-3_41.csv', 'warnings': [], 'errors': None}\n",
      "{'sample': <Sample: Table Mountain Andesite_tm-4_TANAGER>, 'filename': '../TANAGER-Ingest/output/2024_11_26_SSW_forSpectralLibrary_slabs/tm-4_43.csv', 'warnings': [], 'errors': None}\n",
      "{'sample': <Sample: Table Mountain Andesite_tm-6_TANAGER>, 'filename': '../TANAGER-Ingest/output/2024_11_26_SSW_forSpectralLibrary_slabs/tm-6_45.csv', 'warnings': [], 'errors': None}\n",
      "{'sample': <Sample: Twin Sisters Dunite_ts-20-01-5-a_TANAGER>, 'filename': '../TANAGER-Ingest/output/2024_11_26_SSW_forSpectralLibrary_slabs/ts-20-01-5-a_16.csv', 'warnings': [], 'errors': None}\n",
      "{'sample': <Sample: Twin Sisters Dunite_ts-20-01-5-b_TANAGER>, 'filename': '../TANAGER-Ingest/output/2024_11_26_SSW_forSpectralLibrary_slabs/ts-20-01-5-b_18.csv', 'warnings': [], 'errors': None}\n",
      "{'sample': <Sample: Twin Sisters Dunite_ts-20-02-3_TANAGER>, 'filename': '../TANAGER-Ingest/output/2024_11_26_SSW_forSpectralLibrary_slabs/ts-20-02-3_9.csv', 'warnings': [], 'errors': None}\n",
      "{'sample': <Sample: Twin Sisters Dunite_ts-20-03_TANAGER>, 'filename': '../TANAGER-Ingest/output/2024_11_26_SSW_forSpectralLibrary_slabs/ts-20-03_14.csv', 'warnings': [], 'errors': None}\n",
      "{'sample': <Sample: Twin Sisters Dunite_ts-20-05_TANAGER>, 'filename': '../TANAGER-Ingest/output/2024_11_26_SSW_forSpectralLibrary_slabs/ts-20-05_5.csv', 'warnings': [], 'errors': None}\n",
      "{'sample': <Sample: Twin Sisters Dunite_ts-20-13-3_TANAGER>, 'filename': '../TANAGER-Ingest/output/2024_11_26_SSW_forSpectralLibrary_slabs/ts-20-13-3_11.csv', 'warnings': [], 'errors': None}\n",
      "{'sample': <Sample: Twin Sisters Dunite_ts-20-19-a_TANAGER>, 'filename': '../TANAGER-Ingest/output/2024_11_26_SSW_forSpectralLibrary_slabs/ts-20-19-a_21.csv', 'warnings': [], 'errors': None}\n",
      "{'sample': <Sample: Twin Sisters Dunite_ts-20-19-b_TANAGER>, 'filename': '../TANAGER-Ingest/output/2024_11_26_SSW_forSpectralLibrary_slabs/ts-20-19-b_23.csv', 'warnings': [], 'errors': None}\n",
      "{'sample': <Sample: Twin Sisters Dunite_ts-20-26_TANAGER>, 'filename': '../TANAGER-Ingest/output/2024_11_26_SSW_forSpectralLibrary_slabs/ts-20-26_7.csv', 'warnings': [], 'errors': None}\n",
      "{'sample': <Sample: Twin Sisters Dunite_ts-20-28_TANAGER>, 'filename': '../TANAGER-Ingest/output/2024_11_26_SSW_forSpectralLibrary_slabs/ts-20-28_3.csv', 'warnings': [], 'errors': None}\n",
      "{'sample': <Sample: Frenchman Coulee Basalt_fc-18-005-int_std_TANAGER>, 'filename': '../TANAGER-Ingest/output/2024_12_27_SSW_FC-18-005_polished_interior/fc-18-005-int_2.csv', 'warnings': [], 'errors': None}\n",
      "{'sample': <Sample: Dry Falls Basalt_df_18_001_b_tray006_TANAGER>, 'filename': '../TANAGER-Ingest/output/2025_01_02_SSW_SpectralLibrary_ProbeOnly/df_18_001_b_tray006_24.csv', 'warnings': [], 'errors': None}\n",
      "{'sample': <Sample: Dry Falls Basalt_df_18_002_a_tray001_TANAGER>, 'filename': '../TANAGER-Ingest/output/2025_01_02_SSW_SpectralLibrary_ProbeOnly/df_18_002_a_tray001_3.csv', 'warnings': [], 'errors': None}\n",
      "{'sample': <Sample: Dry Falls Basalt_df_18_004_tray004_TANAGER>, 'filename': '../TANAGER-Ingest/output/2025_01_02_SSW_SpectralLibrary_ProbeOnly/df_18_004_tray004_13.csv', 'warnings': [], 'errors': None}\n",
      "{'sample': <Sample: Dry Falls Basalt_df_18_008_a_tray004_TANAGER>, 'filename': '../TANAGER-Ingest/output/2025_01_02_SSW_SpectralLibrary_ProbeOnly/df_18_008_a_tray004_15.csv', 'warnings': [], 'errors': None}\n",
      "{'sample': <Sample: Dry Falls Basalt_df_18_009_tray004_TANAGER>, 'filename': '../TANAGER-Ingest/output/2025_01_02_SSW_SpectralLibrary_ProbeOnly/df_18_009_tray004_17.csv', 'warnings': [], 'errors': None}\n",
      "{'sample': <Sample: Frenchman Coulee Basalt_fc_18_009_a_tray006_TANAGER>, 'filename': '../TANAGER-Ingest/output/2025_01_02_SSW_SpectralLibrary_ProbeOnly/fc_18_009_a_tray006_20.csv', 'warnings': [], 'errors': None}\n",
      "{'sample': <Sample: Frenchman Coulee Basalt_fc_18_010_a_tray003_TANAGER>, 'filename': '../TANAGER-Ingest/output/2025_01_02_SSW_SpectralLibrary_ProbeOnly/fc_18_010_a_tray003_5.csv', 'warnings': [], 'errors': None}\n",
      "{'sample': <Sample: Columbia River Flood Basalts_unknowncrb_18_001_tray003_TANAGER>, 'filename': '../TANAGER-Ingest/output/2025_01_02_SSW_SpectralLibrary_ProbeOnly/unknowncrb_18_001_tray003_7.csv', 'warnings': [], 'errors': None}\n",
      "{'sample': <Sample: Columbia River Flood Basalts_unknowncrb_18_002_a_tray003_TANAGER>, 'filename': '../TANAGER-Ingest/output/2025_01_02_SSW_SpectralLibrary_ProbeOnly/unknowncrb_18_002_a_tray003_9.csv', 'warnings': [], 'errors': None}\n",
      "{'sample': <Sample: Columbia River Flood Basalts_unknowncrb_18_002_b_tray003_TANAGER>, 'filename': '../TANAGER-Ingest/output/2025_01_02_SSW_SpectralLibrary_ProbeOnly/unknowncrb_18_002_b_tray003_11.csv', 'warnings': [], 'errors': None}\n",
      "{'sample': <Sample: Columbia River Flood Basalts_unknowncrb_18_003_tray006_TANAGER>, 'filename': '../TANAGER-Ingest/output/2025_01_02_SSW_SpectralLibrary_ProbeOnly/unknowncrb_18_003_tray006_22.csv', 'warnings': [], 'errors': None}\n",
      "{'sample': <Sample: _bad_TANAGER>, 'filename': '../TANAGER-Ingest/output/2025_07_02_SSW_SpectralLibrary_ProbeOnly_cont/bad_2.csv', 'warnings': [], 'errors': None}\n"
     ]
    },
    {
     "name": "stdout",
     "output_type": "stream",
     "text": [
      "{'sample': <Sample: Dry Falls Basalt_df_18_002_a_tray008_TANAGER>, 'filename': '../TANAGER-Ingest/output/2025_07_02_SSW_SpectralLibrary_ProbeOnly_cont/df_18_002_a_tray008_22.csv', 'warnings': [], 'errors': None}\n",
      "{'sample': <Sample: Dry Falls Basalt_df_18_002_b_tray008_TANAGER>, 'filename': '../TANAGER-Ingest/output/2025_07_02_SSW_SpectralLibrary_ProbeOnly_cont/df_18_002_b_tray008_24.csv', 'warnings': [], 'errors': None}\n",
      "{'sample': <Sample: Dry Falls Basalt_df_18_006_a_tray008_TANAGER>, 'filename': '../TANAGER-Ingest/output/2025_07_02_SSW_SpectralLibrary_ProbeOnly_cont/df_18_006_a_tray008_20.csv', 'warnings': [], 'errors': None}\n",
      "{'sample': <Sample: Dry Falls Basalt_df_18_009_b_tray008_TANAGER>, 'filename': '../TANAGER-Ingest/output/2025_07_02_SSW_SpectralLibrary_ProbeOnly_cont/df_18_009_b_tray008_26.csv', 'warnings': [], 'errors': None}\n",
      "{'sample': <Sample: Frenchman Coulee Basalt_fc_18_001_a_tray007_TANAGER>, 'filename': '../TANAGER-Ingest/output/2025_07_02_SSW_SpectralLibrary_ProbeOnly_cont/fc_18_001_a_tray007_16.csv', 'warnings': [], 'errors': None}\n",
      "{'sample': <Sample: Frenchman Coulee Basalt_fc_18_006_a_tray007_TANAGER>, 'filename': '../TANAGER-Ingest/output/2025_07_02_SSW_SpectralLibrary_ProbeOnly_cont/fc_18_006_a_tray007_18.csv', 'warnings': [], 'errors': None}\n",
      "{'sample': <Sample: Frenchman Coulee Basalt_fc_18_011_c_tray006_TANAGER>, 'filename': '../TANAGER-Ingest/output/2025_07_02_SSW_SpectralLibrary_ProbeOnly_cont/fc_18_011_c_tray006_4.csv', 'warnings': [], 'errors': None}\n",
      "{'sample': <Sample: Frenchman Coulee Basalt_fc_20_float001_tray010_TANAGER>, 'filename': '../TANAGER-Ingest/output/2025_07_02_SSW_SpectralLibrary_ProbeOnly_cont/fc_20_float001_tray010_30.csv', 'warnings': [], 'errors': None}\n",
      "{'sample': <Sample: Frenchman Coulee Basalt_fc_20_float002_tray010_TANAGER>, 'filename': '../TANAGER-Ingest/output/2025_07_02_SSW_SpectralLibrary_ProbeOnly_cont/fc_20_float002_tray010_32.csv', 'warnings': [], 'errors': None}\n",
      "{'sample': <Sample: Frenchman Coulee Basalt_fc_20_float003_tray010_TANAGER>, 'filename': '../TANAGER-Ingest/output/2025_07_02_SSW_SpectralLibrary_ProbeOnly_cont/fc_20_float003_tray010_34.csv', 'warnings': [], 'errors': None}\n",
      "{'sample': <Sample: Frenchman Coulee Basalt_fc_20_float004_tray010_TANAGER>, 'filename': '../TANAGER-Ingest/output/2025_07_02_SSW_SpectralLibrary_ProbeOnly_cont/fc_20_float004_tray010_36.csv', 'warnings': [], 'errors': None}\n",
      "{'sample': <Sample: Frenchman Coulee Basalt_fc_20_float005_a_tray010_TANAGER>, 'filename': '../TANAGER-Ingest/output/2025_07_02_SSW_SpectralLibrary_ProbeOnly_cont/fc_20_float005_a_tray010_39.csv', 'warnings': [], 'errors': None}\n",
      "{'sample': <Sample: Frenchman Coulee Basalt_fc_20_float005_b_tray010_TANAGER>, 'filename': '../TANAGER-Ingest/output/2025_07_02_SSW_SpectralLibrary_ProbeOnly_cont/fc_20_float005_b_tray010_41.csv', 'warnings': [], 'errors': None}\n",
      "{'sample': <Sample: Frenchman Coulee Basalt_fc_20_float006_a_tray010_TANAGER>, 'filename': '../TANAGER-Ingest/output/2025_07_02_SSW_SpectralLibrary_ProbeOnly_cont/fc_20_float006_a_tray010_43.csv', 'warnings': [], 'errors': None}\n",
      "{'sample': <Sample: Frenchman Coulee Basalt_fc_20_float006_b_tray010_TANAGER>, 'filename': '../TANAGER-Ingest/output/2025_07_02_SSW_SpectralLibrary_ProbeOnly_cont/fc_20_float006_b_tray010_45.csv', 'warnings': [], 'errors': None}\n",
      "{'sample': <Sample: Frenchman Coulee Basalt_fc_20_float006_c_tray010_TANAGER>, 'filename': '../TANAGER-Ingest/output/2025_07_02_SSW_SpectralLibrary_ProbeOnly_cont/fc_20_float006_c_tray010_49.csv', 'warnings': [], 'errors': None}\n",
      "{'sample': <Sample: Frenchman Coulee Basalt_fc_20_float006_d_tray010_TANAGER>, 'filename': '../TANAGER-Ingest/output/2025_07_02_SSW_SpectralLibrary_ProbeOnly_cont/fc_20_float006_d_tray010_47.csv', 'warnings': [], 'errors': None}\n",
      "{'sample': <Sample: Frenchman Coulee Basalt_fc_20_float007_a_tray010_TANAGER>, 'filename': '../TANAGER-Ingest/output/2025_07_02_SSW_SpectralLibrary_ProbeOnly_cont/fc_20_float007_a_tray010_52.csv', 'warnings': [], 'errors': None}\n",
      "{'sample': <Sample: Frenchman Coulee Basalt_fc_20_float007_b_tray010_TANAGER>, 'filename': '../TANAGER-Ingest/output/2025_07_02_SSW_SpectralLibrary_ProbeOnly_cont/fc_20_float007_b_tray010_54.csv', 'warnings': [], 'errors': None}\n",
      "{'sample': <Sample: Frenchman Coulee Basalt_fc_20_float008_a_tray010_TANAGER>, 'filename': '../TANAGER-Ingest/output/2025_07_02_SSW_SpectralLibrary_ProbeOnly_cont/fc_20_float008_a_tray010_56.csv', 'warnings': [], 'errors': None}\n",
      "{'sample': <Sample: Frenchman Coulee Basalt_fc_20_float008_b_tray010_TANAGER>, 'filename': '../TANAGER-Ingest/output/2025_07_02_SSW_SpectralLibrary_ProbeOnly_cont/fc_20_float008_b_tray010_58.csv', 'warnings': [], 'errors': None}\n",
      "{'sample': <Sample: Frenchman Coulee Basalt_fc_20_float009_a_tray011_TANAGER>, 'filename': '../TANAGER-Ingest/output/2025_07_02_SSW_SpectralLibrary_ProbeOnly_cont/fc_20_float009_a_tray011_61.csv', 'warnings': [], 'errors': None}\n",
      "{'sample': <Sample: Frenchman Coulee Basalt_fc_20_float009_b_tray011_TANAGER>, 'filename': '../TANAGER-Ingest/output/2025_07_02_SSW_SpectralLibrary_ProbeOnly_cont/fc_20_float009_b_tray011_63.csv', 'warnings': [], 'errors': None}\n",
      "{'sample': <Sample: Frenchman Coulee Basalt_fc_20_float010_tray011_TANAGER>, 'filename': '../TANAGER-Ingest/output/2025_07_02_SSW_SpectralLibrary_ProbeOnly_cont/fc_20_float010_tray011_65.csv', 'warnings': [], 'errors': None}\n",
      "{'sample': <Sample: Frenchman Coulee Basalt_fc_20_float011_tray011_TANAGER>, 'filename': '../TANAGER-Ingest/output/2025_07_02_SSW_SpectralLibrary_ProbeOnly_cont/fc_20_float011_tray011_67.csv', 'warnings': [], 'errors': None}\n",
      "{'sample': <Sample: Frenchman Coulee Basalt_fc_20_float012_a_tray011_TANAGER>, 'filename': '../TANAGER-Ingest/output/2025_07_02_SSW_SpectralLibrary_ProbeOnly_cont/fc_20_float012_a_tray011_69.csv', 'warnings': [], 'errors': None}\n",
      "{'sample': <Sample: Frenchman Coulee Basalt_fc_20_float012_b_tray011_TANAGER>, 'filename': '../TANAGER-Ingest/output/2025_07_02_SSW_SpectralLibrary_ProbeOnly_cont/fc_20_float012_b_tray011_71.csv', 'warnings': [], 'errors': None}\n",
      "{'sample': <Sample: Frenchman Coulee Basalt_fc_20_float013_tray011_TANAGER>, 'filename': '../TANAGER-Ingest/output/2025_07_02_SSW_SpectralLibrary_ProbeOnly_cont/fc_20_float013_tray011_73.csv', 'warnings': [], 'errors': None}\n",
      "{'sample': <Sample: Frenchman Coulee Basalt_fc_20_float014_tray011_TANAGER>, 'filename': '../TANAGER-Ingest/output/2025_07_02_SSW_SpectralLibrary_ProbeOnly_cont/fc_20_float014_tray011_75.csv', 'warnings': [], 'errors': None}\n",
      "{'sample': <Sample: Frenchman Coulee Basalt_fc_20_float015_a_tray011_TANAGER>, 'filename': '../TANAGER-Ingest/output/2025_07_02_SSW_SpectralLibrary_ProbeOnly_cont/fc_20_float015_a_tray011_77.csv', 'warnings': [], 'errors': None}\n",
      "{'sample': <Sample: Frenchman Coulee Basalt_fc_20_float015_b_tray011_TANAGER>, 'filename': '../TANAGER-Ingest/output/2025_07_02_SSW_SpectralLibrary_ProbeOnly_cont/fc_20_float015_b_tray011_79.csv', 'warnings': [], 'errors': None}\n",
      "{'sample': <Sample: Frenchman Coulee Basalt_fc_20_float016_a_tray011_TANAGER>, 'filename': '../TANAGER-Ingest/output/2025_07_02_SSW_SpectralLibrary_ProbeOnly_cont/fc_20_float016_a_tray011_81.csv', 'warnings': [], 'errors': None}\n",
      "{'sample': <Sample: Frenchman Coulee Basalt_fc_20_float016_b_tray011_TANAGER>, 'filename': '../TANAGER-Ingest/output/2025_07_02_SSW_SpectralLibrary_ProbeOnly_cont/fc_20_float016_b_tray011_83.csv', 'warnings': [], 'errors': None}\n",
      "{'sample': <Sample: Frenchman Coulee Basalt_fc_20_float017_tray011_TANAGER>, 'filename': '../TANAGER-Ingest/output/2025_07_02_SSW_SpectralLibrary_ProbeOnly_cont/fc_20_float017_tray011_87.csv', 'warnings': [], 'errors': None}\n",
      "{'sample': <Sample: Frenchman Coulee Basalt_fc_20_float018_a_tray011_TANAGER>, 'filename': '../TANAGER-Ingest/output/2025_07_02_SSW_SpectralLibrary_ProbeOnly_cont/fc_20_float018_a_tray011_89.csv', 'warnings': [], 'errors': None}\n",
      "{'sample': <Sample: Frenchman Coulee Basalt_fc_20_float018_b_tray011_TANAGER>, 'filename': '../TANAGER-Ingest/output/2025_07_02_SSW_SpectralLibrary_ProbeOnly_cont/fc_20_float018_b_tray011_91.csv', 'warnings': [], 'errors': None}\n"
     ]
    },
    {
     "name": "stdout",
     "output_type": "stream",
     "text": [
      "{'sample': <Sample: Frenchman Coulee Basalt_fc_20_float019_a_tray011_TANAGER>, 'filename': '../TANAGER-Ingest/output/2025_07_02_SSW_SpectralLibrary_ProbeOnly_cont/fc_20_float019_a_tray011_93.csv', 'warnings': [], 'errors': None}\n",
      "{'sample': <Sample: Frenchman Coulee Basalt_fc_20_float019_b_tray011_TANAGER>, 'filename': '../TANAGER-Ingest/output/2025_07_02_SSW_SpectralLibrary_ProbeOnly_cont/fc_20_float019_b_tray011_95.csv', 'warnings': [], 'errors': None}\n",
      "{'sample': <Sample: Columbia River Flood Basalts_unknowncrb_18_003_a_tray006_TANAGER>, 'filename': '../TANAGER-Ingest/output/2025_07_02_SSW_SpectralLibrary_ProbeOnly_cont/unknowncrb_18_003_a_tray006_6.csv', 'warnings': [], 'errors': None}\n",
      "{'sample': <Sample: Columbia River Flood Basalts_unknowncrb_18_003_b_tray006_TANAGER>, 'filename': '../TANAGER-Ingest/output/2025_07_02_SSW_SpectralLibrary_ProbeOnly_cont/unknowncrb_18_003_b_tray006_8.csv', 'warnings': [], 'errors': None}\n",
      "{'sample': <Sample: Columbia River Flood Basalts_unknowncrb_18_004_a_tray006_TANAGER>, 'filename': '../TANAGER-Ingest/output/2025_07_02_SSW_SpectralLibrary_ProbeOnly_cont/unknowncrb_18_004_a_tray006_11.csv', 'warnings': [], 'errors': None}\n",
      "{'sample': <Sample: Columbia River Flood Basalts_unknowncrb_18_005_tray006_TANAGER>, 'filename': '../TANAGER-Ingest/output/2025_07_02_SSW_SpectralLibrary_ProbeOnly_cont/unknowncrb_18_005_tray006_13.csv', 'warnings': [], 'errors': None}\n",
      "{'sample': <Sample: _gr_19_03a_c_tray023_TANAGER>, 'filename': '../TANAGER-Ingest/output/2025_07_10_SSW_SpectralLibrary_ProbeOnly_cont2/gr_19_03a_c_tray023_60.csv', 'warnings': [], 'errors': None}\n",
      "{'sample': <Sample: _gr_19_03b_tray023_TANAGER>, 'filename': '../TANAGER-Ingest/output/2025_07_10_SSW_SpectralLibrary_ProbeOnly_cont2/gr_19_03b_tray023_62.csv', 'warnings': [], 'errors': None}\n",
      "{'sample': <Sample: _gr_19_04_a_tray023_TANAGER>, 'filename': '../TANAGER-Ingest/output/2025_07_10_SSW_SpectralLibrary_ProbeOnly_cont2/gr_19_04_a_tray023_56.csv', 'warnings': [], 'errors': None}\n",
      "{'sample': <Sample: _gr_19_04_b_tray023_TANAGER>, 'filename': '../TANAGER-Ingest/output/2025_07_10_SSW_SpectralLibrary_ProbeOnly_cont2/gr_19_04_b_tray023_58.csv', 'warnings': [], 'errors': None}\n",
      "{'sample': <Sample: _gr_sb1_19_01_a_tray027_TANAGER>, 'filename': '../TANAGER-Ingest/output/2025_07_10_SSW_SpectralLibrary_ProbeOnly_cont2/gr_sb1_19_01_a_tray027_91.csv', 'warnings': [], 'errors': None}\n",
      "{'sample': <Sample: _gr_sb1_19_01_b_tray027_TANAGER>, 'filename': '../TANAGER-Ingest/output/2025_07_10_SSW_SpectralLibrary_ProbeOnly_cont2/gr_sb1_19_01_b_tray027_93.csv', 'warnings': [], 'errors': None}\n",
      "{'sample': <Sample: _gr_sb1_19_02_a_tray027_TANAGER>, 'filename': '../TANAGER-Ingest/output/2025_07_10_SSW_SpectralLibrary_ProbeOnly_cont2/gr_sb1_19_02_a_tray027_95.csv', 'warnings': [], 'errors': None}\n",
      "{'sample': <Sample: _gr_sb1_19_02_b_tray027_TANAGER>, 'filename': '../TANAGER-Ingest/output/2025_07_10_SSW_SpectralLibrary_ProbeOnly_cont2/gr_sb1_19_02_b_tray027_97.csv', 'warnings': [], 'errors': None}\n",
      "{'sample': <Sample: _gr_sb1_19_03_b_tray027_TANAGER>, 'filename': '../TANAGER-Ingest/output/2025_07_10_SSW_SpectralLibrary_ProbeOnly_cont2/gr_sb1_19_03_b_tray027_99.csv', 'warnings': [], 'errors': None}\n",
      "{'sample': <Sample: _gr_sb2_19_1_a_tray026_TANAGER>, 'filename': '../TANAGER-Ingest/output/2025_07_10_SSW_SpectralLibrary_ProbeOnly_cont2/gr_sb2_19_1_a_tray026_79.csv', 'warnings': [], 'errors': None}\n",
      "{'sample': <Sample: _gr_sb2_19_1_d_tray026_TANAGER>, 'filename': '../TANAGER-Ingest/output/2025_07_10_SSW_SpectralLibrary_ProbeOnly_cont2/gr_sb2_19_1_d_tray026_81.csv', 'warnings': [], 'errors': None}\n",
      "{'sample': <Sample: _gr_sb2_19_2_a_tray026_TANAGER>, 'filename': '../TANAGER-Ingest/output/2025_07_10_SSW_SpectralLibrary_ProbeOnly_cont2/gr_sb2_19_2_a_tray026_83.csv', 'warnings': [], 'errors': None}\n",
      "{'sample': <Sample: _gr_sb2_19_2_b_tray026_TANAGER>, 'filename': '../TANAGER-Ingest/output/2025_07_10_SSW_SpectralLibrary_ProbeOnly_cont2/gr_sb2_19_2_b_tray026_85.csv', 'warnings': [], 'errors': None}\n",
      "{'sample': <Sample: _gr_sb2_19_3_c_tray026_TANAGER>, 'filename': '../TANAGER-Ingest/output/2025_07_10_SSW_SpectralLibrary_ProbeOnly_cont2/gr_sb2_19_3_c_tray026_87.csv', 'warnings': [], 'errors': None}\n",
      "{'sample': <Sample: _gr_su1_19_01_a_tray024_TANAGER>, 'filename': '../TANAGER-Ingest/output/2025_07_10_SSW_SpectralLibrary_ProbeOnly_cont2/gr_su1_19_01_a_tray024_64.csv', 'warnings': [], 'errors': None}\n",
      "{'sample': <Sample: _gr_su1_19_01_c_tray024_TANAGER>, 'filename': '../TANAGER-Ingest/output/2025_07_10_SSW_SpectralLibrary_ProbeOnly_cont2/gr_su1_19_01_c_tray024_66.csv', 'warnings': [], 'errors': None}\n",
      "{'sample': <Sample: _gr_su1_19_04a_a_tray024_TANAGER>, 'filename': '../TANAGER-Ingest/output/2025_07_10_SSW_SpectralLibrary_ProbeOnly_cont2/gr_su1_19_04a_a_tray024_68.csv', 'warnings': [], 'errors': None}\n",
      "{'sample': <Sample: _gr_su1_19_04b_a_tray024_TANAGER>, 'filename': '../TANAGER-Ingest/output/2025_07_10_SSW_SpectralLibrary_ProbeOnly_cont2/gr_su1_19_04b_a_tray024_72.csv', 'warnings': [], 'errors': None}\n",
      "{'sample': <Sample: _gr_su1_19_04b_b_tray024_TANAGER>, 'filename': '../TANAGER-Ingest/output/2025_07_10_SSW_SpectralLibrary_ProbeOnly_cont2/gr_su1_19_04b_b_tray024_70.csv', 'warnings': [], 'errors': None}\n",
      "{'sample': <Sample: _gr_su1_19_05_a_tray024_TANAGER>, 'filename': '../TANAGER-Ingest/output/2025_07_10_SSW_SpectralLibrary_ProbeOnly_cont2/gr_su1_19_05_a_tray024_74.csv', 'warnings': [], 'errors': None}\n",
      "{'sample': <Sample: _gr_su1_19_05_b_tray024_TANAGER>, 'filename': '../TANAGER-Ingest/output/2025_07_10_SSW_SpectralLibrary_ProbeOnly_cont2/gr_su1_19_05_b_tray024_76.csv', 'warnings': [], 'errors': None}\n",
      "{'sample': <Sample: _gr_su2_19_01_b_tray028_TANAGER>, 'filename': '../TANAGER-Ingest/output/2025_07_10_SSW_SpectralLibrary_ProbeOnly_cont2/gr_su2_19_01_b_tray028_101.csv', 'warnings': [], 'errors': None}\n",
      "{'sample': <Sample: _gr_su2_19_02_a_tray028_TANAGER>, 'filename': '../TANAGER-Ingest/output/2025_07_10_SSW_SpectralLibrary_ProbeOnly_cont2/gr_su2_19_02_a_tray028_103.csv', 'warnings': [], 'errors': None}\n",
      "{'sample': <Sample: Saddle Mountain_sm_a_19_02_a_tray014_TANAGER>, 'filename': '../TANAGER-Ingest/output/2025_07_10_SSW_SpectralLibrary_ProbeOnly_cont2/sm_a_19_02_a_tray014_14.csv', 'warnings': [], 'errors': None}\n",
      "{'sample': <Sample: Saddle Mountain_sm_a_19_02_b_tray014_TANAGER>, 'filename': '../TANAGER-Ingest/output/2025_07_10_SSW_SpectralLibrary_ProbeOnly_cont2/sm_a_19_02_b_tray014_16.csv', 'warnings': [], 'errors': None}\n",
      "{'sample': <Sample: Saddle Mountain_sm_a_19_02_c_tray014_TANAGER>, 'filename': '../TANAGER-Ingest/output/2025_07_10_SSW_SpectralLibrary_ProbeOnly_cont2/sm_a_19_02_c_tray014_18.csv', 'warnings': [], 'errors': None}\n",
      "{'sample': <Sample: Saddle Mountain_sm_a_19_03_a_tray015_TANAGER>, 'filename': '../TANAGER-Ingest/output/2025_07_10_SSW_SpectralLibrary_ProbeOnly_cont2/sm_a_19_03_a_tray015_31.csv', 'warnings': [], 'errors': None}\n",
      "{'sample': <Sample: Saddle Mountain_sm_a_19_04_a_tray019_TANAGER>, 'filename': '../TANAGER-Ingest/output/2025_07_10_SSW_SpectralLibrary_ProbeOnly_cont2/sm_a_19_04_a_tray019_49.csv', 'warnings': [], 'errors': None}\n",
      "{'sample': <Sample: Saddle Mountain_sm_a_19_04_b_tray019_TANAGER>, 'filename': '../TANAGER-Ingest/output/2025_07_10_SSW_SpectralLibrary_ProbeOnly_cont2/sm_a_19_04_b_tray019_51.csv', 'warnings': [], 'errors': None}\n",
      "{'sample': <Sample: Saddle Mountain_sm_a_19_06_tray019_TANAGER>, 'filename': '../TANAGER-Ingest/output/2025_07_10_SSW_SpectralLibrary_ProbeOnly_cont2/sm_a_19_06_tray019_53.csv', 'warnings': [], 'errors': None}\n",
      "{'sample': <Sample: Saddle Mountain_sm_p1_19_01_a_tray018_TANAGER>, 'filename': '../TANAGER-Ingest/output/2025_07_10_SSW_SpectralLibrary_ProbeOnly_cont2/sm_p1_19_01_a_tray018_46.csv', 'warnings': [], 'errors': None}\n",
      "{'sample': <Sample: Saddle Mountain_sm_p1_19_02_a_tray017_TANAGER>, 'filename': '../TANAGER-Ingest/output/2025_07_10_SSW_SpectralLibrary_ProbeOnly_cont2/sm_p1_19_02_a_tray017_38.csv', 'warnings': [], 'errors': None}\n",
      "{'sample': <Sample: Saddle Mountain_sm_p1_19_03_a_tray017_TANAGER>, 'filename': '../TANAGER-Ingest/output/2025_07_10_SSW_SpectralLibrary_ProbeOnly_cont2/sm_p1_19_03_a_tray017_40.csv', 'warnings': [], 'errors': None}\n"
     ]
    },
    {
     "name": "stdout",
     "output_type": "stream",
     "text": [
      "{'sample': <Sample: Saddle Mountain_sm_p1_19_03_b_tray017_TANAGER>, 'filename': '../TANAGER-Ingest/output/2025_07_10_SSW_SpectralLibrary_ProbeOnly_cont2/sm_p1_19_03_b_tray017_42.csv', 'warnings': [], 'errors': None}\n",
      "{'sample': <Sample: Saddle Mountain_sm_p1_19_05_b_tray017_TANAGER>, 'filename': '../TANAGER-Ingest/output/2025_07_10_SSW_SpectralLibrary_ProbeOnly_cont2/sm_p1_19_05_b_tray017_44.csv', 'warnings': [], 'errors': None}\n",
      "{'sample': <Sample: Saddle Mountain_sm_p1_19_07_a_tray016_TANAGER>, 'filename': '../TANAGER-Ingest/output/2025_07_10_SSW_SpectralLibrary_ProbeOnly_cont2/sm_p1_19_07_a_tray016_34.csv', 'warnings': [], 'errors': None}\n",
      "{'sample': <Sample: Saddle Mountain_sm_p1_19_08_a_tray016_TANAGER>, 'filename': '../TANAGER-Ingest/output/2025_07_10_SSW_SpectralLibrary_ProbeOnly_cont2/sm_p1_19_08_a_tray016_36.csv', 'warnings': [], 'errors': None}\n",
      "{'sample': <Sample: Saddle Mountain_sm_p2_19_02_a_tray014_TANAGER>, 'filename': '../TANAGER-Ingest/output/2025_07_10_SSW_SpectralLibrary_ProbeOnly_cont2/sm_p2_19_02_a_tray014_21.csv', 'warnings': [], 'errors': None}\n",
      "{'sample': <Sample: Saddle Mountain_sm_p2_19_02_b_tray014_TANAGER>, 'filename': '../TANAGER-Ingest/output/2025_07_10_SSW_SpectralLibrary_ProbeOnly_cont2/sm_p2_19_02_b_tray014_23.csv', 'warnings': [], 'errors': None}\n",
      "{'sample': <Sample: Saddle Mountain_sm_p2_19_03_tray014_TANAGER>, 'filename': '../TANAGER-Ingest/output/2025_07_10_SSW_SpectralLibrary_ProbeOnly_cont2/sm_p2_19_03_tray014_25.csv', 'warnings': [], 'errors': None}\n",
      "{'sample': <Sample: Saddle Mountain_sm_p2_19_04_a_tray014_TANAGER>, 'filename': '../TANAGER-Ingest/output/2025_07_10_SSW_SpectralLibrary_ProbeOnly_cont2/sm_p2_19_04_a_tray014_27.csv', 'warnings': [], 'errors': None}\n",
      "{'sample': <Sample: Saddle Mountain_sm_p2_19_04_b_tray014_TANAGER>, 'filename': '../TANAGER-Ingest/output/2025_07_10_SSW_SpectralLibrary_ProbeOnly_cont2/sm_p2_19_04_b_tray014_29.csv', 'warnings': [], 'errors': None}\n",
      "{'sample': <Sample: Saddle Mountain_sm_p2_19_05_tray013_TANAGER>, 'filename': '../TANAGER-Ingest/output/2025_07_10_SSW_SpectralLibrary_ProbeOnly_cont2/sm_p2_19_05_tray013_11.csv', 'warnings': [], 'errors': None}\n",
      "{'sample': <Sample: Saddle Mountain_sm_p2_19_07a_a_tray013_TANAGER>, 'filename': '../TANAGER-Ingest/output/2025_07_10_SSW_SpectralLibrary_ProbeOnly_cont2/sm_p2_19_07a_a_tray013_3.csv', 'warnings': [], 'errors': None}\n",
      "{'sample': <Sample: Saddle Mountain_sm_p2_19_07a_b_tray013_TANAGER>, 'filename': '../TANAGER-Ingest/output/2025_07_10_SSW_SpectralLibrary_ProbeOnly_cont2/sm_p2_19_07a_b_tray013_5.csv', 'warnings': [], 'errors': None}\n",
      "{'sample': <Sample: Saddle Mountain_sm_p2_19_07b_a_tray013_TANAGER>, 'filename': '../TANAGER-Ingest/output/2025_07_10_SSW_SpectralLibrary_ProbeOnly_cont2/sm_p2_19_07b_a_tray013_7.csv', 'warnings': [], 'errors': None}\n",
      "{'sample': <Sample: Saddle Mountain_sm_p2_19_07b_b_tray013_TANAGER>, 'filename': '../TANAGER-Ingest/output/2025_07_10_SSW_SpectralLibrary_ProbeOnly_cont2/sm_p2_19_07b_b_tray013_9.csv', 'warnings': [], 'errors': None}\n",
      "{'sample': <Sample: Twin Sisters Dunite_ts_20_04_4_tray041_TANAGER>, 'filename': '../TANAGER-Ingest/output/2025_07_10_SSW_SpectralLibrary_ProbeOnly_cont3/ts_20_04_4_tray041_9.csv', 'warnings': [], 'errors': None}\n",
      "{'sample': <Sample: Twin Sisters Dunite_ts_20_04_7_tray041_TANAGER>, 'filename': '../TANAGER-Ingest/output/2025_07_10_SSW_SpectralLibrary_ProbeOnly_cont3/ts_20_04_7_tray041_3.csv', 'warnings': [], 'errors': None}\n",
      "{'sample': <Sample: Twin Sisters Dunite_ts_20_04_8_tray041_TANAGER>, 'filename': '../TANAGER-Ingest/output/2025_07_10_SSW_SpectralLibrary_ProbeOnly_cont3/ts_20_04_8_tray041_5.csv', 'warnings': [], 'errors': None}\n",
      "{'sample': <Sample: Twin Sisters Dunite_ts_20_07_1_tray043_TANAGER>, 'filename': '../TANAGER-Ingest/output/2025_07_10_SSW_SpectralLibrary_ProbeOnly_cont3/ts_20_07_1_tray043_28.csv', 'warnings': [], 'errors': None}\n",
      "{'sample': <Sample: Twin Sisters Dunite_ts_20_07_2_a_tray043_TANAGER>, 'filename': '../TANAGER-Ingest/output/2025_07_10_SSW_SpectralLibrary_ProbeOnly_cont3/ts_20_07_2_a_tray043_30.csv', 'warnings': [], 'errors': None}\n",
      "{'sample': <Sample: Twin Sisters Dunite_ts_20_07_2_b_tray043_TANAGER>, 'filename': '../TANAGER-Ingest/output/2025_07_10_SSW_SpectralLibrary_ProbeOnly_cont3/ts_20_07_2_b_tray043_32.csv', 'warnings': [], 'errors': None}\n",
      "{'sample': <Sample: Twin Sisters Dunite_ts_20_09_1_a_tray043_TANAGER>, 'filename': '../TANAGER-Ingest/output/2025_07_10_SSW_SpectralLibrary_ProbeOnly_cont3/ts_20_09_1_a_tray043_35.csv', 'warnings': [], 'errors': None}\n",
      "{'sample': <Sample: Twin Sisters Dunite_ts_20_09_1_b_tray043_TANAGER>, 'filename': '../TANAGER-Ingest/output/2025_07_10_SSW_SpectralLibrary_ProbeOnly_cont3/ts_20_09_1_b_tray043_37.csv', 'warnings': [], 'errors': None}\n",
      "{'sample': <Sample: Twin Sisters Dunite_ts_20_09_2_tray043_TANAGER>, 'filename': '../TANAGER-Ingest/output/2025_07_10_SSW_SpectralLibrary_ProbeOnly_cont3/ts_20_09_2_tray043_39.csv', 'warnings': [], 'errors': None}\n",
      "{'sample': <Sample: Twin Sisters Dunite_ts_20_09_3_tray043_TANAGER>, 'filename': '../TANAGER-Ingest/output/2025_07_10_SSW_SpectralLibrary_ProbeOnly_cont3/ts_20_09_3_tray043_41.csv', 'warnings': [], 'errors': None}\n",
      "{'sample': <Sample: Twin Sisters Dunite_ts_20_09_5_tray043_TANAGER>, 'filename': '../TANAGER-Ingest/output/2025_07_10_SSW_SpectralLibrary_ProbeOnly_cont3/ts_20_09_5_tray043_43.csv', 'warnings': [], 'errors': None}\n",
      "{'sample': <Sample: Twin Sisters Dunite_ts_20_09_6_a_tray043_TANAGER>, 'filename': '../TANAGER-Ingest/output/2025_07_10_SSW_SpectralLibrary_ProbeOnly_cont3/ts_20_09_6_a_tray043_45.csv', 'warnings': [], 'errors': None}\n",
      "{'sample': <Sample: Twin Sisters Dunite_ts_20_09_6_b_tray043_TANAGER>, 'filename': '../TANAGER-Ingest/output/2025_07_10_SSW_SpectralLibrary_ProbeOnly_cont3/ts_20_09_6_b_tray043_47.csv', 'warnings': [], 'errors': None}\n",
      "{'sample': <Sample: Twin Sisters Dunite_ts_20_09_7_tray043_TANAGER>, 'filename': '../TANAGER-Ingest/output/2025_07_10_SSW_SpectralLibrary_ProbeOnly_cont3/ts_20_09_7_tray043_49.csv', 'warnings': [], 'errors': None}\n",
      "{'sample': <Sample: Twin Sisters Dunite_ts_20_11_2_tray041_TANAGER>, 'filename': '../TANAGER-Ingest/output/2025_07_10_SSW_SpectralLibrary_ProbeOnly_cont3/ts_20_11_2_tray041_11.csv', 'warnings': [], 'errors': None}\n",
      "{'sample': <Sample: Twin Sisters Dunite_ts_20_11_3_tray041_TANAGER>, 'filename': '../TANAGER-Ingest/output/2025_07_10_SSW_SpectralLibrary_ProbeOnly_cont3/ts_20_11_3_tray041_7.csv', 'warnings': [], 'errors': None}\n",
      "{'sample': <Sample: Twin Sisters Dunite_ts_20_18_tray043_TANAGER>, 'filename': '../TANAGER-Ingest/output/2025_07_10_SSW_SpectralLibrary_ProbeOnly_cont3/ts_20_18_tray043_53.csv', 'warnings': [], 'errors': None}\n",
      "{'sample': <Sample: Twin Sisters Dunite_ts_20_20_tray043_TANAGER>, 'filename': '../TANAGER-Ingest/output/2025_07_10_SSW_SpectralLibrary_ProbeOnly_cont3/ts_20_20_tray043_51.csv', 'warnings': [], 'errors': None}\n",
      "{'sample': <Sample: Twin Sisters Dunite_ts_20_24_1_a_tray042_TANAGER>, 'filename': '../TANAGER-Ingest/output/2025_07_10_SSW_SpectralLibrary_ProbeOnly_cont3/ts_20_24_1_a_tray042_19.csv', 'warnings': [], 'errors': None}\n",
      "{'sample': <Sample: Twin Sisters Dunite_ts_20_24_1_b_tray042_TANAGER>, 'filename': '../TANAGER-Ingest/output/2025_07_10_SSW_SpectralLibrary_ProbeOnly_cont3/ts_20_24_1_b_tray042_21.csv', 'warnings': [], 'errors': None}\n",
      "{'sample': <Sample: Twin Sisters Dunite_ts_20_24_2_a_tray042_TANAGER>, 'filename': '../TANAGER-Ingest/output/2025_07_10_SSW_SpectralLibrary_ProbeOnly_cont3/ts_20_24_2_a_tray042_13.csv', 'warnings': [], 'errors': None}\n",
      "{'sample': <Sample: Twin Sisters Dunite_ts_20_24_2_b_tray042_TANAGER>, 'filename': '../TANAGER-Ingest/output/2025_07_10_SSW_SpectralLibrary_ProbeOnly_cont3/ts_20_24_2_b_tray042_15.csv', 'warnings': [], 'errors': None}\n",
      "{'sample': <Sample: Twin Sisters Dunite_ts_20_24_2_c_tray042_TANAGER>, 'filename': '../TANAGER-Ingest/output/2025_07_10_SSW_SpectralLibrary_ProbeOnly_cont3/ts_20_24_2_c_tray042_17.csv', 'warnings': [], 'errors': None}\n",
      "{'sample': <Sample: Twin Sisters Dunite_ts_20_25_a_tray042_TANAGER>, 'filename': '../TANAGER-Ingest/output/2025_07_10_SSW_SpectralLibrary_ProbeOnly_cont3/ts_20_25_a_tray042_23.csv', 'warnings': [], 'errors': None}\n"
     ]
    },
    {
     "name": "stdout",
     "output_type": "stream",
     "text": [
      "{'sample': <Sample: Twin Sisters Dunite_ts_20_25_b_tray042_TANAGER>, 'filename': '../TANAGER-Ingest/output/2025_07_10_SSW_SpectralLibrary_ProbeOnly_cont3/ts_20_25_b_tray042_25.csv', 'warnings': [], 'errors': None}\n",
      "{'sample': <Sample: Dry Falls Basalt_df_18_003_b_tray050_TANAGER>, 'filename': '../TANAGER-Ingest/output/2025_07_10_SSW_SpectralLibrary_ProbeOnly_cont4/df_18_003_b_tray050_58.csv', 'warnings': [], 'errors': None}\n",
      "{'sample': <Sample: Frenchman Coulee Basalt_fc_18_005_a_tray050_TANAGER>, 'filename': '../TANAGER-Ingest/output/2025_07_10_SSW_SpectralLibrary_ProbeOnly_cont4/fc_18_005_a_tray050_54.csv', 'warnings': [], 'errors': None}\n",
      "{'sample': <Sample: Frenchman Coulee Basalt_fc_18_005_b_tray050_TANAGER>, 'filename': '../TANAGER-Ingest/output/2025_07_10_SSW_SpectralLibrary_ProbeOnly_cont4/fc_18_005_b_tray050_56.csv', 'warnings': [], 'errors': None}\n",
      "{'sample': <Sample: Frenchman Coulee Basalt_fc_18_005_c_tray050_TANAGER>, 'filename': '../TANAGER-Ingest/output/2025_07_10_SSW_SpectralLibrary_ProbeOnly_cont4/fc_18_005_c_tray050_75.csv', 'warnings': [], 'errors': None}\n",
      "{'sample': <Sample: Frenchman Coulee Basalt_fc_18_005_d_tray050_TANAGER>, 'filename': '../TANAGER-Ingest/output/2025_07_10_SSW_SpectralLibrary_ProbeOnly_cont4/fc_18_005_d_tray050_73.csv', 'warnings': [], 'errors': None}\n",
      "{'sample': <Sample: Frenchman Coulee Basalt_fc_18_007_a_tray050_TANAGER>, 'filename': '../TANAGER-Ingest/output/2025_07_10_SSW_SpectralLibrary_ProbeOnly_cont4/fc_18_007_a_tray050_60.csv', 'warnings': [], 'errors': None}\n",
      "{'sample': <Sample: Frenchman Coulee Basalt_fc_18_007_b_tray050_TANAGER>, 'filename': '../TANAGER-Ingest/output/2025_07_10_SSW_SpectralLibrary_ProbeOnly_cont4/fc_18_007_b_tray050_62.csv', 'warnings': [], 'errors': None}\n",
      "{'sample': <Sample: Frenchman Coulee Basalt_fc_18_007_c_tray050_TANAGER>, 'filename': '../TANAGER-Ingest/output/2025_07_10_SSW_SpectralLibrary_ProbeOnly_cont4/fc_18_007_c_tray050_64.csv', 'warnings': [], 'errors': None}\n",
      "{'sample': <Sample: Frenchman Coulee Basalt_fc_18_007_d_tray050_TANAGER>, 'filename': '../TANAGER-Ingest/output/2025_07_10_SSW_SpectralLibrary_ProbeOnly_cont4/fc_18_007_d_tray050_66.csv', 'warnings': [], 'errors': None}\n",
      "{'sample': <Sample: Frenchman Coulee Basalt_fc_18_007_e_tray050_TANAGER>, 'filename': '../TANAGER-Ingest/output/2025_07_10_SSW_SpectralLibrary_ProbeOnly_cont4/fc_18_007_e_tray050_69.csv', 'warnings': [], 'errors': None}\n",
      "{'sample': <Sample: Frenchman Coulee Basalt_fc_18_008_a_tray050_TANAGER>, 'filename': '../TANAGER-Ingest/output/2025_07_10_SSW_SpectralLibrary_ProbeOnly_cont4/fc_18_008_a_tray050_47.csv', 'warnings': [], 'errors': None}\n",
      "{'sample': <Sample: Frenchman Coulee Basalt_fc_18_008_b_tray050_TANAGER>, 'filename': '../TANAGER-Ingest/output/2025_07_10_SSW_SpectralLibrary_ProbeOnly_cont4/fc_18_008_b_tray050_50.csv', 'warnings': [], 'errors': None}\n",
      "{'sample': <Sample: Frenchman Coulee Basalt_fc_18_008_c_tray050_TANAGER>, 'filename': '../TANAGER-Ingest/output/2025_07_10_SSW_SpectralLibrary_ProbeOnly_cont4/fc_18_008_c_tray050_52.csv', 'warnings': [], 'errors': None}\n",
      "{'sample': <Sample: Frenchman Coulee Basalt_fc_18_unknown_tray050_TANAGER>, 'filename': '../TANAGER-Ingest/output/2025_07_10_SSW_SpectralLibrary_ProbeOnly_cont4/fc_18_unknown_tray050_77.csv', 'warnings': [], 'errors': None}\n",
      "{'sample': <Sample: Twin Sisters Dunite_ts_20_01_1_tray045_TANAGER>, 'filename': '../TANAGER-Ingest/output/2025_07_10_SSW_SpectralLibrary_ProbeOnly_cont4/ts_20_01_1_tray045_21.csv', 'warnings': [], 'errors': None}\n",
      "{'sample': <Sample: Twin Sisters Dunite_ts_20_01_2_tray045_TANAGER>, 'filename': '../TANAGER-Ingest/output/2025_07_10_SSW_SpectralLibrary_ProbeOnly_cont4/ts_20_01_2_tray045_24.csv', 'warnings': [], 'errors': None}\n",
      "{'sample': <Sample: Twin Sisters Dunite_ts_20_01_4_tray045_TANAGER>, 'filename': '../TANAGER-Ingest/output/2025_07_10_SSW_SpectralLibrary_ProbeOnly_cont4/ts_20_01_4_tray045_28.csv', 'warnings': [], 'errors': None}\n",
      "{'sample': <Sample: Twin Sisters Dunite_ts_20_01_5_a_tray049_TANAGER>, 'filename': '../TANAGER-Ingest/output/2025_07_10_SSW_SpectralLibrary_ProbeOnly_cont4/ts_20_01_5_a_tray049_42.csv', 'warnings': [], 'errors': None}\n",
      "{'sample': <Sample: Twin Sisters Dunite_ts_20_01_5_b_tray049_TANAGER>, 'filename': '../TANAGER-Ingest/output/2025_07_10_SSW_SpectralLibrary_ProbeOnly_cont4/ts_20_01_5_b_tray049_44.csv', 'warnings': [], 'errors': None}\n",
      "{'sample': <Sample: Twin Sisters Dunite_ts_20_02_7_tray049_TANAGER>, 'filename': '../TANAGER-Ingest/output/2025_07_10_SSW_SpectralLibrary_ProbeOnly_cont4/ts_20_02_7_tray049_40.csv', 'warnings': [], 'errors': None}\n",
      "{'sample': <Sample: Twin Sisters Dunite_ts_20_03_tray045_TANAGER>, 'filename': '../TANAGER-Ingest/output/2025_07_10_SSW_SpectralLibrary_ProbeOnly_cont4/ts_20_03_tray045_17.csv', 'warnings': [], 'errors': None}\n",
      "{'sample': <Sample: Twin Sisters Dunite_ts_20_03_tray045_TANAGER>, 'filename': '../TANAGER-Ingest/output/2025_07_10_SSW_SpectralLibrary_ProbeOnly_cont4/ts_20_03_tray045_26.csv', 'warnings': [], 'errors': None}\n",
      "{'sample': <Sample: Twin Sisters Dunite_ts_20_05_a_tray049_TANAGER>, 'filename': '../TANAGER-Ingest/output/2025_07_10_SSW_SpectralLibrary_ProbeOnly_cont4/ts_20_05_a_tray049_31.csv', 'warnings': [], 'errors': None}\n",
      "{'sample': <Sample: Twin Sisters Dunite_ts_20_05_b_tray049_TANAGER>, 'filename': '../TANAGER-Ingest/output/2025_07_10_SSW_SpectralLibrary_ProbeOnly_cont4/ts_20_05_b_tray049_33.csv', 'warnings': [], 'errors': None}\n",
      "{'sample': <Sample: Twin Sisters Dunite_ts_20_13_2_tray045_TANAGER>, 'filename': '../TANAGER-Ingest/output/2025_07_10_SSW_SpectralLibrary_ProbeOnly_cont4/ts_20_13_2_tray045_15.csv', 'warnings': [], 'errors': None}\n",
      "{'sample': <Sample: Twin Sisters Dunite_ts_20_13_3_tray049_TANAGER>, 'filename': '../TANAGER-Ingest/output/2025_07_10_SSW_SpectralLibrary_ProbeOnly_cont4/ts_20_13_3_tray049_34.csv', 'warnings': [], 'errors': None}\n",
      "{'sample': <Sample: Twin Sisters Dunite_ts_20_14_a_tray044_TANAGER>, 'filename': '../TANAGER-Ingest/output/2025_07_10_SSW_SpectralLibrary_ProbeOnly_cont4/ts_20_14_a_tray044_5.csv', 'warnings': [], 'errors': None}\n",
      "{'sample': <Sample: Twin Sisters Dunite_ts_20_14_b_tray044_TANAGER>, 'filename': '../TANAGER-Ingest/output/2025_07_10_SSW_SpectralLibrary_ProbeOnly_cont4/ts_20_14_b_tray044_7.csv', 'warnings': [], 'errors': None}\n",
      "{'sample': <Sample: Twin Sisters Dunite_ts_20_14_c_tray044_TANAGER>, 'filename': '../TANAGER-Ingest/output/2025_07_10_SSW_SpectralLibrary_ProbeOnly_cont4/ts_20_14_c_tray044_9.csv', 'warnings': [], 'errors': None}\n",
      "{'sample': <Sample: Twin Sisters Dunite_ts_20_17_tray044_TANAGER>, 'filename': '../TANAGER-Ingest/output/2025_07_10_SSW_SpectralLibrary_ProbeOnly_cont4/ts_20_17_tray044_13.csv', 'warnings': [], 'errors': None}\n",
      "{'sample': <Sample: Twin Sisters Dunite_ts_20_19_a_tray049_TANAGER>, 'filename': '../TANAGER-Ingest/output/2025_07_10_SSW_SpectralLibrary_ProbeOnly_cont4/ts_20_19_a_tray049_36.csv', 'warnings': [], 'errors': None}\n",
      "{'sample': <Sample: Twin Sisters Dunite_ts_20_19_b_tray049_TANAGER>, 'filename': '../TANAGER-Ingest/output/2025_07_10_SSW_SpectralLibrary_ProbeOnly_cont4/ts_20_19_b_tray049_38.csv', 'warnings': [], 'errors': None}\n",
      "{'sample': <Sample: Twin Sisters Dunite_ts_20_21_tray044_TANAGER>, 'filename': '../TANAGER-Ingest/output/2025_07_10_SSW_SpectralLibrary_ProbeOnly_cont4/ts_20_21_tray044_11.csv', 'warnings': [], 'errors': None}\n",
      "{'sample': <Sample: Twin Sisters Dunite_ts_20_23_1_tray044_TANAGER>, 'filename': '../TANAGER-Ingest/output/2025_07_10_SSW_SpectralLibrary_ProbeOnly_cont4/ts_20_23_1_tray044_3.csv', 'warnings': [], 'errors': None}\n",
      "finished\n"
     ]
    }
   ],
   "source": [
    "#csv_directory = '../Relab-Ingest/output/'\n",
    "base_directory = '../TANAGER-Ingest/output/' # Use output folder\n",
    "print(\"Starting\")\n",
    "# print(len(os.listdir(base_directory)))\n",
    "\n",
    "subdirectories = [d for d in os.listdir(base_directory) \n",
    "                 if os.path.isdir(os.path.join(base_directory, d))]\n",
    "\n",
    "with open(\"ingest_errors.log\", \"w\") as log_file:\n",
    "    for subfolder in subdirectories:\n",
    "        csv_directory = os.path.join(base_directory, subfolder) + '/'\n",
    "        \n",
    "        csv_files = [f for f in os.listdir(csv_directory) if f.endswith('.csv')]\n",
    "        \n",
    "        if not csv_files:\n",
    "            continue\n",
    "    \n",
    "        for ix, file in enumerate(csv_files):\n",
    "            if not file.endswith('.csv'):\n",
    "                continue    \n",
    "\n",
    "            ingest_dict = ingest_sample_csv(csv_directory + file)\n",
    "\n",
    "            sample = ingest_dict[\"sample\"]\n",
    "            print(ingest_dict)\n",
    "\n",
    "            if sample is None:\n",
    "                log_file.write(f\"{ix}: {file} - Skipped, no sample object created.\\n\")\n",
    "                print(\"Error: sample = none\")\n",
    "                continue\n",
    "\n",
    "            try:\n",
    "                sample.clean()\n",
    "                sample.save()\n",
    "            except forms.ValidationError as ve:\n",
    "                log_file.write(f\"{ix}: {file} - ValidationError: {ve}\\n\")\n",
    "                print(\"Error: validation error\")\n",
    "                continue\n",
    "            except IndexError as ie:\n",
    "                log_file.write(f\"{ix}: {file} - IndexError: {ie}\\n\")\n",
    "                print(\"Error: index error\")\n",
    "                continue\n",
    "\n",
    "            if sample.material_class:\n",
    "                sample_type_obj, created = SampleType.objects.get_or_create(name=sample.material_class)\n",
    "                sample.sample_type.add(sample_type_obj)\n",
    "\n",
    "    #         print(sample.id, ix, file)\n",
    "print(\"finished\")"
   ]
  },
  {
   "cell_type": "markdown",
   "metadata": {},
   "source": [
    "## IV.2: filtersets\n",
    "### IV.2.a: creating a new filterset\n",
    "\n",
    "VISOR does not offer a fully automated method for ingesting a new\n",
    "```FilterSet```. This is because response curves for different instruments\n",
    "are given in a wide variety of formats, and we do not have a standardized\n",
    "format for representing them. *Note / TODO: we could develop one, though!\n",
    "--michael* However, it offers a convenience function, ```make_filterset```, designed to help the process."
   ]
  },
  {
   "cell_type": "code",
   "execution_count": null,
   "metadata": {},
   "outputs": [],
   "source": [
    "# start by defining a pandas dataframe with two columns:\n",
    "# filter name and canonical center wavelength.\n",
    "# in this case, we have high-resolution response curves for the instrument --\n",
    "# these center wavelengths are simply the points at which we \n",
    "# convolve the instrument response curve with the lab spectra.\n",
    "\n",
    "# note that we're following the MERTools convention here --\n",
    "# scale to the left eye, don't duplicate filters with centers\n",
    "# within 5nm.\n",
    "# also note that we don't currently have curves for L7/R7, but this doesn't\n",
    "# particularly matter because we're probably not going to be looking at\n",
    "# geological features through them.\n",
    "ZCAM_FREQS = pd.DataFrame(\n",
    "    {\n",
    "        \"filter\": [\n",
    "            \"L0R\", \"L0G\", \"L0B\", \"L1\",\n",
    "            \"L2\", \"L3\", \"L4\", \"L5\",\n",
    "            \"L6\", \"R2\", \"R3\",\n",
    "            \"R4\", \"R5\", \"R6\",\n",
    "        ],\n",
    "        \"wavelength\": [\n",
    "            630, 544, 480, 800,\n",
    "            754, 677, 605, 528,\n",
    "            442, 866, 910, \n",
    "            939, 978, 1022\n",
    "        ],\n",
    "    }\n",
    ")\n",
    "# 5nm-spaced wavelength bins for numerical integration, going\n",
    "# from the bottom to the top of the wavelength ranges referenced\n",
    "# in the ZCAM filter response files\n",
    "ZCAM_BINS = np.arange(300,1105,5)\n",
    "# where are we storing the filter response curve files?\n",
    "ZCAM_FILTER_PATH = 'filters/mastcam_z/'"
   ]
  },
  {
   "cell_type": "code",
   "execution_count": null,
   "metadata": {},
   "outputs": [],
   "source": [
    "# read filter definition files into a dictionary of pandas dataframes\n",
    "# giving wavelength vs. responsivity for each filter.\n",
    "# if we didn't have these files, and only had, say, a specification \n",
    "# for band center + FWHM of each filter, we would numerically generate \n",
    "# responsivity curves for each filter at this step.\n",
    "# note that we load all the curves in, but when we generate simulated\n",
    "# spectra, we only actually use the filters referenced in ZCAM_FREQS,\n",
    "# which becomes the filter_frequencies field of the FilterSet object.\n",
    "filter_files = [file for file in os.listdir(ZCAM_FILTER_PATH)]\n",
    "filters = {}\n",
    "for filter_file in filter_files:\n",
    "    filter_name = re.search(r\"(L|R).{1,2}(?=\\.)\", filter_file).group(0)\n",
    "    filters[filter_name] = pd.read_csv(\n",
    "        ZCAM_FILTER_PATH + filter_file,\n",
    "        names=['wavelength', 'responsivity']\n",
    "    )\n",
    "print(filters.keys())"
   ]
  },
  {
   "cell_type": "code",
   "execution_count": null,
   "metadata": {},
   "outputs": [],
   "source": [
    "# make_filterset is a convenience function that takes the values defined\n",
    "# above, interpolates each filter response curve to the array of shared bins,\n",
    "# power-normalizes each of these interpolated curves, and builds a FilterSet object. \n",
    "# interpolation and normalization are helpful to get consistent results from \n",
    "# numerical integration and present users with apples-to-apples comparisons on \n",
    "# graphs; any consequent loss of precision is not meaningful in this application\n",
    "# (and possibly not at all).\n",
    "# we also pass it a path to a CSV file of solar spectra that will be used to simulate \n",
    "# observations with solar illumination.\n",
    "\n",
    "zcam_filterset = make_filterset(\n",
    "    'Mars-2020 Mast Camera Zoom (Mastcam-Z)',\n",
    "    filters,\n",
    "    ZCAM_BINS,\n",
    "    ZCAM_FREQS,\n",
    "    \"filters/sun_input.csv\"\n",
    ")\n",
    "# set short name and reference URL\n",
    "zcam_filterset.short_name = 'Mastcam-Z'\n",
    "zcam_filterset.url = \"https://www.hou.usra.edu/meetings/lpsc2020/pdf/2312.pdf\"\n",
    "\n",
    "zcam_filterset.clean()\n",
    "zcam_filterset.save()"
   ]
  },
  {
   "cell_type": "markdown",
   "metadata": {},
   "source": [
    "## MAYBE: IV.3: creating new entries manually\n",
    "\n",
    "Automatic import functions aren't the only way to produce new database entries. You can also manually generate them. This will often be more awkward than using import functions, but is preferable or necessary in some cases.\n"
   ]
  },
  {
   "cell_type": "code",
   "execution_count": null,
   "metadata": {},
   "outputs": [],
   "source": [
    "for sample in Sample.objects.all():\n",
    "    sample.released = True\n",
    "    sample.clean()\n",
    "    sample.save(convolve=False)"
   ]
  }
 ],
 "metadata": {
  "kernelspec": {
   "display_name": "Python 3 (ipykernel)",
   "language": "python",
   "name": "python3"
  },
  "language_info": {
   "codemirror_mode": {
    "name": "ipython",
    "version": 3
   },
   "file_extension": ".py",
   "mimetype": "text/x-python",
   "name": "python",
   "nbconvert_exporter": "python",
   "pygments_lexer": "ipython3",
   "version": "3.9.23"
  },
  "varInspector": {
   "cols": {
    "lenName": 16,
    "lenType": 16,
    "lenVar": 40
   },
   "kernels_config": {
    "python": {
     "delete_cmd_postfix": "",
     "delete_cmd_prefix": "del ",
     "library": "var_list.py",
     "varRefreshCmd": "print(var_dic_list())"
    },
    "r": {
     "delete_cmd_postfix": ") ",
     "delete_cmd_prefix": "rm(",
     "library": "var_list.r",
     "varRefreshCmd": "cat(var_dic_list()) "
    }
   },
   "types_to_exclude": [
    "module",
    "function",
    "builtin_function_or_method",
    "instance",
    "_Feature"
   ],
   "window_display": false
  }
 },
 "nbformat": 4,
 "nbformat_minor": 4
}
